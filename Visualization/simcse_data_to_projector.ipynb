{
 "cells": [
  {
   "cell_type": "markdown",
   "id": "04ee9767",
   "metadata": {},
   "source": [
    "### Imports"
   ]
  },
  {
   "cell_type": "code",
   "execution_count": 1,
   "id": "4997b73b",
   "metadata": {},
   "outputs": [],
   "source": [
    "import numpy as np\n",
    "import pandas as pd"
   ]
  },
  {
   "cell_type": "code",
   "execution_count": 2,
   "id": "de9ca95b",
   "metadata": {},
   "outputs": [],
   "source": [
    "data_directory = './data/input/dental_simcse/'"
   ]
  },
  {
   "cell_type": "markdown",
   "id": "5c3ddcbd",
   "metadata": {},
   "source": [
    "### Load the groups found by clustering"
   ]
  },
  {
   "cell_type": "code",
   "execution_count": 3,
   "id": "41f612fa",
   "metadata": {},
   "outputs": [],
   "source": [
    "min_group_25 = pd.read_csv(data_directory+'min_group_25_clusters', sep='\\t', index_col=0)\n",
    "min_group_50 = pd.read_csv(data_directory+'min_group_50_clusters', sep='\\t', index_col=0)"
   ]
  },
  {
   "cell_type": "code",
   "execution_count": 4,
   "id": "68599527",
   "metadata": {},
   "outputs": [],
   "source": [
    "df_min_group = min_group_25.join(min_group_50).copy()\n",
    "df_min_group.index.name = 'Patient ID'"
   ]
  },
  {
   "cell_type": "code",
   "execution_count": 5,
   "id": "ec11225a",
   "metadata": {},
   "outputs": [
    {
     "data": {
      "text/html": [
       "<div>\n",
       "<style scoped>\n",
       "    .dataframe tbody tr th:only-of-type {\n",
       "        vertical-align: middle;\n",
       "    }\n",
       "\n",
       "    .dataframe tbody tr th {\n",
       "        vertical-align: top;\n",
       "    }\n",
       "\n",
       "    .dataframe thead th {\n",
       "        text-align: right;\n",
       "    }\n",
       "</style>\n",
       "<table border=\"1\" class=\"dataframe\">\n",
       "  <thead>\n",
       "    <tr style=\"text-align: right;\">\n",
       "      <th></th>\n",
       "      <th>Min group of 25</th>\n",
       "      <th>Min group of 50</th>\n",
       "    </tr>\n",
       "    <tr>\n",
       "      <th>Patient ID</th>\n",
       "      <th></th>\n",
       "      <th></th>\n",
       "    </tr>\n",
       "  </thead>\n",
       "  <tbody>\n",
       "    <tr>\n",
       "      <th>0</th>\n",
       "      <td>0</td>\n",
       "      <td>0</td>\n",
       "    </tr>\n",
       "    <tr>\n",
       "      <th>1</th>\n",
       "      <td>1</td>\n",
       "      <td>1</td>\n",
       "    </tr>\n",
       "    <tr>\n",
       "      <th>2</th>\n",
       "      <td>1</td>\n",
       "      <td>1</td>\n",
       "    </tr>\n",
       "    <tr>\n",
       "      <th>3</th>\n",
       "      <td>2</td>\n",
       "      <td>2</td>\n",
       "    </tr>\n",
       "    <tr>\n",
       "      <th>4</th>\n",
       "      <td>3</td>\n",
       "      <td>3</td>\n",
       "    </tr>\n",
       "    <tr>\n",
       "      <th>5</th>\n",
       "      <td>4</td>\n",
       "      <td>2</td>\n",
       "    </tr>\n",
       "    <tr>\n",
       "      <th>6</th>\n",
       "      <td>5</td>\n",
       "      <td>2</td>\n",
       "    </tr>\n",
       "    <tr>\n",
       "      <th>7</th>\n",
       "      <td>5</td>\n",
       "      <td>2</td>\n",
       "    </tr>\n",
       "    <tr>\n",
       "      <th>8</th>\n",
       "      <td>6</td>\n",
       "      <td>2</td>\n",
       "    </tr>\n",
       "    <tr>\n",
       "      <th>9</th>\n",
       "      <td>7</td>\n",
       "      <td>2</td>\n",
       "    </tr>\n",
       "  </tbody>\n",
       "</table>\n",
       "</div>"
      ],
      "text/plain": [
       "            Min group of 25  Min group of 50\n",
       "Patient ID                                  \n",
       "0                         0                0\n",
       "1                         1                1\n",
       "2                         1                1\n",
       "3                         2                2\n",
       "4                         3                3\n",
       "5                         4                2\n",
       "6                         5                2\n",
       "7                         5                2\n",
       "8                         6                2\n",
       "9                         7                2"
      ]
     },
     "execution_count": 5,
     "metadata": {},
     "output_type": "execute_result"
    }
   ],
   "source": [
    "df_min_group[:10]"
   ]
  },
  {
   "cell_type": "code",
   "execution_count": 6,
   "id": "d671093c",
   "metadata": {},
   "outputs": [
    {
     "data": {
      "text/plain": [
       "Min group of 25    17\n",
       "Min group of 50     8\n",
       "Name: 200, dtype: int64"
      ]
     },
     "execution_count": 6,
     "metadata": {},
     "output_type": "execute_result"
    }
   ],
   "source": [
    "df_min_group.loc[200]"
   ]
  },
  {
   "cell_type": "markdown",
   "id": "ff47377e",
   "metadata": {},
   "source": [
    "### Load data for first visualization: Top 3 Questions"
   ]
  },
  {
   "cell_type": "code",
   "execution_count": 7,
   "id": "00573b86",
   "metadata": {},
   "outputs": [],
   "source": [
    "top3_labels = df_min_group.copy()"
   ]
  },
  {
   "cell_type": "code",
   "execution_count": 8,
   "id": "a52154c5",
   "metadata": {},
   "outputs": [],
   "source": [
    "top3_text = pd.read_csv(data_directory+'patient_vis_labels.tsv', sep='\\t',index_col='Patient ID')"
   ]
  },
  {
   "cell_type": "code",
   "execution_count": 9,
   "id": "c6c14348",
   "metadata": {},
   "outputs": [],
   "source": [
    "top3_labels = top3_labels.join(top3_text)"
   ]
  },
  {
   "cell_type": "code",
   "execution_count": 10,
   "id": "5160dec6",
   "metadata": {},
   "outputs": [],
   "source": [
    "top3_labels.to_csv(\n",
    "    './models/dental_simcse/data/A. Top 3 questions/top3_metadata.tsv',\n",
    "    sep=\"\\t\",header=True,index=True\n",
    ")"
   ]
  },
  {
   "cell_type": "markdown",
   "id": "6c3c02b1",
   "metadata": {},
   "source": [
    "## Load data for second visualization: All Sentences"
   ]
  },
  {
   "cell_type": "code",
   "execution_count": 11,
   "id": "35e31a7c",
   "metadata": {},
   "outputs": [],
   "source": [
    "all_sentence_labels = pd.read_csv(data_directory+'dental_labels_all.tsv', sep='\\t', index_col=0)"
   ]
  },
  {
   "cell_type": "code",
   "execution_count": 12,
   "id": "93b045c8",
   "metadata": {},
   "outputs": [],
   "source": [
    "all_sentence_labels[['Min group of 25', 'Min group of 50']] = np.ones((len(all_sentence_labels),2)) * -1"
   ]
  },
  {
   "cell_type": "code",
   "execution_count": 13,
   "id": "2e32a182",
   "metadata": {},
   "outputs": [],
   "source": [
    "for i in range(len(all_sentence_labels)):\n",
    "    \n",
    "    pID = all_sentence_labels.iloc[i]['Patient ID']\n",
    "    \n",
    "    found_clusters = df_min_group.loc[pID].values\n",
    "    \n",
    "    all_sentence_labels.loc[i, 'Min group of 25'] = found_clusters[0]\n",
    "    all_sentence_labels.loc[i, 'Min group of 50'] = found_clusters[1]"
   ]
  },
  {
   "cell_type": "code",
   "execution_count": 14,
   "id": "923c41dc",
   "metadata": {},
   "outputs": [],
   "source": [
    "all_sentence_labels.to_csv(\n",
    "    './models/dental_simcse/data/B. All Responses/all_sentences_metadata.tsv',\n",
    "    sep=\"\\t\",header=True,index=True\n",
    ")"
   ]
  },
  {
   "cell_type": "code",
   "execution_count": 15,
   "id": "f4df708f",
   "metadata": {},
   "outputs": [
    {
     "data": {
      "text/plain": [
       "array([17,  8])"
      ]
     },
     "execution_count": 15,
     "metadata": {},
     "output_type": "execute_result"
    }
   ],
   "source": [
    "df_min_group.loc[200].values"
   ]
  },
  {
   "cell_type": "code",
   "execution_count": 16,
   "id": "df49a316",
   "metadata": {},
   "outputs": [
    {
     "data": {
      "text/html": [
       "<div>\n",
       "<style scoped>\n",
       "    .dataframe tbody tr th:only-of-type {\n",
       "        vertical-align: middle;\n",
       "    }\n",
       "\n",
       "    .dataframe tbody tr th {\n",
       "        vertical-align: top;\n",
       "    }\n",
       "\n",
       "    .dataframe thead th {\n",
       "        text-align: right;\n",
       "    }\n",
       "</style>\n",
       "<table border=\"1\" class=\"dataframe\">\n",
       "  <thead>\n",
       "    <tr style=\"text-align: right;\">\n",
       "      <th></th>\n",
       "      <th>Min group of 25</th>\n",
       "      <th>Min group of 50</th>\n",
       "    </tr>\n",
       "    <tr>\n",
       "      <th>Patient ID</th>\n",
       "      <th></th>\n",
       "      <th></th>\n",
       "    </tr>\n",
       "  </thead>\n",
       "  <tbody>\n",
       "    <tr>\n",
       "      <th>199</th>\n",
       "      <td>13</td>\n",
       "      <td>6</td>\n",
       "    </tr>\n",
       "    <tr>\n",
       "      <th>200</th>\n",
       "      <td>17</td>\n",
       "      <td>8</td>\n",
       "    </tr>\n",
       "  </tbody>\n",
       "</table>\n",
       "</div>"
      ],
      "text/plain": [
       "            Min group of 25  Min group of 50\n",
       "Patient ID                                  \n",
       "199                      13                6\n",
       "200                      17                8"
      ]
     },
     "execution_count": 16,
     "metadata": {},
     "output_type": "execute_result"
    }
   ],
   "source": [
    "df_min_group[199:201]"
   ]
  },
  {
   "cell_type": "code",
   "execution_count": 17,
   "id": "c799688e",
   "metadata": {},
   "outputs": [
    {
     "data": {
      "text/html": [
       "<div>\n",
       "<style scoped>\n",
       "    .dataframe tbody tr th:only-of-type {\n",
       "        vertical-align: middle;\n",
       "    }\n",
       "\n",
       "    .dataframe tbody tr th {\n",
       "        vertical-align: top;\n",
       "    }\n",
       "\n",
       "    .dataframe thead th {\n",
       "        text-align: right;\n",
       "    }\n",
       "</style>\n",
       "<table border=\"1\" class=\"dataframe\">\n",
       "  <thead>\n",
       "    <tr style=\"text-align: right;\">\n",
       "      <th></th>\n",
       "      <th>Patient ID</th>\n",
       "      <th>Text</th>\n",
       "      <th>Min group of 25</th>\n",
       "      <th>Min group of 50</th>\n",
       "    </tr>\n",
       "  </thead>\n",
       "  <tbody>\n",
       "    <tr>\n",
       "      <th>1621</th>\n",
       "      <td>200</td>\n",
       "      <td>Verspannungen im Nacken und Kopf bereich</td>\n",
       "      <td>17.0</td>\n",
       "      <td>8.0</td>\n",
       "    </tr>\n",
       "    <tr>\n",
       "      <th>1622</th>\n",
       "      <td>200</td>\n",
       "      <td>keine Verspannungen, keine Kopfschmerzen</td>\n",
       "      <td>17.0</td>\n",
       "      <td>8.0</td>\n",
       "    </tr>\n",
       "    <tr>\n",
       "      <th>1623</th>\n",
       "      <td>200</td>\n",
       "      <td>Beim kauen, vor allem morgens beim aufstehen</td>\n",
       "      <td>17.0</td>\n",
       "      <td>8.0</td>\n",
       "    </tr>\n",
       "    <tr>\n",
       "      <th>1624</th>\n",
       "      <td>200</td>\n",
       "      <td>Klar denken</td>\n",
       "      <td>17.0</td>\n",
       "      <td>8.0</td>\n",
       "    </tr>\n",
       "    <tr>\n",
       "      <th>1625</th>\n",
       "      <td>200</td>\n",
       "      <td>Massage Einheiten</td>\n",
       "      <td>17.0</td>\n",
       "      <td>8.0</td>\n",
       "    </tr>\n",
       "    <tr>\n",
       "      <th>1626</th>\n",
       "      <td>200</td>\n",
       "      <td>ja, ständiger beidseitiger Kopfschmerz</td>\n",
       "      <td>17.0</td>\n",
       "      <td>8.0</td>\n",
       "    </tr>\n",
       "    <tr>\n",
       "      <th>1627</th>\n",
       "      <td>200</td>\n",
       "      <td>nein</td>\n",
       "      <td>17.0</td>\n",
       "      <td>8.0</td>\n",
       "    </tr>\n",
       "    <tr>\n",
       "      <th>1628</th>\n",
       "      <td>200</td>\n",
       "      <td>Psychisch belastend und nicht aushaldbar</td>\n",
       "      <td>17.0</td>\n",
       "      <td>8.0</td>\n",
       "    </tr>\n",
       "  </tbody>\n",
       "</table>\n",
       "</div>"
      ],
      "text/plain": [
       "      Patient ID                                          Text  \\\n",
       "1621         200      Verspannungen im Nacken und Kopf bereich   \n",
       "1622         200      keine Verspannungen, keine Kopfschmerzen   \n",
       "1623         200  Beim kauen, vor allem morgens beim aufstehen   \n",
       "1624         200                                   Klar denken   \n",
       "1625         200                             Massage Einheiten   \n",
       "1626         200        ja, ständiger beidseitiger Kopfschmerz   \n",
       "1627         200                                          nein   \n",
       "1628         200      Psychisch belastend und nicht aushaldbar   \n",
       "\n",
       "      Min group of 25  Min group of 50  \n",
       "1621             17.0              8.0  \n",
       "1622             17.0              8.0  \n",
       "1623             17.0              8.0  \n",
       "1624             17.0              8.0  \n",
       "1625             17.0              8.0  \n",
       "1626             17.0              8.0  \n",
       "1627             17.0              8.0  \n",
       "1628             17.0              8.0  "
      ]
     },
     "execution_count": 17,
     "metadata": {},
     "output_type": "execute_result"
    }
   ],
   "source": [
    "all_sentence_labels[all_sentence_labels['Patient ID'] == 200]"
   ]
  },
  {
   "cell_type": "markdown",
   "id": "3a8e2ac1",
   "metadata": {},
   "source": [
    "## Load data for per question visualizations"
   ]
  },
  {
   "cell_type": "code",
   "execution_count": 18,
   "id": "e4a3ecae",
   "metadata": {},
   "outputs": [],
   "source": [
    "amount_of_questions = 29"
   ]
  },
  {
   "cell_type": "code",
   "execution_count": 19,
   "id": "a424f2df",
   "metadata": {},
   "outputs": [],
   "source": [
    "question_directory = './models/dental_simcse/data/questions/'"
   ]
  },
  {
   "cell_type": "code",
   "execution_count": 29,
   "id": "f79fd5cb",
   "metadata": {},
   "outputs": [],
   "source": [
    "for i in range(amount_of_questions):\n",
    "\n",
    "    question_labels = pd.read_csv(question_directory + f'Q{i}_labels.tsv', sep='\\t', index_col=0)\n",
    "\n",
    "    question_labels = question_labels.join(df_min_group.loc[list(question_labels.index)])\n",
    "\n",
    "    question_labels.to_csv(question_directory + f'Q{i}_labels.tsv', sep='\\t', index=True, header=True)"
   ]
  },
  {
   "cell_type": "code",
   "execution_count": null,
   "id": "36cd63c9",
   "metadata": {},
   "outputs": [],
   "source": []
  }
 ],
 "metadata": {
  "kernelspec": {
   "display_name": "Python 3 (ipykernel)",
   "language": "python",
   "name": "python3"
  },
  "language_info": {
   "codemirror_mode": {
    "name": "ipython",
    "version": 3
   },
   "file_extension": ".py",
   "mimetype": "text/x-python",
   "name": "python",
   "nbconvert_exporter": "python",
   "pygments_lexer": "ipython3",
   "version": "3.9.13"
  }
 },
 "nbformat": 4,
 "nbformat_minor": 5
}
