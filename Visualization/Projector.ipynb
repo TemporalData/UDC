{
 "cells": [
  {
   "cell_type": "markdown",
   "id": "6d3ffc5c",
   "metadata": {},
   "source": [
    "### Imports"
   ]
  },
  {
   "cell_type": "code",
   "execution_count": 5,
   "id": "31eca9cc",
   "metadata": {},
   "outputs": [],
   "source": [
    "import os\n",
    "from tensorboard.plugins import projector\n",
    "import pandas as pd\n",
    "import numpy as np\n",
    "from torch.utils.tensorboard import SummaryWriter"
   ]
  },
  {
   "cell_type": "markdown",
   "id": "fbb49cef",
   "metadata": {},
   "source": [
    "#### Filler variables"
   ]
  },
  {
   "cell_type": "code",
   "execution_count": 6,
   "id": "80b2df86",
   "metadata": {},
   "outputs": [],
   "source": [
    "filler_vectors = np.zeros((10,100))"
   ]
  },
  {
   "cell_type": "code",
   "execution_count": 7,
   "id": "985748a7",
   "metadata": {},
   "outputs": [],
   "source": [
    "filler_labels = [\"\"] * 10"
   ]
  },
  {
   "cell_type": "markdown",
   "id": "bd65030f",
   "metadata": {},
   "source": [
    "### Questions shortened for labels"
   ]
  },
  {
   "cell_type": "code",
   "execution_count": 31,
   "id": "f83c9181",
   "metadata": {},
   "outputs": [],
   "source": [
    "shortened_questions = [\n",
    "    'Q 1: Chief complaint',\n",
    "    'Q 2: Expected result',\n",
    "    'Q 3: Aggravating factors',\n",
    "    'Q 4: Stops you from',\n",
    "    'Q 5: Allieviates complaints',\n",
    "    'Q 6: Eating habits',\n",
    "    'Q 7: Diagnosis',\n",
    "    'Q 8: Personal diagnosis',\n",
    "    'Q 9: Complaint attacks triggered by',\n",
    "    'Q10: Bothersome life events',\n",
    "    'Q11: After which treatment',\n",
    "    'Q12: Pain remarks about head or face',\n",
    "    'Q13: Allergies',\n",
    "    'Q14: Pain remarks about body',\n",
    "    'Q15: Other problems',\n",
    "    'Q16: Tell us anything else',\n",
    "    'Q17: How chief complaint started',\n",
    "    'Q18: Other quality of chief complaint',\n",
    "    'Q19: Which other treatment',\n",
    "    'Q20: I suffer from',\n",
    "    'Q21: Other mouth/jaw related habits',\n",
    "    'Q22: After which accident',\n",
    "    'Q23: Other quality at onset of illness',\n",
    "    'Q24: After which illness',\n",
    "    'Q25: After which emotional stress',\n",
    "    'Q26: Pain remarks about torso',\n",
    "    'Q27: Other performed treatments',\n",
    "    'Q28: After which operation',\n",
    "    'Q29: After which physical stress'\n",
    "]"
   ]
  },
  {
   "cell_type": "code",
   "execution_count": 32,
   "id": "16eb2430",
   "metadata": {},
   "outputs": [
    {
     "data": {
      "text/plain": [
       "29"
      ]
     },
     "execution_count": 32,
     "metadata": {},
     "output_type": "execute_result"
    }
   ],
   "source": [
    "len(shortened_questions)"
   ]
  },
  {
   "cell_type": "markdown",
   "id": "70f9e9a6",
   "metadata": {},
   "source": [
    "## Tensorboard structure generation using SummaryWriter"
   ]
  },
  {
   "cell_type": "code",
   "execution_count": 33,
   "id": "7501a3fb",
   "metadata": {},
   "outputs": [],
   "source": [
    "writer = SummaryWriter(\"models/dental_simcse\")"
   ]
  },
  {
   "cell_type": "code",
   "execution_count": 34,
   "id": "c2e46031",
   "metadata": {},
   "outputs": [],
   "source": [
    "writer.add_embedding(filler_vectors,metadata=filler_labels,tag=\"A. Top 3 questions\")"
   ]
  },
  {
   "cell_type": "code",
   "execution_count": 35,
   "id": "4da1cddb",
   "metadata": {},
   "outputs": [],
   "source": [
    "writer.add_embedding(filler_vectors,metadata=filler_labels,tag=\"B. All Responses\")"
   ]
  },
  {
   "cell_type": "code",
   "execution_count": 36,
   "id": "45c7101a",
   "metadata": {},
   "outputs": [],
   "source": [
    "for q in shortened_questions:\n",
    "    writer.add_embedding(filler_vectors,metadata=filler_labels,tag=q)"
   ]
  },
  {
   "cell_type": "code",
   "execution_count": 37,
   "id": "a185964d",
   "metadata": {},
   "outputs": [],
   "source": [
    "writer.close()"
   ]
  },
  {
   "cell_type": "code",
   "execution_count": null,
   "id": "65cd0d3f",
   "metadata": {},
   "outputs": [],
   "source": []
  },
  {
   "cell_type": "code",
   "execution_count": null,
   "id": "e6db3cd6",
   "metadata": {},
   "outputs": [],
   "source": []
  }
 ],
 "metadata": {
  "kernelspec": {
   "display_name": "Python 3 (ipykernel)",
   "language": "python",
   "name": "python3"
  },
  "language_info": {
   "codemirror_mode": {
    "name": "ipython",
    "version": 3
   },
   "file_extension": ".py",
   "mimetype": "text/x-python",
   "name": "python",
   "nbconvert_exporter": "python",
   "pygments_lexer": "ipython3",
   "version": "3.9.13"
  }
 },
 "nbformat": 4,
 "nbformat_minor": 5
}
