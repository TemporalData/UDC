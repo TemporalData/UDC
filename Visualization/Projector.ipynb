{
 "cells": [
  {
   "cell_type": "code",
   "execution_count": 1,
   "id": "31eca9cc",
   "metadata": {},
   "outputs": [],
   "source": [
    "import os\n",
    "from tensorboard.plugins import projector\n",
    "import pandas as pd\n",
    "import numpy as np\n",
    "from torch.utils.tensorboard import SummaryWriter"
   ]
  },
  {
   "cell_type": "code",
   "execution_count": 21,
   "id": "65010409",
   "metadata": {},
   "outputs": [],
   "source": [
    "filler_vectors = np.zeros((10,100))"
   ]
  },
  {
   "cell_type": "code",
   "execution_count": 31,
   "id": "bf882f00",
   "metadata": {},
   "outputs": [],
   "source": [
    "filler_labels = [\"\"] * 10"
   ]
  },
  {
   "cell_type": "code",
   "execution_count": 35,
   "id": "7501a3fb",
   "metadata": {},
   "outputs": [],
   "source": [
    "writer = SummaryWriter(\"models/dental_simcse\")"
   ]
  },
  {
   "cell_type": "code",
   "execution_count": 36,
   "id": "c2e46031",
   "metadata": {},
   "outputs": [
    {
     "name": "stdout",
     "output_type": "stream",
     "text": [
      "warning: Embedding dir exists, did you set global_step for add_embedding()?\n"
     ]
    }
   ],
   "source": [
    "writer.add_embedding(filler_vectors,metadata=filler_labels,tag=\"CBCB\")"
   ]
  },
  {
   "cell_type": "code",
   "execution_count": 37,
   "id": "a185964d",
   "metadata": {},
   "outputs": [],
   "source": [
    "writer.close()"
   ]
  },
  {
   "cell_type": "code",
   "execution_count": null,
   "id": "50f743b8",
   "metadata": {},
   "outputs": [],
   "source": []
  },
  {
   "cell_type": "code",
   "execution_count": null,
   "id": "38a1c558",
   "metadata": {},
   "outputs": [],
   "source": []
  }
 ],
 "metadata": {
  "kernelspec": {
   "display_name": "Python 3 (ipykernel)",
   "language": "python",
   "name": "python3"
  },
  "language_info": {
   "codemirror_mode": {
    "name": "ipython",
    "version": 3
   },
   "file_extension": ".py",
   "mimetype": "text/x-python",
   "name": "python",
   "nbconvert_exporter": "python",
   "pygments_lexer": "ipython3",
   "version": "3.9.13"
  }
 },
 "nbformat": 4,
 "nbformat_minor": 5
}
