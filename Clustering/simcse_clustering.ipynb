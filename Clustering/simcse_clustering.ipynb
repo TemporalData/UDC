{
 "cells": [
  {
   "cell_type": "markdown",
   "id": "f9d11b59",
   "metadata": {},
   "source": [
    "### Imports"
   ]
  },
  {
   "cell_type": "code",
   "execution_count": 2,
   "id": "575fdedb",
   "metadata": {},
   "outputs": [],
   "source": [
    "import numpy as np\n",
    "import pandas as pd\n",
    "from sklearn.cluster import KMeans, MiniBatchKMeans\n",
    "from sklearn.metrics import calinski_harabasz_score, davies_bouldin_score, silhouette_score\n",
    "from sklearn.mixture import GaussianMixture\n",
    "from tqdm import tqdm\n",
    "from pathlib import Path"
   ]
  },
  {
   "cell_type": "code",
   "execution_count": 3,
   "id": "ee7128dc",
   "metadata": {},
   "outputs": [],
   "source": [
    "from sklearn.preprocessing import minmax_scale\n",
    "import os\n",
    "import math\n",
    "from sklearn.decomposition import PCA"
   ]
  },
  {
   "cell_type": "markdown",
   "id": "b0a4268b",
   "metadata": {},
   "source": [
    "### Load the data"
   ]
  },
  {
   "cell_type": "code",
   "execution_count": 4,
   "id": "9d39731c",
   "metadata": {},
   "outputs": [
    {
     "name": "stdout",
     "output_type": "stream",
     "text": [
      "CPU times: user 1.04 s, sys: 77.5 ms, total: 1.12 s\n",
      "Wall time: 1.22 s\n"
     ]
    }
   ],
   "source": [
    "%%time\n",
    "embedding_data = pd.read_csv('data/input/dental_cluster_input_new.csv',index_col=0)"
   ]
  },
  {
   "cell_type": "markdown",
   "id": "d8eb1e34",
   "metadata": {},
   "source": [
    "### Find rows with NaN values"
   ]
  },
  {
   "cell_type": "code",
   "execution_count": 5,
   "id": "03066231",
   "metadata": {},
   "outputs": [],
   "source": [
    "valid_indicies = []\n",
    "\n",
    "for i in range(len(embedding_data['sentence'])):\n",
    "    current_sentence = embedding_data['sentence'][i]\n",
    "    \n",
    "    if not type(current_sentence) == float:\n",
    "        valid_indicies.append(i)"
   ]
  },
  {
   "cell_type": "code",
   "execution_count": 6,
   "id": "8be88809",
   "metadata": {},
   "outputs": [],
   "source": [
    "valid_dataset = embedding_data.iloc[valid_indicies].copy()\n",
    "\n",
    "# Ensure consistency with indicies\n",
    "valid_dataset.index = np.arange(len(valid_dataset))"
   ]
  },
  {
   "cell_type": "code",
   "execution_count": 7,
   "id": "1cadc923",
   "metadata": {},
   "outputs": [
    {
     "data": {
      "text/plain": [
       "0"
      ]
     },
     "execution_count": 7,
     "metadata": {},
     "output_type": "execute_result"
    }
   ],
   "source": [
    "# Verify no NaN values\n",
    "valid_dataset.isna().sum().sum()"
   ]
  },
  {
   "cell_type": "code",
   "execution_count": 8,
   "id": "e670a8d5",
   "metadata": {},
   "outputs": [],
   "source": [
    "# Remove from memory\n",
    "del embedding_data"
   ]
  },
  {
   "cell_type": "markdown",
   "id": "826cd3c7",
   "metadata": {},
   "source": [
    "### Process the sentence embeddings"
   ]
  },
  {
   "cell_type": "code",
   "execution_count": 9,
   "id": "dabb8e23",
   "metadata": {},
   "outputs": [],
   "source": [
    "sentence_embeddings = valid_dataset['embedding']"
   ]
  },
  {
   "cell_type": "code",
   "execution_count": 10,
   "id": "b3d4e636",
   "metadata": {},
   "outputs": [],
   "source": [
    "# Method to parse the saved embeddings\n",
    "def embedding_string_to_float_list(embedding_string):\n",
    "    # Formatting\n",
    "    formatted_string = embedding_string.split('[')[1].split(']')[0].replace(\"\\n\",\"\")\n",
    "    \n",
    "    float_list = []\n",
    "\n",
    "    for row in formatted_string.split(\" \"):\n",
    "        if not row == '':\n",
    "            float_list.append(float(row))\n",
    "    \n",
    "    return float_list"
   ]
  },
  {
   "cell_type": "code",
   "execution_count": 11,
   "id": "0be46971",
   "metadata": {},
   "outputs": [
    {
     "name": "stderr",
     "output_type": "stream",
     "text": [
      "100%|███████████████████████████████████████████████████████████████████████████████████████████████████████████████████████████████| 16316/16316 [00:02<00:00, 5838.61it/s]\n"
     ]
    }
   ],
   "source": [
    "sentence_embedding_list = []\n",
    "\n",
    "for i in tqdm(range(len(sentence_embeddings))):\n",
    "    sentence_embedding_list.append(embedding_string_to_float_list(sentence_embeddings[i]))   \n",
    "    "
   ]
  },
  {
   "cell_type": "code",
   "execution_count": 12,
   "id": "9205d391",
   "metadata": {},
   "outputs": [],
   "source": [
    "embedding_dataframe = pd.DataFrame(sentence_embedding_list)"
   ]
  },
  {
   "cell_type": "code",
   "execution_count": 13,
   "id": "ca3e9ec6",
   "metadata": {},
   "outputs": [
    {
     "data": {
      "text/html": [
       "<div>\n",
       "<style scoped>\n",
       "    .dataframe tbody tr th:only-of-type {\n",
       "        vertical-align: middle;\n",
       "    }\n",
       "\n",
       "    .dataframe tbody tr th {\n",
       "        vertical-align: top;\n",
       "    }\n",
       "\n",
       "    .dataframe thead th {\n",
       "        text-align: right;\n",
       "    }\n",
       "</style>\n",
       "<table border=\"1\" class=\"dataframe\">\n",
       "  <thead>\n",
       "    <tr style=\"text-align: right;\">\n",
       "      <th></th>\n",
       "      <th>0</th>\n",
       "      <th>1</th>\n",
       "      <th>2</th>\n",
       "      <th>3</th>\n",
       "      <th>4</th>\n",
       "      <th>5</th>\n",
       "      <th>6</th>\n",
       "      <th>7</th>\n",
       "      <th>8</th>\n",
       "      <th>9</th>\n",
       "      <th>...</th>\n",
       "      <th>758</th>\n",
       "      <th>759</th>\n",
       "      <th>760</th>\n",
       "      <th>761</th>\n",
       "      <th>762</th>\n",
       "      <th>763</th>\n",
       "      <th>764</th>\n",
       "      <th>765</th>\n",
       "      <th>766</th>\n",
       "      <th>767</th>\n",
       "    </tr>\n",
       "  </thead>\n",
       "  <tbody>\n",
       "    <tr>\n",
       "      <th>0</th>\n",
       "      <td>0.034062</td>\n",
       "      <td>0.013992</td>\n",
       "      <td>0.014252</td>\n",
       "      <td>-0.030456</td>\n",
       "      <td>0.028877</td>\n",
       "      <td>0.033559</td>\n",
       "      <td>0.017332</td>\n",
       "      <td>0.035528</td>\n",
       "      <td>-0.064723</td>\n",
       "      <td>-0.004354</td>\n",
       "      <td>...</td>\n",
       "      <td>-0.081443</td>\n",
       "      <td>-0.004202</td>\n",
       "      <td>0.000352</td>\n",
       "      <td>-0.023411</td>\n",
       "      <td>0.046932</td>\n",
       "      <td>-0.032391</td>\n",
       "      <td>-0.046974</td>\n",
       "      <td>0.059409</td>\n",
       "      <td>-0.073823</td>\n",
       "      <td>-0.023436</td>\n",
       "    </tr>\n",
       "    <tr>\n",
       "      <th>1</th>\n",
       "      <td>-0.072521</td>\n",
       "      <td>0.026935</td>\n",
       "      <td>-0.042975</td>\n",
       "      <td>0.031925</td>\n",
       "      <td>0.025261</td>\n",
       "      <td>0.020041</td>\n",
       "      <td>0.036362</td>\n",
       "      <td>-0.025237</td>\n",
       "      <td>0.011913</td>\n",
       "      <td>0.028049</td>\n",
       "      <td>...</td>\n",
       "      <td>0.025571</td>\n",
       "      <td>0.060598</td>\n",
       "      <td>0.021523</td>\n",
       "      <td>-0.032708</td>\n",
       "      <td>0.010081</td>\n",
       "      <td>0.019088</td>\n",
       "      <td>0.075229</td>\n",
       "      <td>-0.001422</td>\n",
       "      <td>0.061387</td>\n",
       "      <td>-0.013585</td>\n",
       "    </tr>\n",
       "    <tr>\n",
       "      <th>2</th>\n",
       "      <td>-0.020250</td>\n",
       "      <td>0.080377</td>\n",
       "      <td>0.008891</td>\n",
       "      <td>-0.054059</td>\n",
       "      <td>-0.061299</td>\n",
       "      <td>0.032137</td>\n",
       "      <td>-0.019862</td>\n",
       "      <td>-0.004791</td>\n",
       "      <td>-0.003684</td>\n",
       "      <td>0.029694</td>\n",
       "      <td>...</td>\n",
       "      <td>-0.004164</td>\n",
       "      <td>0.049371</td>\n",
       "      <td>-0.020510</td>\n",
       "      <td>-0.000520</td>\n",
       "      <td>0.020457</td>\n",
       "      <td>-0.005845</td>\n",
       "      <td>0.002068</td>\n",
       "      <td>-0.019667</td>\n",
       "      <td>0.048704</td>\n",
       "      <td>-0.040016</td>\n",
       "    </tr>\n",
       "    <tr>\n",
       "      <th>3</th>\n",
       "      <td>-0.064010</td>\n",
       "      <td>0.014544</td>\n",
       "      <td>0.015366</td>\n",
       "      <td>0.007376</td>\n",
       "      <td>0.042618</td>\n",
       "      <td>-0.004455</td>\n",
       "      <td>0.068092</td>\n",
       "      <td>-0.013669</td>\n",
       "      <td>0.001125</td>\n",
       "      <td>-0.043526</td>\n",
       "      <td>...</td>\n",
       "      <td>0.067604</td>\n",
       "      <td>-0.033537</td>\n",
       "      <td>0.022114</td>\n",
       "      <td>0.019851</td>\n",
       "      <td>0.010399</td>\n",
       "      <td>0.010969</td>\n",
       "      <td>0.074038</td>\n",
       "      <td>0.027083</td>\n",
       "      <td>-0.015570</td>\n",
       "      <td>0.033565</td>\n",
       "    </tr>\n",
       "    <tr>\n",
       "      <th>4</th>\n",
       "      <td>-0.009215</td>\n",
       "      <td>0.050368</td>\n",
       "      <td>0.023119</td>\n",
       "      <td>0.030543</td>\n",
       "      <td>0.028008</td>\n",
       "      <td>0.010728</td>\n",
       "      <td>0.045672</td>\n",
       "      <td>0.054670</td>\n",
       "      <td>-0.065691</td>\n",
       "      <td>-0.024182</td>\n",
       "      <td>...</td>\n",
       "      <td>-0.019737</td>\n",
       "      <td>-0.037893</td>\n",
       "      <td>0.011956</td>\n",
       "      <td>0.016581</td>\n",
       "      <td>0.018186</td>\n",
       "      <td>-0.036472</td>\n",
       "      <td>-0.006878</td>\n",
       "      <td>-0.002135</td>\n",
       "      <td>-0.009683</td>\n",
       "      <td>0.011702</td>\n",
       "    </tr>\n",
       "    <tr>\n",
       "      <th>...</th>\n",
       "      <td>...</td>\n",
       "      <td>...</td>\n",
       "      <td>...</td>\n",
       "      <td>...</td>\n",
       "      <td>...</td>\n",
       "      <td>...</td>\n",
       "      <td>...</td>\n",
       "      <td>...</td>\n",
       "      <td>...</td>\n",
       "      <td>...</td>\n",
       "      <td>...</td>\n",
       "      <td>...</td>\n",
       "      <td>...</td>\n",
       "      <td>...</td>\n",
       "      <td>...</td>\n",
       "      <td>...</td>\n",
       "      <td>...</td>\n",
       "      <td>...</td>\n",
       "      <td>...</td>\n",
       "      <td>...</td>\n",
       "      <td>...</td>\n",
       "    </tr>\n",
       "    <tr>\n",
       "      <th>16311</th>\n",
       "      <td>0.004346</td>\n",
       "      <td>0.028686</td>\n",
       "      <td>0.005832</td>\n",
       "      <td>-0.009570</td>\n",
       "      <td>-0.013020</td>\n",
       "      <td>0.059503</td>\n",
       "      <td>0.008206</td>\n",
       "      <td>-0.007141</td>\n",
       "      <td>-0.061534</td>\n",
       "      <td>0.085434</td>\n",
       "      <td>...</td>\n",
       "      <td>0.008846</td>\n",
       "      <td>0.012409</td>\n",
       "      <td>0.007637</td>\n",
       "      <td>0.000734</td>\n",
       "      <td>0.028507</td>\n",
       "      <td>0.034318</td>\n",
       "      <td>-0.004622</td>\n",
       "      <td>-0.009212</td>\n",
       "      <td>0.078548</td>\n",
       "      <td>-0.015268</td>\n",
       "    </tr>\n",
       "    <tr>\n",
       "      <th>16312</th>\n",
       "      <td>0.064416</td>\n",
       "      <td>0.001641</td>\n",
       "      <td>0.027482</td>\n",
       "      <td>-0.004933</td>\n",
       "      <td>-0.000269</td>\n",
       "      <td>-0.002164</td>\n",
       "      <td>-0.000324</td>\n",
       "      <td>-0.043461</td>\n",
       "      <td>0.022244</td>\n",
       "      <td>0.044613</td>\n",
       "      <td>...</td>\n",
       "      <td>-0.069417</td>\n",
       "      <td>-0.073531</td>\n",
       "      <td>-0.020159</td>\n",
       "      <td>-0.032370</td>\n",
       "      <td>0.016101</td>\n",
       "      <td>-0.037128</td>\n",
       "      <td>-0.041885</td>\n",
       "      <td>-0.020341</td>\n",
       "      <td>-0.065208</td>\n",
       "      <td>-0.070507</td>\n",
       "    </tr>\n",
       "    <tr>\n",
       "      <th>16313</th>\n",
       "      <td>0.024033</td>\n",
       "      <td>-0.056897</td>\n",
       "      <td>-0.009784</td>\n",
       "      <td>-0.017642</td>\n",
       "      <td>0.046868</td>\n",
       "      <td>0.050847</td>\n",
       "      <td>0.053478</td>\n",
       "      <td>-0.032478</td>\n",
       "      <td>-0.048117</td>\n",
       "      <td>-0.012153</td>\n",
       "      <td>...</td>\n",
       "      <td>-0.027825</td>\n",
       "      <td>0.004736</td>\n",
       "      <td>0.000375</td>\n",
       "      <td>0.067848</td>\n",
       "      <td>0.032955</td>\n",
       "      <td>-0.019453</td>\n",
       "      <td>-0.006210</td>\n",
       "      <td>0.010971</td>\n",
       "      <td>-0.055669</td>\n",
       "      <td>-0.066040</td>\n",
       "    </tr>\n",
       "    <tr>\n",
       "      <th>16314</th>\n",
       "      <td>0.007316</td>\n",
       "      <td>-0.015769</td>\n",
       "      <td>0.008998</td>\n",
       "      <td>-0.043925</td>\n",
       "      <td>0.023506</td>\n",
       "      <td>0.035210</td>\n",
       "      <td>0.027905</td>\n",
       "      <td>-0.003970</td>\n",
       "      <td>-0.041485</td>\n",
       "      <td>-0.029756</td>\n",
       "      <td>...</td>\n",
       "      <td>0.021643</td>\n",
       "      <td>0.007241</td>\n",
       "      <td>-0.025989</td>\n",
       "      <td>0.007757</td>\n",
       "      <td>0.057442</td>\n",
       "      <td>-0.004804</td>\n",
       "      <td>-0.013610</td>\n",
       "      <td>0.021214</td>\n",
       "      <td>-0.037111</td>\n",
       "      <td>-0.077928</td>\n",
       "    </tr>\n",
       "    <tr>\n",
       "      <th>16315</th>\n",
       "      <td>0.000684</td>\n",
       "      <td>0.038835</td>\n",
       "      <td>0.010543</td>\n",
       "      <td>-0.049855</td>\n",
       "      <td>-0.023381</td>\n",
       "      <td>0.009205</td>\n",
       "      <td>0.022959</td>\n",
       "      <td>-0.032188</td>\n",
       "      <td>0.023679</td>\n",
       "      <td>0.008336</td>\n",
       "      <td>...</td>\n",
       "      <td>-0.028701</td>\n",
       "      <td>-0.007136</td>\n",
       "      <td>-0.038265</td>\n",
       "      <td>0.001017</td>\n",
       "      <td>0.054423</td>\n",
       "      <td>-0.028581</td>\n",
       "      <td>-0.063003</td>\n",
       "      <td>-0.004001</td>\n",
       "      <td>-0.006968</td>\n",
       "      <td>-0.072732</td>\n",
       "    </tr>\n",
       "  </tbody>\n",
       "</table>\n",
       "<p>16316 rows × 768 columns</p>\n",
       "</div>"
      ],
      "text/plain": [
       "            0         1         2         3         4         5         6    \\\n",
       "0      0.034062  0.013992  0.014252 -0.030456  0.028877  0.033559  0.017332   \n",
       "1     -0.072521  0.026935 -0.042975  0.031925  0.025261  0.020041  0.036362   \n",
       "2     -0.020250  0.080377  0.008891 -0.054059 -0.061299  0.032137 -0.019862   \n",
       "3     -0.064010  0.014544  0.015366  0.007376  0.042618 -0.004455  0.068092   \n",
       "4     -0.009215  0.050368  0.023119  0.030543  0.028008  0.010728  0.045672   \n",
       "...         ...       ...       ...       ...       ...       ...       ...   \n",
       "16311  0.004346  0.028686  0.005832 -0.009570 -0.013020  0.059503  0.008206   \n",
       "16312  0.064416  0.001641  0.027482 -0.004933 -0.000269 -0.002164 -0.000324   \n",
       "16313  0.024033 -0.056897 -0.009784 -0.017642  0.046868  0.050847  0.053478   \n",
       "16314  0.007316 -0.015769  0.008998 -0.043925  0.023506  0.035210  0.027905   \n",
       "16315  0.000684  0.038835  0.010543 -0.049855 -0.023381  0.009205  0.022959   \n",
       "\n",
       "            7         8         9    ...       758       759       760  \\\n",
       "0      0.035528 -0.064723 -0.004354  ... -0.081443 -0.004202  0.000352   \n",
       "1     -0.025237  0.011913  0.028049  ...  0.025571  0.060598  0.021523   \n",
       "2     -0.004791 -0.003684  0.029694  ... -0.004164  0.049371 -0.020510   \n",
       "3     -0.013669  0.001125 -0.043526  ...  0.067604 -0.033537  0.022114   \n",
       "4      0.054670 -0.065691 -0.024182  ... -0.019737 -0.037893  0.011956   \n",
       "...         ...       ...       ...  ...       ...       ...       ...   \n",
       "16311 -0.007141 -0.061534  0.085434  ...  0.008846  0.012409  0.007637   \n",
       "16312 -0.043461  0.022244  0.044613  ... -0.069417 -0.073531 -0.020159   \n",
       "16313 -0.032478 -0.048117 -0.012153  ... -0.027825  0.004736  0.000375   \n",
       "16314 -0.003970 -0.041485 -0.029756  ...  0.021643  0.007241 -0.025989   \n",
       "16315 -0.032188  0.023679  0.008336  ... -0.028701 -0.007136 -0.038265   \n",
       "\n",
       "            761       762       763       764       765       766       767  \n",
       "0     -0.023411  0.046932 -0.032391 -0.046974  0.059409 -0.073823 -0.023436  \n",
       "1     -0.032708  0.010081  0.019088  0.075229 -0.001422  0.061387 -0.013585  \n",
       "2     -0.000520  0.020457 -0.005845  0.002068 -0.019667  0.048704 -0.040016  \n",
       "3      0.019851  0.010399  0.010969  0.074038  0.027083 -0.015570  0.033565  \n",
       "4      0.016581  0.018186 -0.036472 -0.006878 -0.002135 -0.009683  0.011702  \n",
       "...         ...       ...       ...       ...       ...       ...       ...  \n",
       "16311  0.000734  0.028507  0.034318 -0.004622 -0.009212  0.078548 -0.015268  \n",
       "16312 -0.032370  0.016101 -0.037128 -0.041885 -0.020341 -0.065208 -0.070507  \n",
       "16313  0.067848  0.032955 -0.019453 -0.006210  0.010971 -0.055669 -0.066040  \n",
       "16314  0.007757  0.057442 -0.004804 -0.013610  0.021214 -0.037111 -0.077928  \n",
       "16315  0.001017  0.054423 -0.028581 -0.063003 -0.004001 -0.006968 -0.072732  \n",
       "\n",
       "[16316 rows x 768 columns]"
      ]
     },
     "execution_count": 13,
     "metadata": {},
     "output_type": "execute_result"
    }
   ],
   "source": [
    "# This dataframe holds the embedding of the corresponding row in valid_dataset\n",
    "embedding_dataframe"
   ]
  },
  {
   "cell_type": "code",
   "execution_count": 14,
   "id": "2e7f53c3",
   "metadata": {},
   "outputs": [],
   "source": [
    "# Remove the column from valid_dataset as its redundant\n",
    "del valid_dataset['embedding']"
   ]
  },
  {
   "cell_type": "markdown",
   "id": "2b6d3644",
   "metadata": {},
   "source": [
    "#### Save the embeddings into a .tsv file for use in the visualization"
   ]
  },
  {
   "cell_type": "code",
   "execution_count": 15,
   "id": "8be03e26",
   "metadata": {},
   "outputs": [],
   "source": [
    "#Check whether output directory exists\n",
    "Path('./data/output').mkdir(parents=True, exist_ok=True)"
   ]
  },
  {
   "cell_type": "code",
   "execution_count": 16,
   "id": "397f2392",
   "metadata": {},
   "outputs": [],
   "source": [
    "# Write the valid embeddings to a .tsv file for visualization\n",
    "embedding_dataframe.to_csv(\n",
    "    f'data/output/model_simcse_data_dental_vectors_all.tsv',\n",
    "    sep=\"\\t\",header=False,index=False)"
   ]
  },
  {
   "cell_type": "markdown",
   "id": "a00484f7",
   "metadata": {},
   "source": [
    "### Clean '\\n' from sentences and create labels dataframe"
   ]
  },
  {
   "cell_type": "code",
   "execution_count": 17,
   "id": "d5ff6203",
   "metadata": {},
   "outputs": [],
   "source": [
    "clean_sentences = []\n",
    "\n",
    "for sentence in valid_dataset['sentence']:\n",
    "    clean_sentences.append(sentence.replace('\\n',' '))"
   ]
  },
  {
   "cell_type": "code",
   "execution_count": 18,
   "id": "e3fbb06d",
   "metadata": {},
   "outputs": [],
   "source": [
    "labels = pd.DataFrame(clean_sentences, columns=['sentence'])"
   ]
  },
  {
   "cell_type": "code",
   "execution_count": 19,
   "id": "ae02b533",
   "metadata": {
    "scrolled": false
   },
   "outputs": [
    {
     "data": {
      "text/html": [
       "<div>\n",
       "<style scoped>\n",
       "    .dataframe tbody tr th:only-of-type {\n",
       "        vertical-align: middle;\n",
       "    }\n",
       "\n",
       "    .dataframe tbody tr th {\n",
       "        vertical-align: top;\n",
       "    }\n",
       "\n",
       "    .dataframe thead th {\n",
       "        text-align: right;\n",
       "    }\n",
       "</style>\n",
       "<table border=\"1\" class=\"dataframe\">\n",
       "  <thead>\n",
       "    <tr style=\"text-align: right;\">\n",
       "      <th></th>\n",
       "      <th>sentence</th>\n",
       "    </tr>\n",
       "  </thead>\n",
       "  <tbody>\n",
       "    <tr>\n",
       "      <th>0</th>\n",
       "      <td>Schmerzen im Kiefergelenk</td>\n",
       "    </tr>\n",
       "    <tr>\n",
       "      <th>1</th>\n",
       "      <td>Schmerzfreiheit</td>\n",
       "    </tr>\n",
       "    <tr>\n",
       "      <th>2</th>\n",
       "      <td>essen vor allem harte, zähe Speisen, wenn das ...</td>\n",
       "    </tr>\n",
       "    <tr>\n",
       "      <th>3</th>\n",
       "      <td>Essen</td>\n",
       "    </tr>\n",
       "    <tr>\n",
       "      <th>4</th>\n",
       "      <td>wenn der Kiefer entspannt ist</td>\n",
       "    </tr>\n",
       "    <tr>\n",
       "      <th>...</th>\n",
       "      <td>...</td>\n",
       "    </tr>\n",
       "    <tr>\n",
       "      <th>16311</th>\n",
       "      <td>vor ca 6 Jahren ich dachte habe loch im zahn D...</td>\n",
       "    </tr>\n",
       "    <tr>\n",
       "      <th>16312</th>\n",
       "      <td>naechltliches zaehneknirschen mit kopschmerzen...</td>\n",
       "    </tr>\n",
       "    <tr>\n",
       "      <th>16313</th>\n",
       "      <td>ueberpruefung der knirschschienen eventuelle a...</td>\n",
       "    </tr>\n",
       "    <tr>\n",
       "      <th>16314</th>\n",
       "      <td>Mundoeffenen schmerzhaft  seelische Belsatung</td>\n",
       "    </tr>\n",
       "    <tr>\n",
       "      <th>16315</th>\n",
       "      <td>massage des kiefergelenekes , waerem und kaelt...</td>\n",
       "    </tr>\n",
       "  </tbody>\n",
       "</table>\n",
       "<p>16316 rows × 1 columns</p>\n",
       "</div>"
      ],
      "text/plain": [
       "                                                sentence\n",
       "0                              Schmerzen im Kiefergelenk\n",
       "1                                        Schmerzfreiheit\n",
       "2      essen vor allem harte, zähe Speisen, wenn das ...\n",
       "3                                                  Essen\n",
       "4                          wenn der Kiefer entspannt ist\n",
       "...                                                  ...\n",
       "16311  vor ca 6 Jahren ich dachte habe loch im zahn D...\n",
       "16312  naechltliches zaehneknirschen mit kopschmerzen...\n",
       "16313  ueberpruefung der knirschschienen eventuelle a...\n",
       "16314      Mundoeffenen schmerzhaft  seelische Belsatung\n",
       "16315  massage des kiefergelenekes , waerem und kaelt...\n",
       "\n",
       "[16316 rows x 1 columns]"
      ]
     },
     "execution_count": 19,
     "metadata": {},
     "output_type": "execute_result"
    }
   ],
   "source": [
    "labels"
   ]
  },
  {
   "cell_type": "code",
   "execution_count": 20,
   "id": "f52df8fd",
   "metadata": {},
   "outputs": [],
   "source": [
    "# Store the cleaned labels into the valid_dataset\n",
    "valid_dataset['sentence'] = labels.copy()"
   ]
  },
  {
   "cell_type": "markdown",
   "id": "311540d5",
   "metadata": {},
   "source": [
    "#### Save the patient id's per embedding for use in the visualization"
   ]
  },
  {
   "cell_type": "code",
   "execution_count": 21,
   "id": "db96c9e1",
   "metadata": {},
   "outputs": [],
   "source": [
    "pID_text = pd.DataFrame(valid_dataset['row'].copy())\n",
    "pID_text.columns = ['Patient ID']"
   ]
  },
  {
   "cell_type": "code",
   "execution_count": 22,
   "id": "544ebf4b",
   "metadata": {},
   "outputs": [],
   "source": [
    "pID_text['Text'] = labels"
   ]
  },
  {
   "cell_type": "code",
   "execution_count": 23,
   "id": "1c03195f",
   "metadata": {},
   "outputs": [
    {
     "data": {
      "text/html": [
       "<div>\n",
       "<style scoped>\n",
       "    .dataframe tbody tr th:only-of-type {\n",
       "        vertical-align: middle;\n",
       "    }\n",
       "\n",
       "    .dataframe tbody tr th {\n",
       "        vertical-align: top;\n",
       "    }\n",
       "\n",
       "    .dataframe thead th {\n",
       "        text-align: right;\n",
       "    }\n",
       "</style>\n",
       "<table border=\"1\" class=\"dataframe\">\n",
       "  <thead>\n",
       "    <tr style=\"text-align: right;\">\n",
       "      <th></th>\n",
       "      <th>Patient ID</th>\n",
       "      <th>Text</th>\n",
       "    </tr>\n",
       "  </thead>\n",
       "  <tbody>\n",
       "    <tr>\n",
       "      <th>0</th>\n",
       "      <td>0</td>\n",
       "      <td>Schmerzen im Kiefergelenk</td>\n",
       "    </tr>\n",
       "    <tr>\n",
       "      <th>1</th>\n",
       "      <td>0</td>\n",
       "      <td>Schmerzfreiheit</td>\n",
       "    </tr>\n",
       "    <tr>\n",
       "      <th>2</th>\n",
       "      <td>0</td>\n",
       "      <td>essen vor allem harte, zähe Speisen, wenn das ...</td>\n",
       "    </tr>\n",
       "    <tr>\n",
       "      <th>3</th>\n",
       "      <td>0</td>\n",
       "      <td>Essen</td>\n",
       "    </tr>\n",
       "    <tr>\n",
       "      <th>4</th>\n",
       "      <td>0</td>\n",
       "      <td>wenn der Kiefer entspannt ist</td>\n",
       "    </tr>\n",
       "  </tbody>\n",
       "</table>\n",
       "</div>"
      ],
      "text/plain": [
       "   Patient ID                                               Text\n",
       "0           0                          Schmerzen im Kiefergelenk\n",
       "1           0                                    Schmerzfreiheit\n",
       "2           0  essen vor allem harte, zähe Speisen, wenn das ...\n",
       "3           0                                              Essen\n",
       "4           0                      wenn der Kiefer entspannt ist"
      ]
     },
     "execution_count": 23,
     "metadata": {},
     "output_type": "execute_result"
    }
   ],
   "source": [
    "pID_text.head()"
   ]
  },
  {
   "cell_type": "code",
   "execution_count": 24,
   "id": "58b1eb3c",
   "metadata": {},
   "outputs": [],
   "source": [
    "pID_text.to_csv('./data/output/dental_labels_all.tsv', sep='\\t', header=True, index=True)"
   ]
  },
  {
   "cell_type": "markdown",
   "id": "92aa4f03",
   "metadata": {},
   "source": [
    "# Finding optimal k per question"
   ]
  },
  {
   "cell_type": "code",
   "execution_count": 26,
   "id": "5e320d70",
   "metadata": {},
   "outputs": [],
   "source": [
    "# Create folder if it doesn't exist yet\n",
    "Path(f'./data/output/visualization/').mkdir(parents=True, exist_ok=True)\n",
    "\n",
    "# Create folder if it doesn't exist yet\n",
    "Path(f'./data/output/questions/').mkdir(parents=True, exist_ok=True)\n",
    "\n",
    "# Select all the question IDs in the dataset\n",
    "q_col = sorted(valid_dataset['column'].unique())"
   ]
  },
  {
   "cell_type": "markdown",
   "id": "facbcf06",
   "metadata": {},
   "source": [
    "### KMeans helper functions"
   ]
  },
  {
   "cell_type": "code",
   "execution_count": 27,
   "id": "4ec2e504",
   "metadata": {},
   "outputs": [],
   "source": [
    "# Function to run kmeans on dataset and produce metrics per k\n",
    "# Input - X represents the data, k_min is the lower bound of k, k_max is the upper bound of k\n",
    "# Output - 4 columns representing [k, db_index, ch_index, sil_cof]\n",
    "def generate_kmeans_metrics(X, k_min = 2, k_max = 10):\n",
    "    \n",
    "    output = []\n",
    "\n",
    "    for i in range(k_min,k_max+1):\n",
    "        \n",
    "        cur_kmeans = KMeans(n_clusters=i,random_state=7).fit(X)\n",
    "\n",
    "        predicted_labels = cur_kmeans.labels_\n",
    "\n",
    "        db_score = davies_bouldin_score(X, predicted_labels)\n",
    "        ch_score = calinski_harabasz_score(X, predicted_labels)\n",
    "        sil_score = silhouette_score(X, predicted_labels)\n",
    "\n",
    "        output.append([\n",
    "            i,\n",
    "            db_score,\n",
    "            ch_score,\n",
    "            sil_score\n",
    "        ])\n",
    "        \n",
    "    return pd.DataFrame(output, columns=['k','db','ch','sil'])"
   ]
  },
  {
   "cell_type": "code",
   "execution_count": 28,
   "id": "1ab0cabe",
   "metadata": {},
   "outputs": [],
   "source": [
    "# Function to compute the best k clusters based on the parsed indicies\n",
    "# Input: Pandas Dataframe with columns 'k', 'db', 'ch', 'sil'\n",
    "# Output: k which is the optimal number of clusters, dataframe with \n",
    "def compute_metris_kmeans_best_k(df_indicies):\n",
    "    \n",
    "    df_indicies['db_scale'] = minmax_scale(df_indicies['db'])\n",
    "    df_indicies['ch_scale'] = minmax_scale(df_indicies['ch'])\n",
    "    \n",
    "    df_indicies['combined_index'] = df_indicies['sil'] + df_indicies['ch_scale'] - df_indicies['db_scale']\n",
    "    \n",
    "    df_indicies = df_indicies.sort_values(by='combined_index', ascending=False)\n",
    "    \n",
    "    return int(df_indicies.iloc[0][0]), df_indicies   "
   ]
  },
  {
   "cell_type": "code",
   "execution_count": 29,
   "id": "92c21797",
   "metadata": {},
   "outputs": [],
   "source": [
    "# Function to run kmeans and output the optimal k clusters\n",
    "def kmeans_compute_optimal_k(X, i):\n",
    "    \n",
    "    # Run kMeans and compute metrics for k = [2,10]\n",
    "    metrics = generate_kmeans_metrics(X)\n",
    "\n",
    "    # Compute the optimal k based on the metrics\n",
    "    k_best, vis_data = compute_metris_kmeans_best_k(metrics)\n",
    "\n",
    "    # Save the data for the visualization\n",
    "    pd.DataFrame(vis_data).to_csv(f'data/output/visualization/Q{i}_kmeans_metrics.csv')\n",
    "    \n",
    "    return k_best"
   ]
  },
  {
   "cell_type": "markdown",
   "id": "715bd2e6",
   "metadata": {},
   "source": [
    "### GMM helper functions"
   ]
  },
  {
   "cell_type": "code",
   "execution_count": 30,
   "id": "a667ca5d",
   "metadata": {},
   "outputs": [],
   "source": [
    "# Function to run gmm on dataset and produce metrics per k\n",
    "# Input - X represents the data, k_min is the lower bound of k, k_max is the upper bound of k\n",
    "# Output - 6 columns representing [k, db_index, ch_index, sil_cof, aic, bic]\n",
    "def generate_gmm_metrics(X, k_min = 2, k_max = 20):\n",
    "    \n",
    "    output = []\n",
    "\n",
    "    for i in range(k_min,k_max+1):\n",
    "        cur_gmm = GaussianMixture(n_components=i, random_state=7).fit(X)\n",
    "\n",
    "        predicted_labels = cur_gmm.predict(X)\n",
    "\n",
    "        db_score = davies_bouldin_score(X, predicted_labels)\n",
    "        ch_score = calinski_harabasz_score(X, predicted_labels)\n",
    "        sil_score = silhouette_score(X, predicted_labels)\n",
    "\n",
    "        output.append([\n",
    "            i,\n",
    "            db_score,\n",
    "            ch_score,\n",
    "            sil_score,\n",
    "            cur_gmm.aic(X),\n",
    "            cur_gmm.bic(X)\n",
    "        ])\n",
    "        \n",
    "    return pd.DataFrame(output, columns=['k','db','ch','sil','aic','bic'])"
   ]
  },
  {
   "cell_type": "code",
   "execution_count": 31,
   "id": "5830bc80",
   "metadata": {},
   "outputs": [],
   "source": [
    "# Function to compute the best k clusters based on the parsed indicies\n",
    "# Input: Pandas Dataframe with columns 'k', 'db', 'ch', 'sil', 'aic', 'bic'\n",
    "# Output: k which is the optimal number of clusters, dataframe\n",
    "def compute_metris_gmm_best_k(df_indicies):\n",
    "    \n",
    "    df_indicies['db_scale'] = minmax_scale(df_indicies['db'])\n",
    "    df_indicies['ch_scale'] = minmax_scale(df_indicies['ch'])\n",
    "    df_indicies['aic_scale'] = minmax_scale(df_indicies['aic'])\n",
    "    df_indicies['bic_scale'] = minmax_scale(df_indicies['bic'])\n",
    "    \n",
    "    df_indicies['combined_index'] = (\n",
    "        df_indicies['sil'] + df_indicies['ch_scale'] - df_indicies['db_scale'] -\n",
    "        df_indicies['aic_scale'] - df_indicies['bic_scale']\n",
    "    )\n",
    "    \n",
    "    df_indicies = df_indicies.sort_values(by='combined_index', ascending=False)\n",
    "    \n",
    "    return int(df_indicies.iloc[0][0]), df_indicies   "
   ]
  },
  {
   "cell_type": "code",
   "execution_count": 32,
   "id": "a5bdf73c",
   "metadata": {},
   "outputs": [],
   "source": [
    "# Function to run kmeans and output the optimal k clusters\n",
    "def gmm_compute_optimal_k(X, i):\n",
    "    \n",
    "    # Run gmm and compute metrics for k = [2,10]\n",
    "    metrics = generate_gmm_metrics(X,2,10)\n",
    "\n",
    "    # Compute the optimal k based on the metrics\n",
    "    k_best, vis_data = compute_metris_gmm_best_k(metrics)\n",
    "\n",
    "    # Save the data for the visualization\n",
    "    pd.DataFrame(vis_data).to_csv(f'data/output/visualization/Q{i}_gmm_metrics.csv')\n",
    "    \n",
    "    return k_best"
   ]
  },
  {
   "cell_type": "markdown",
   "id": "cc6086e5",
   "metadata": {},
   "source": [
    "## Compute KMeans and GMM"
   ]
  },
  {
   "cell_type": "code",
   "execution_count": 34,
   "id": "7a037717",
   "metadata": {},
   "outputs": [
    {
     "name": "stderr",
     "output_type": "stream",
     "text": [
      "100%|███████████████████████████████████████████████████████████████████████████████████████████████████████████████████████████████████████| 29/29 [12:30<00:00, 25.87s/it]\n"
     ]
    }
   ],
   "source": [
    "# Loop all the question columns\n",
    "for i in tqdm(q_col):\n",
    "\n",
    "    # Find the rows which include a response to this question\n",
    "    indicies_of_question = valid_dataset[valid_dataset['column'] == i].index\n",
    "\n",
    "    # Set X to the embeddings that represent the text responses\n",
    "    X = embedding_dataframe.iloc[indicies_of_question]\n",
    "    \n",
    "    # Compute best k means\n",
    "    k_best = kmeans_compute_optimal_k(X, i)\n",
    "\n",
    "    # Obtain the labels by rerunnnig KMeans with the optimal k clusters and the same random_state as before\n",
    "    best_KMeans = KMeans(n_clusters=k_best,random_state=7).fit(X)\n",
    "\n",
    "    # Compute best gmm\n",
    "    n_best = gmm_compute_optimal_k(X, i)\n",
    "\n",
    "    # Obtain the labels by rerunnnig GMM with the optimal k clusters and the same random_state as before\n",
    "    best_GMM = GaussianMixture(n_components=n_best,random_state=7).fit(X)\n",
    "\n",
    "    # Save the IDs of the patients to the labels dataframe\n",
    "    labels = pd.DataFrame(valid_dataset.iloc[indicies_of_question][['row','sentence']])\n",
    "    labels.columns = ['Patient ID', 'Text']\n",
    "\n",
    "    # Add a column to the labels corresponding to the labels assigned by the optimal kmeans clustering output\n",
    "    labels['k_means'] = best_KMeans.labels_\n",
    "    \n",
    "    # Add a column to the labels corresponding to the labels assigned by the optimal kmeans clustering output\n",
    "    labels['gmm'] = best_GMM.predict(X)\n",
    "\n",
    "    # Write the labels and vectors to a .tsv file for visualization\n",
    "    labels.to_csv(f'data/output/questions/Q{i}_labels.tsv',sep=\"\\t\",header=True,index=False)\n",
    "    X.to_csv(f'data/output/questions/Q{i}_vectors.tsv',sep=\"\\t\",header=False,index=False)"
   ]
  },
  {
   "cell_type": "markdown",
   "id": "283b33d8",
   "metadata": {},
   "source": [
    "## Output data for visualization with all patients (based on top 3 questions)"
   ]
  },
  {
   "cell_type": "code",
   "execution_count": 292,
   "id": "c3eb6e8b",
   "metadata": {},
   "outputs": [],
   "source": [
    "indicies_for_pca = pd.DataFrame(index=np.arange(len(valid_dataset['row'].unique())), columns=np.arange(3))"
   ]
  },
  {
   "cell_type": "code",
   "execution_count": 293,
   "id": "f3501970",
   "metadata": {},
   "outputs": [],
   "source": [
    "# Loop the dataset to place all the rows in indicies_for_pca\n",
    "for i in range(len(valid_dataset)):\n",
    "    \n",
    "    current_entry = valid_dataset.iloc[i]\n",
    "    \n",
    "    if current_entry['column'] < 3:\n",
    "        indicies_for_pca.iloc[current_entry['row'],current_entry['column']] = i"
   ]
  },
  {
   "cell_type": "code",
   "execution_count": 294,
   "id": "2a14eeea",
   "metadata": {},
   "outputs": [],
   "source": [
    "# Loop the indicies of the desired embeddings and place them in an np array\n",
    "\n",
    "len_embedding = len(embedding_dataframe.columns)\n",
    "\n",
    "pca_values = np.zeros((indicies_for_pca.shape[0],len_embedding*3))\n",
    "\n",
    "for i in range(indicies_for_pca.shape[1]):\n",
    "    \n",
    "    for j in range(indicies_for_pca.shape[0]):\n",
    "        \n",
    "        current_row_id = indicies_for_pca.iloc[j,i]\n",
    "        \n",
    "        if not(current_row_id is np.nan):\n",
    "            pca_values[j][i*len_embedding:(i+1)*len_embedding] = embedding_dataframe.iloc[current_row_id]"
   ]
  },
  {
   "cell_type": "code",
   "execution_count": 287,
   "id": "b7f8addb",
   "metadata": {},
   "outputs": [],
   "source": [
    "# Export the embeddings of questions 0-2\n",
    "pd.DataFrame(pca_values).to_csv(f'data/output/patient_vis_vectors_all.tsv',sep=\"\\t\",header=False,index=False)"
   ]
  },
  {
   "cell_type": "code",
   "execution_count": 295,
   "id": "e06de963",
   "metadata": {},
   "outputs": [],
   "source": [
    "# Declare a pandas dataframe to place the text of the responses\n",
    "text_for_pca = pd.DataFrame(\"\",index=np.arange(len(valid_dataset['row'].unique())), columns=np.arange(3))"
   ]
  },
  {
   "cell_type": "code",
   "execution_count": 296,
   "id": "aff8af1c",
   "metadata": {},
   "outputs": [],
   "source": [
    "for i in range(indicies_for_pca.shape[1]):\n",
    "    \n",
    "    for j in range(indicies_for_pca.shape[0]):\n",
    "        \n",
    "        current_row_id = indicies_for_pca.iloc[j,i]\n",
    "        \n",
    "        if not(current_row_id is np.nan):\n",
    "            text_for_pca[i][j] = valid_dataset.loc[current_row_id]['sentence']"
   ]
  },
  {
   "cell_type": "code",
   "execution_count": 297,
   "id": "933139a9",
   "metadata": {},
   "outputs": [],
   "source": [
    "# Rename the columns with summarized question content\n",
    "text_for_pca.columns = ['Chief complaint','Expected results', 'Factors that aggravate complaints']\n",
    "text_for_pca.insert(0,'Patient ID',text_for_pca.index)"
   ]
  },
  {
   "cell_type": "code",
   "execution_count": 298,
   "id": "081842ea",
   "metadata": {
    "scrolled": true
   },
   "outputs": [],
   "source": [
    "# Export the labels for visualization\n",
    "text_for_pca.to_csv(f'data/output/patient_vis_labels.tsv',sep=\"\\t\",header=True,index=False)"
   ]
  },
  {
   "cell_type": "markdown",
   "id": "5fdc4ce1",
   "metadata": {},
   "source": [
    "### Computing clustering using all sentences"
   ]
  },
  {
   "cell_type": "code",
   "execution_count": 36,
   "id": "8a533470",
   "metadata": {},
   "outputs": [],
   "source": [
    "i = 100\n",
    "\n",
    "# Set X to the embeddings that represent the text responses\n",
    "X = embedding_dataframe\n",
    "\n",
    "# Compute best k means\n",
    "k_best = kmeans_compute_optimal_k(X, i)\n",
    "\n",
    "# Obtain the labels by rerunnnig KMeans with the optimal k clusters and the same random_state as before\n",
    "best_KMeans = KMeans(n_clusters=k_best,random_state=7).fit(X)\n",
    "\n",
    "# Compute best gmm\n",
    "n_best = gmm_compute_optimal_k(X, i)\n",
    "\n",
    "# Obtain the labels by rerunnnig GMM with the optimal k clusters and the same random_state as before\n",
    "best_GMM = GaussianMixture(n_components=n_best,random_state=7).fit(X)\n",
    "\n",
    "# Save the IDs of the patients to the labels dataframe\n",
    "labels = pd.DataFrame(valid_dataset[['row','sentence']])\n",
    "labels.columns = ['Patient ID', 'Text']\n",
    "\n",
    "# Add a column to the labels corresponding to the labels assigned by the optimal kmeans clustering output\n",
    "labels['k_means'] = best_KMeans.labels_\n",
    "\n",
    "# Add a column to the labels corresponding to the labels assigned by the optimal kmeans clustering output\n",
    "labels['gmm'] = best_GMM.predict(X)\n",
    "\n",
    "# Write the labels and vectors to a .tsv file for visualization\n",
    "labels.to_csv(f'data/output/all_sentence_labels.tsv',sep=\"\\t\",header=True,index=False)\n",
    "X.to_csv(f'data/output/all_sentence_vectors.tsv',sep=\"\\t\",header=False,index=False)"
   ]
  },
  {
   "cell_type": "code",
   "execution_count": null,
   "id": "a657d72d",
   "metadata": {},
   "outputs": [],
   "source": []
  }
 ],
 "metadata": {
  "kernelspec": {
   "display_name": "Python 3 (ipykernel)",
   "language": "python",
   "name": "python3"
  },
  "language_info": {
   "codemirror_mode": {
    "name": "ipython",
    "version": 3
   },
   "file_extension": ".py",
   "mimetype": "text/x-python",
   "name": "python",
   "nbconvert_exporter": "python",
   "pygments_lexer": "ipython3",
   "version": "3.9.13"
  }
 },
 "nbformat": 4,
 "nbformat_minor": 5
}
