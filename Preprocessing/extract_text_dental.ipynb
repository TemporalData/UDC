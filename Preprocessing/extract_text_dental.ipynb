{
 "cells": [
  {
   "cell_type": "markdown",
   "id": "e18ef7f7",
   "metadata": {},
   "source": [
    "## Imports"
   ]
  },
  {
   "cell_type": "code",
   "execution_count": 1,
   "id": "f3561ea6",
   "metadata": {},
   "outputs": [],
   "source": [
    "import numpy as np\n",
    "import pandas as pd\n",
    "import matplotlib.pyplot as plt\n",
    "import datetime\n",
    "import string\n",
    "from pathlib import Path\n",
    "from tqdm import tqdm"
   ]
  },
  {
   "cell_type": "markdown",
   "id": "17b8323f",
   "metadata": {},
   "source": [
    "## Reading in the excel"
   ]
  },
  {
   "cell_type": "code",
   "execution_count": 2,
   "id": "821ca277",
   "metadata": {},
   "outputs": [],
   "source": [
    "df = pd.read_excel(r'data/input/input_results.xlsx')"
   ]
  },
  {
   "cell_type": "markdown",
   "id": "539d4389",
   "metadata": {},
   "source": [
    "### Global variables"
   ]
  },
  {
   "cell_type": "code",
   "execution_count": 3,
   "id": "4a04f162",
   "metadata": {},
   "outputs": [
    {
     "name": "stdout",
     "output_type": "stream",
     "text": [
      "Rows: 2236, Columns: 671\n"
     ]
    }
   ],
   "source": [
    "rows_len, columns_len = df.shape\n",
    "\n",
    "print(\"Rows: \" + str(rows_len) + \", Columns: \" + str(columns_len))"
   ]
  },
  {
   "cell_type": "markdown",
   "id": "c2032ead",
   "metadata": {},
   "source": [
    "## Cleaning data set"
   ]
  },
  {
   "cell_type": "code",
   "execution_count": 4,
   "id": "b580337d",
   "metadata": {},
   "outputs": [],
   "source": [
    "# Drop all columns with only NAN values\n",
    "clean_data = df.dropna(axis=1, how='all')"
   ]
  },
  {
   "cell_type": "code",
   "execution_count": 5,
   "id": "acfcb33c",
   "metadata": {},
   "outputs": [],
   "source": [
    "# Remove the consent and extra questions at the end from the survey data\n",
    "clean_data = clean_data.iloc[:,:417]"
   ]
  },
  {
   "cell_type": "markdown",
   "id": "1aaa4482",
   "metadata": {},
   "source": [
    "### Clean the columns"
   ]
  },
  {
   "cell_type": "code",
   "execution_count": 6,
   "id": "87172253",
   "metadata": {},
   "outputs": [],
   "source": [
    "format_column_names = list(clean_data.columns)"
   ]
  },
  {
   "cell_type": "code",
   "execution_count": 7,
   "id": "9ab8d005",
   "metadata": {},
   "outputs": [],
   "source": [
    "# Sanitize the column names that have \"\\xa0\" in the title\n",
    "for i in range(len(format_column_names)):\n",
    "    cur_col_name = format_column_names[i]\n",
    "    if '\\xa0' in cur_col_name:\n",
    "        format_column_names[i] = (' '.join(cur_col_name.split()))\n",
    "        "
   ]
  },
  {
   "cell_type": "code",
   "execution_count": 8,
   "id": "3a3f8b2b",
   "metadata": {},
   "outputs": [],
   "source": [
    "# Sanitize the column names that has the form \"* [...]\" in the title\n",
    "for i in range(len(format_column_names)):\n",
    "    cur_col_name = format_column_names[i]\n",
    "    if '*' in cur_col_name[0]:\n",
    "        format_column_names[i] = (cur_col_name.lstrip('* [').replace(']','').replace('[',' ').strip())"
   ]
  },
  {
   "cell_type": "code",
   "execution_count": 9,
   "id": "5e8c042f",
   "metadata": {},
   "outputs": [],
   "source": [
    "duplicate_counter = 0\n",
    "seen_list = []\n",
    "\n",
    "for i in range(len(format_column_names)):\n",
    "    cur_col_name = format_column_names[i]\n",
    "    if(not(cur_col_name in seen_list)):\n",
    "        seen_list.append(cur_col_name)\n",
    "    else:\n",
    "        # Encountered a duplicate column name, hence increment\n",
    "        duplicate_counter += 1\n",
    "        \n",
    "        #Replace the current column name with a unique name\n",
    "        format_column_names[i] = cur_col_name+\"_\"+str(duplicate_counter)\n",
    "    "
   ]
  },
  {
   "cell_type": "code",
   "execution_count": 10,
   "id": "c43f8074",
   "metadata": {},
   "outputs": [],
   "source": [
    "clean_data.columns = format_column_names"
   ]
  },
  {
   "cell_type": "markdown",
   "id": "97cb0d23",
   "metadata": {},
   "source": [
    "#### Remove rows with NAN responses to the important columns"
   ]
  },
  {
   "cell_type": "code",
   "execution_count": 11,
   "id": "cdf6d7d9",
   "metadata": {},
   "outputs": [],
   "source": [
    "# Drop all rows with NAN values for the three main features\n",
    "clean_data = clean_data.dropna(axis=0, subset=['Three main features merged (AS, AT, AU)'])"
   ]
  },
  {
   "cell_type": "markdown",
   "id": "9d332b85",
   "metadata": {},
   "source": [
    "#### Removing irrelevant columns\n",
    "\n",
    "These were found by manual inspection"
   ]
  },
  {
   "cell_type": "code",
   "execution_count": 12,
   "id": "43e52f71",
   "metadata": {},
   "outputs": [],
   "source": [
    "irrelevant_columns = []\n",
    "with open(r'data/input/dental_irrelevant_columns.txt') as input_file:\n",
    "    for line in input_file:\n",
    "        irrelevant_columns.append(line.split(\"\\n\")[0])"
   ]
  },
  {
   "cell_type": "code",
   "execution_count": 13,
   "id": "a7a2a522",
   "metadata": {},
   "outputs": [],
   "source": [
    "clean_data = clean_data.drop(labels=irrelevant_columns, axis=1)"
   ]
  },
  {
   "cell_type": "markdown",
   "id": "6818900e",
   "metadata": {},
   "source": [
    "#### Removing internal calculations"
   ]
  },
  {
   "cell_type": "code",
   "execution_count": 14,
   "id": "cbe69b61",
   "metadata": {},
   "outputs": [],
   "source": [
    "# Read in the column names where there is an internal calculation present\n",
    "columns_internal_calculation = []\n",
    "\n",
    "for col in clean_data.columns:\n",
    "    # Column names starting with '{' are calculations from other cells in the excel\n",
    "    if col[0] == '{':\n",
    "        columns_internal_calculation.append(col)\n",
    "        \n",
    "# Check if save directory exists and create if not\n",
    "Path('./data/output/dental_removed_columns').mkdir(parents=True, exist_ok=True)\n",
    "        \n",
    "# Save the column names to a local file\n",
    "pd.DataFrame(columns_internal_calculation).to_csv(\n",
    "    'data/output/dental_removed_columns/columns_internal_calculation',\n",
    "    index=False,header=False)\n",
    "\n",
    "# Remove the columns from the dataFrame\n",
    "clean_data = clean_data.drop(labels=columns_internal_calculation, axis=1)\n",
    "\n",
    "# Clear memory\n",
    "del columns_internal_calculation"
   ]
  },
  {
   "cell_type": "markdown",
   "id": "f2332bda",
   "metadata": {},
   "source": [
    "#### Remove group time"
   ]
  },
  {
   "cell_type": "code",
   "execution_count": 15,
   "id": "5db41de7",
   "metadata": {},
   "outputs": [],
   "source": [
    "# Read in the column names where there is an internal calculation present\n",
    "columns_group_time = []\n",
    "\n",
    "for col in clean_data.columns:\n",
    "    # Column names starting with '{' are calculations from other cells in the excel\n",
    "    if 'Group time:' in col:\n",
    "        columns_group_time.append(col)\n",
    "        \n",
    "# Check if save directory exists and create if not\n",
    "Path('./data/output/dental_removed_columns').mkdir(parents=True, exist_ok=True)\n",
    "        \n",
    "# Save the column names to a local file\n",
    "pd.DataFrame(columns_group_time).to_csv(\n",
    "    'data/output/dental_removed_columns/columns_group_time',\n",
    "    index=False,header=False)\n",
    "\n",
    "# Remove the columns from the dataFrame\n",
    "clean_data = clean_data.drop(labels=columns_group_time, axis=1)\n",
    "\n",
    "# Clear memory\n",
    "del columns_group_time"
   ]
  },
  {
   "cell_type": "markdown",
   "id": "3455d71e",
   "metadata": {},
   "source": [
    "#### Comparison of before and after initial data cleaning"
   ]
  },
  {
   "cell_type": "code",
   "execution_count": 16,
   "id": "a0291411",
   "metadata": {},
   "outputs": [
    {
     "name": "stdout",
     "output_type": "stream",
     "text": [
      "(2236, 671)\n",
      "(2128, 359)\n"
     ]
    }
   ],
   "source": [
    "print(df.shape)\n",
    "print(clean_data.shape)"
   ]
  },
  {
   "cell_type": "code",
   "execution_count": 17,
   "id": "83737a38",
   "metadata": {},
   "outputs": [
    {
     "name": "stdout",
     "output_type": "stream",
     "text": [
      "Change in rows: -108\n",
      "Change in columns: -312\n"
     ]
    }
   ],
   "source": [
    "print(\"Change in rows: \" +\n",
    "      str(clean_data.shape[0] - df.shape[0]) +\n",
    "      \"\\nChange in columns: \" +\n",
    "      str(clean_data.shape[1] - df.shape[1]))"
   ]
  },
  {
   "cell_type": "markdown",
   "id": "5c9cbd90",
   "metadata": {},
   "source": [
    "## Exploration"
   ]
  },
  {
   "cell_type": "markdown",
   "id": "1dc9dd2d",
   "metadata": {},
   "source": [
    "### Nan count per column"
   ]
  },
  {
   "cell_type": "code",
   "execution_count": 18,
   "id": "1bceb6df",
   "metadata": {},
   "outputs": [],
   "source": [
    "bar_chart1_data = rows_len - df.isna().sum()"
   ]
  },
  {
   "cell_type": "code",
   "execution_count": 19,
   "id": "1d6ca8f3",
   "metadata": {},
   "outputs": [
    {
     "data": {
      "image/png": "[encoded data removed]",
      "text/plain": [
       "<Figure size 432x288 with 1 Axes>"
      ]
     },
     "metadata": {
      "needs_background": "light"
     },
     "output_type": "display_data"
    }
   ],
   "source": [
    "plt.bar(range(len(bar_chart1_data)),bar_chart1_data.values)\n",
    "plt.title('Response Overview')\n",
    "plt.xlabel('Column')\n",
    "plt.ylabel('Answer Count')\n",
    "plt.show()"
   ]
  },
  {
   "cell_type": "code",
   "execution_count": 20,
   "id": "b4d2ce2f",
   "metadata": {},
   "outputs": [
    {
     "data": {
      "image/png": "[encoded data removed]",
      "text/plain": [
       "<Figure size 432x288 with 1 Axes>"
      ]
     },
     "metadata": {
      "needs_background": "light"
     },
     "output_type": "display_data"
    }
   ],
   "source": [
    "plt.hist(bar_chart1_data, bins=25)\n",
    "plt.title('Distribution of responses in the data')\n",
    "plt.xlabel('Amount of responses')\n",
    "plt.ylabel('Number of columns')\n",
    "plt.show()"
   ]
  },
  {
   "cell_type": "code",
   "execution_count": 21,
   "id": "fe75cad6",
   "metadata": {},
   "outputs": [],
   "source": [
    "bar_chart2_data = clean_data.shape[0] - clean_data.isna().sum()\n",
    "bar_chart2_data = bar_chart2_data.sort_values(ascending=False) / clean_data.shape[0]"
   ]
  },
  {
   "cell_type": "code",
   "execution_count": 22,
   "id": "dfb6db50",
   "metadata": {},
   "outputs": [
    {
     "name": "stdout",
     "output_type": "stream",
     "text": [
      "Columns present in the cleaned data set: 359\n"
     ]
    }
   ],
   "source": [
    "print(\"Columns present in the cleaned data set:\",len(bar_chart2_data))"
   ]
  },
  {
   "cell_type": "code",
   "execution_count": 23,
   "id": "6e3c2c33",
   "metadata": {},
   "outputs": [
    {
     "data": {
      "image/png": "[encoded data removed]",
      "text/plain": [
       "<Figure size 432x288 with 1 Axes>"
      ]
     },
     "metadata": {
      "needs_background": "light"
     },
     "output_type": "display_data"
    }
   ],
   "source": [
    "# Description of plot\n",
    "plt.title('Valid values in dental data set')\n",
    "plt.xlabel('Column (sorted by valid values)')\n",
    "plt.ylabel('Valid values (%)')\n",
    "\n",
    "# Plot the line\n",
    "plt.plot(range(len(bar_chart2_data)),bar_chart2_data.values*100, color='#2b8cbe')\n",
    "\n",
    "# Shade the area below the plotted line\n",
    "plt.fill_between(\n",
    "    np.arange(0,len(bar_chart2_data)),\n",
    "    np.zeros(len(bar_chart2_data)),\n",
    "    bar_chart2_data.values*100,\n",
    "    color='#a6bddb'\n",
    ")\n",
    "\n",
    "# Adjusted settings for visual clarity\n",
    "plt.ylim([0,100])\n",
    "plt.xlim([0,len(bar_chart2_data)])\n",
    "\n",
    "# Check if save directory exists and create if not\n",
    "Path('./visualization').mkdir(parents=True, exist_ok=True)\n",
    "\n",
    "plt.savefig('visualization/dental_valid_values.png', dpi=600)\n",
    "\n",
    "plt.show()"
   ]
  },
  {
   "cell_type": "markdown",
   "id": "19dc81f7",
   "metadata": {},
   "source": [
    "### Finding types of responses"
   ]
  },
  {
   "cell_type": "code",
   "execution_count": 24,
   "id": "56fd9b05",
   "metadata": {},
   "outputs": [],
   "source": [
    "col_types = clean_data.dtypes.astype('string')"
   ]
  },
  {
   "cell_type": "code",
   "execution_count": 25,
   "id": "143c7c14",
   "metadata": {},
   "outputs": [],
   "source": [
    "pie_chart1_data = col_types.value_counts(dropna=False)"
   ]
  },
  {
   "cell_type": "code",
   "execution_count": 26,
   "id": "898fc13e",
   "metadata": {},
   "outputs": [
    {
     "data": {
      "text/plain": [
       "Index(['object', 'float64', 'int64'], dtype='string')"
      ]
     },
     "execution_count": 26,
     "metadata": {},
     "output_type": "execute_result"
    }
   ],
   "source": [
    "pie_chart1_data.index"
   ]
  },
  {
   "cell_type": "code",
   "execution_count": 27,
   "id": "b50801fc",
   "metadata": {},
   "outputs": [
    {
     "data": {
      "image/png": "[encoded data removed]",
      "text/plain": [
       "<Figure size 432x288 with 1 Axes>"
      ]
     },
     "metadata": {},
     "output_type": "display_data"
    }
   ],
   "source": [
    "# Pie chart, where the slices will be ordered and plotted counter-clockwise:\n",
    "labels = ['string', 'float64', 'int64']\n",
    "sizes = pie_chart1_data.values\n",
    "explode = (0.1, 0, 0)\n",
    "\n",
    "#add colors\n",
    "colors = ['#2b8cbe','#a6bddb','#ece7f2']\n",
    "\n",
    "fig1, ax1 = plt.subplots()\n",
    "ax1.pie(sizes, explode=explode, labels=labels, autopct='%1.1f%%',\n",
    "        shadow=False, startangle=180, colors=colors)\n",
    "ax1.axis('equal')  # Equal aspect ratio ensures that pie is drawn as a circle.\n",
    "\n",
    "ax1.set_title(\"Data types present\")\n",
    "\n",
    "\n",
    "# Check if save directory exists and create if not\n",
    "Path('./visualization').mkdir(parents=True, exist_ok=True)\n",
    "\n",
    "plt.savefig('visualization/dental_data_types.png', dpi=600)\n",
    "\n",
    "plt.show()"
   ]
  },
  {
   "cell_type": "markdown",
   "id": "857160c5",
   "metadata": {},
   "source": [
    "### 'Start language' statistics"
   ]
  },
  {
   "cell_type": "code",
   "execution_count": 28,
   "id": "c5f5f38f",
   "metadata": {},
   "outputs": [
    {
     "data": {
      "text/plain": [
       "de       2035\n",
       "en         63\n",
       "pt-BR      29\n",
       "th          1\n",
       "Name: Start language, dtype: int64"
      ]
     },
     "execution_count": 28,
     "metadata": {},
     "output_type": "execute_result"
    }
   ],
   "source": [
    "clean_data['Start language'].value_counts()"
   ]
  },
  {
   "cell_type": "code",
   "execution_count": 29,
   "id": "01413c52",
   "metadata": {},
   "outputs": [
    {
     "data": {
      "text/plain": [
       "de       95.629699\n",
       "en        2.960526\n",
       "pt-BR     1.362782\n",
       "th        0.046992\n",
       "Name: Start language, dtype: float64"
      ]
     },
     "execution_count": 29,
     "metadata": {},
     "output_type": "execute_result"
    }
   ],
   "source": [
    "(clean_data['Start language'].value_counts() / clean_data.shape[0] ) * 100"
   ]
  },
  {
   "cell_type": "markdown",
   "id": "d896e126",
   "metadata": {},
   "source": [
    "### Determining the data type of each column"
   ]
  },
  {
   "cell_type": "code",
   "execution_count": 30,
   "id": "95d7b8be",
   "metadata": {},
   "outputs": [],
   "source": [
    "unique_types = np.array(col_types.unique())"
   ]
  },
  {
   "cell_type": "code",
   "execution_count": 31,
   "id": "bf888b7d",
   "metadata": {},
   "outputs": [],
   "source": [
    "column_index_list = list(range(0,len(col_types)))\n",
    "\n",
    "# Declare an empty list\n",
    "index_type_list = []\n",
    "\n",
    "for type_name in unique_types:\n",
    "    temp_list = []\n",
    "    for i in range(0,len(column_index_list)):\n",
    "        current = col_types[column_index_list[i]]\n",
    "        if current == type_name:\n",
    "            temp_list.append(col_types.index[i])\n",
    "            \n",
    "    index_type_list.append(temp_list)\n",
    "    \n",
    "    del temp_list\n"
   ]
  },
  {
   "cell_type": "code",
   "execution_count": 32,
   "id": "cb861f0e",
   "metadata": {},
   "outputs": [],
   "source": [
    "types_dict = dict(zip(unique_types, np.arange(0,len(unique_types))))"
   ]
  },
  {
   "cell_type": "code",
   "execution_count": 33,
   "id": "a5778d1e",
   "metadata": {},
   "outputs": [
    {
     "data": {
      "text/plain": [
       "{'int64': 0, 'object': 1, 'float64': 2}"
      ]
     },
     "execution_count": 33,
     "metadata": {},
     "output_type": "execute_result"
    }
   ],
   "source": [
    "types_dict"
   ]
  },
  {
   "cell_type": "markdown",
   "id": "9e5fb7b1",
   "metadata": {},
   "source": [
    "### Seperating the date time from the object types in the index_type_list"
   ]
  },
  {
   "cell_type": "code",
   "execution_count": 34,
   "id": "4ebee35c",
   "metadata": {},
   "outputs": [],
   "source": [
    "#TODO remove date-time entry from the index_type_list[1] (object) to a new place in that list"
   ]
  },
  {
   "cell_type": "code",
   "execution_count": 35,
   "id": "9fff54cf",
   "metadata": {},
   "outputs": [
    {
     "name": "stderr",
     "output_type": "stream",
     "text": [
      "100%|█████████████████████████████████████████████████████████████████████████████████████████████████████████████████████████████████████| 359/359 [00:13<00:00, 26.09it/s]\n"
     ]
    }
   ],
   "source": [
    "date_column_list = []\n",
    "\n",
    "# Method for searching the value in the dataset\n",
    "for i in tqdm(range(0,len(clean_data.columns))):\n",
    "    for j in range(0,len(clean_data)):\n",
    "        cur_value = clean_data.iloc[j,i]\n",
    "        try:\n",
    "            datetime.datetime.strptime(str(cur_value), '%Y-%m-%d %H:%M:%S')\n",
    "            date_column_list.append(clean_data.columns[i])\n",
    "            break\n",
    "        except ValueError:\n",
    "            pass"
   ]
  },
  {
   "cell_type": "code",
   "execution_count": 36,
   "id": "83211ef4",
   "metadata": {},
   "outputs": [],
   "source": [
    "# Add a new list that represents datetime, while removing those entries from the 'object' list from index_type_list\n",
    "index_type_list.append(date_column_list)\n",
    "types_dict['datetime'] = 3\n",
    "\n",
    "for col_name in date_column_list:\n",
    "    index_type_list[types_dict['object']].remove(col_name)"
   ]
  },
  {
   "cell_type": "code",
   "execution_count": 37,
   "id": "50b4e72d",
   "metadata": {},
   "outputs": [],
   "source": [
    "# Finding the response amounts per column\n",
    "column_response_amounts = clean_data[index_type_list[types_dict['object']]].nunique().sort_values()"
   ]
  },
  {
   "cell_type": "code",
   "execution_count": 38,
   "id": "d92a3783",
   "metadata": {},
   "outputs": [],
   "source": [
    "# Taking the columns where there are more than 16 unique responses\n",
    "text_columns = list(column_response_amounts.index[np.where(column_response_amounts > 16)])\n",
    "text_columns.reverse()"
   ]
  },
  {
   "cell_type": "code",
   "execution_count": 39,
   "id": "649daf0b",
   "metadata": {},
   "outputs": [],
   "source": [
    "# Remove certain columns from the text_columns due to unneeded information\n",
    "text_columns.remove('Pension claim or pension because of:')\n",
    "text_columns.remove('Do you have any remarks regarding the your medication intake? Please enter them below.')\n",
    "text_columns.remove('To whom do you feel to be a burden?')\n"
   ]
  },
  {
   "cell_type": "code",
   "execution_count": 40,
   "id": "32129208",
   "metadata": {},
   "outputs": [],
   "source": [
    "# Select the columns from the data set with text entries in the columns (and unique entries > 16)\n",
    "text_clean_data = clean_data[text_columns]"
   ]
  },
  {
   "cell_type": "code",
   "execution_count": 41,
   "id": "e908c65c",
   "metadata": {},
   "outputs": [],
   "source": [
    "pd.DataFrame(text_columns).to_csv('./data/output/questions.txt', index=False, header=False)"
   ]
  },
  {
   "cell_type": "code",
   "execution_count": 42,
   "id": "96ea131f",
   "metadata": {},
   "outputs": [
    {
     "data": {
      "text/plain": [
       "45396"
      ]
     },
     "execution_count": 42,
     "metadata": {},
     "output_type": "execute_result"
    }
   ],
   "source": [
    "# Amount of null values in the text data set\n",
    "text_clean_data.isnull().sum().sum()"
   ]
  },
  {
   "cell_type": "code",
   "execution_count": 43,
   "id": "09efc322",
   "metadata": {},
   "outputs": [
    {
     "data": {
      "text/plain": [
       "(2128, 29)"
      ]
     },
     "execution_count": 43,
     "metadata": {},
     "output_type": "execute_result"
    }
   ],
   "source": [
    "text_clean_data.shape"
   ]
  },
  {
   "cell_type": "markdown",
   "id": "46ddbc09",
   "metadata": {},
   "source": [
    "## Unique entries chart"
   ]
  },
  {
   "cell_type": "code",
   "execution_count": 44,
   "id": "8c013f12",
   "metadata": {},
   "outputs": [
    {
     "data": {
      "text/plain": [
       "29"
      ]
     },
     "execution_count": 44,
     "metadata": {},
     "output_type": "execute_result"
    }
   ],
   "source": [
    "len(text_clean_data.columns)"
   ]
  },
  {
   "cell_type": "code",
   "execution_count": 45,
   "id": "32a187ca",
   "metadata": {},
   "outputs": [],
   "source": [
    "chart3_data_unique = text_clean_data.nunique() / text_clean_data.shape[0]\n",
    "chart3_data_nan = text_clean_data.isna().sum() / text_clean_data.shape[0]"
   ]
  },
  {
   "cell_type": "code",
   "execution_count": 46,
   "id": "25e0f432",
   "metadata": {},
   "outputs": [
    {
     "data": {
      "image/png": "[encoded data removed]",
      "text/plain": [
       "<Figure size 432x288 with 1 Axes>"
      ]
     },
     "metadata": {
      "needs_background": "light"
     },
     "output_type": "display_data"
    }
   ],
   "source": [
    "# Description of plot\n",
    "plt.title('Unique entries in text subset of dental data set')\n",
    "plt.xlabel('Column (sorted by unique entries)')\n",
    "plt.ylabel('Unique entries (%)')\n",
    "\n",
    "x_range_chart3 = range(len(chart3_data_nan))\n",
    "\n",
    "# Plot the lines\n",
    "plt.plot(x_range_chart3, chart3_data_unique.values*100, label=\"Unique Entries\", color='#2b8cbe')\n",
    "plt.plot(x_range_chart3, chart3_data_nan.values*100, label=\"Nan-values\", color='#f1a340')\n",
    "\n",
    "# Shade the area below the plotted line\n",
    "plt.fill_between(\n",
    "    np.arange(0,len(x_range_chart3)),\n",
    "    np.zeros(len(x_range_chart3)),\n",
    "    chart3_data_unique.values*100,\n",
    "    color='#a6bddb'\n",
    ")\n",
    "\n",
    "# Adjusted settings for visual clarity\n",
    "plt.ylim([0,100])\n",
    "plt.xlim([0,len(x_range_chart3)])\n",
    "plt.legend(loc='best')\n",
    "\n",
    "# Check if save directory exists and create if not\n",
    "Path('./visualization').mkdir(parents=True, exist_ok=True)\n",
    "\n",
    "plt.savefig('visualization/dental_text_subset_unique.png', dpi=600)\n",
    "\n",
    "plt.show()"
   ]
  },
  {
   "cell_type": "code",
   "execution_count": 47,
   "id": "07eac745",
   "metadata": {},
   "outputs": [
    {
     "data": {
      "text/plain": [
       "415"
      ]
     },
     "execution_count": 47,
     "metadata": {},
     "output_type": "execute_result"
    }
   ],
   "source": [
    "# Amount of nan values in the first 5 columns (sorted)\n",
    "text_clean_data.iloc[:,:5].isna().sum().sum()"
   ]
  },
  {
   "cell_type": "code",
   "execution_count": 63,
   "id": "39bc489a",
   "metadata": {},
   "outputs": [
    {
     "name": "stdout",
     "output_type": "stream",
     "text": [
      "Please describe your chief complaint for which you seek consultation:\n",
      "Responses:  2128\n",
      "Amount of NaN values:  0\n",
      "What do you expect as the result of the examinations and treatments in our clinic?\n",
      "Responses:  2127\n",
      "Amount of NaN values:  1\n",
      "Which factors aggravate your complaints?  (e.g. chewing hard / soft food, biting, drinking, mouth opening (e.g. yawning), talking, physical / emotional stress, playing a musicial instrument, ... )\n",
      "Responses:  2032\n",
      "Amount of NaN values:  96\n"
     ]
    }
   ],
   "source": [
    "for i in range(3):\n",
    "    \n",
    "    nan_amount = text_clean_data.iloc[:,i].isna().sum()\n",
    "    \n",
    "    print(text_clean_data.iloc[:,i].name)\n",
    "    print('Responses: ', len(text_clean_data.iloc[:, i]) - nan_amount)\n",
    "    print('Amount of NaN values: ', nan_amount)"
   ]
  },
  {
   "cell_type": "code",
   "execution_count": 81,
   "id": "9f401c3c",
   "metadata": {},
   "outputs": [
    {
     "name": "stdout",
     "output_type": "stream",
     "text": [
      "Q0 random response:  Kieferschmerzen links, beim Kauen.\n",
      "Schmerzen auch wenn seitliche Bewegungen mit dem Kiefer, ohne Essen zu kauen.\n",
      "Leichtere Schmerzen wenn die Zähne zusammengedrückt werden, ohne essen zu kauen.\n",
      "Q1 random response:  Ansatz für die Milderung der Schmerzen finden.\n",
      "Q2 random response:  physical activity, stress\n"
     ]
    }
   ],
   "source": [
    "for i in range(3):\n",
    "    rand_int = int(np.random.uniform() * len(text_clean_data))\n",
    "    print(f'Q{i} random response: ', text_clean_data.iloc[rand_int, i])"
   ]
  },
  {
   "cell_type": "markdown",
   "id": "595f488a",
   "metadata": {},
   "source": [
    "### Process the selected text columns"
   ]
  },
  {
   "cell_type": "code",
   "execution_count": 99,
   "id": "e44eba68",
   "metadata": {},
   "outputs": [],
   "source": [
    "sentences_text_clean_data = list(text_clean_data.to_numpy(na_value=\"\").flatten())"
   ]
  },
  {
   "cell_type": "code",
   "execution_count": 100,
   "id": "f90ae160",
   "metadata": {},
   "outputs": [],
   "source": [
    "# Remove illegitimate responses from the dataset\n",
    "\n",
    "sentences_list = []\n",
    "\n",
    "for entry in sentences_text_clean_data:\n",
    "    if(\n",
    "        not(entry == \"\") and not(entry == \".\") and not(entry == \"/\") and not(entry == \"-\")\n",
    "        and not(entry == \"--\") and not(entry == \"---\") and not(entry == \"----\") and not(entry == \"-----\")\n",
    "        and not(entry == \"------\") and not(entry == \"-------\") and not(entry == \"?\")\n",
    "      ):\n",
    "        sentences_list.append(entry)"
   ]
  },
  {
   "cell_type": "code",
   "execution_count": 101,
   "id": "0a0eba75",
   "metadata": {},
   "outputs": [],
   "source": [
    "# Replacing \"\\n\" by \" \" so that parsing to txt works well\n",
    "for i in range(len(sentences_list)):\n",
    "    if(not type(sentences_list[i]) == str):\n",
    "        sentences_list[i] = str(sentences_list[i])\n",
    "    \n",
    "    #sentences_list[i] = sentences_list[i].lower()\n",
    "        \n",
    "    if(\"\\n\" in sentences_list[i]):\n",
    "        sentences_list[i] = sentences_list[i].replace(\"\\n\",\" \")"
   ]
  },
  {
   "cell_type": "markdown",
   "id": "f0dd705d",
   "metadata": {},
   "source": [
    "#### Imports for nltk processing"
   ]
  },
  {
   "cell_type": "code",
   "execution_count": 102,
   "id": "ea070a14",
   "metadata": {},
   "outputs": [],
   "source": [
    "import nltk\n",
    "from nltk.tokenize import word_tokenize\n",
    "from tqdm import tqdm"
   ]
  },
  {
   "cell_type": "code",
   "execution_count": 103,
   "id": "7816096d",
   "metadata": {},
   "outputs": [
    {
     "name": "stderr",
     "output_type": "stream",
     "text": [
      "[nltk_data] Downloading package stopwords to /home/ubuntu-\n",
      "[nltk_data]     code/nltk_data...\n",
      "[nltk_data]   Package stopwords is already up-to-date!\n",
      "[nltk_data] Downloading package punkt to /home/ubuntu-\n",
      "[nltk_data]     code/nltk_data...\n",
      "[nltk_data]   Package punkt is already up-to-date!\n"
     ]
    },
    {
     "data": {
      "text/plain": [
       "True"
      ]
     },
     "execution_count": 103,
     "metadata": {},
     "output_type": "execute_result"
    }
   ],
   "source": [
    "from nltk.corpus import stopwords\n",
    "nltk.download('stopwords')\n",
    "nltk.download('punkt')"
   ]
  },
  {
   "cell_type": "markdown",
   "id": "2ac83be3",
   "metadata": {},
   "source": [
    "### Functions"
   ]
  },
  {
   "cell_type": "code",
   "execution_count": 104,
   "id": "e75f89b8",
   "metadata": {},
   "outputs": [],
   "source": [
    "# Function to tokenize a list of sentences\n",
    "# Input - list of strings\n",
    "# Output - list of array of words (tokens)\n",
    "def tokenize_list(sentence_list):\n",
    "    \n",
    "    # Loop all the sentences in the list\n",
    "    for i in tqdm(range(len(sentence_list))):\n",
    "        current_sentence = str(sentence_list[i]).lower()\n",
    "        \n",
    "        if current_sentence == 'nan':\n",
    "            sentence_list[i] = ['']\n",
    "        else:\n",
    "            sentence_list[i] = word_tokenize(current_sentence)\n",
    "        \n",
    "    return sentence_list"
   ]
  },
  {
   "cell_type": "code",
   "execution_count": 105,
   "id": "2839f821",
   "metadata": {},
   "outputs": [],
   "source": [
    "# Function for removing punctuation as well as german and english stopwords\n",
    "# Input - list of tokenized sentences\n",
    "# Output - list of tokenized sentences with desired words removed\n",
    "def filter_sentences(token_sentence_list):\n",
    "    \n",
    "    # Remove 'man' from the german stopwords\n",
    "    german_stopwords = stopwords.words(\"german\")\n",
    "    german_stopwords.remove('man')\n",
    "    \n",
    "    for i in tqdm(range(len(token_sentence_list))):\n",
    "        sentence = token_sentence_list[i]\n",
    "\n",
    "        filter_sentence = []\n",
    "\n",
    "        for word in sentence:\n",
    "            if not word in string.punctuation:\n",
    "                if not (word in stopwords.words(\"english\") or word in german_stopwords):\n",
    "                    filter_sentence.append(word)\n",
    "\n",
    "        token_sentence_list[i] = filter_sentence\n",
    "    \n",
    "    return token_sentence_list"
   ]
  },
  {
   "cell_type": "code",
   "execution_count": 106,
   "id": "49690011",
   "metadata": {},
   "outputs": [],
   "source": [
    "# Function for writing the responses to a txt file\n",
    "# Input - filename, list of the text to be saved\n",
    "# Output - txt file with filename to ./data folder\n",
    "def write_to_txt(filename, text_list):\n",
    "    \n",
    "    #Check whether output directory exists\n",
    "    Path('./data/output').mkdir(parents=True, exist_ok=True)\n",
    "    \n",
    "    with open(f'data/output/{filename}.txt', 'w') as f:\n",
    "        for sentence in text_list:\n",
    "            # Check for empty sentences\n",
    "            if not sentence == []:\n",
    "                f.write(\"%s\\n\" % sentence)"
   ]
  },
  {
   "cell_type": "markdown",
   "id": "d4c6b349",
   "metadata": {},
   "source": [
    "### Process dental dataset for SimCSE training"
   ]
  },
  {
   "cell_type": "code",
   "execution_count": 107,
   "id": "4da14be4",
   "metadata": {},
   "outputs": [],
   "source": [
    "write_to_txt('dental_simcse_input', sentences_list)"
   ]
  },
  {
   "cell_type": "markdown",
   "id": "763a1d77",
   "metadata": {},
   "source": [
    "### Process dental dataset for word2vec"
   ]
  },
  {
   "cell_type": "code",
   "execution_count": 108,
   "id": "0a5b45e6",
   "metadata": {},
   "outputs": [],
   "source": [
    "# Lower case all the sentences\n",
    "sentences_list = [sentence.lower() for sentence in sentences_list]"
   ]
  },
  {
   "cell_type": "code",
   "execution_count": 109,
   "id": "756a8071",
   "metadata": {},
   "outputs": [
    {
     "name": "stderr",
     "output_type": "stream",
     "text": [
      "100%|███████████████████████████████████████████████████████████████████████████████████████████████████████████████████████████████| 16165/16165 [00:01<00:00, 8532.89it/s]\n"
     ]
    }
   ],
   "source": [
    "word2vec_input = tokenize_list(sentences_list)"
   ]
  },
  {
   "cell_type": "code",
   "execution_count": 110,
   "id": "d2c519eb",
   "metadata": {},
   "outputs": [
    {
     "name": "stderr",
     "output_type": "stream",
     "text": [
      "100%|███████████████████████████████████████████████████████████████████████████████████████████████████████████████████████████████| 16165/16165 [00:13<00:00, 1214.43it/s]\n"
     ]
    }
   ],
   "source": [
    "word2vec_input = filter_sentences(word2vec_input)"
   ]
  },
  {
   "cell_type": "code",
   "execution_count": 111,
   "id": "fa0a858a",
   "metadata": {},
   "outputs": [],
   "source": [
    "write_to_txt('dental_word2vec_input', word2vec_input)"
   ]
  },
  {
   "cell_type": "code",
   "execution_count": 126,
   "id": "67772258",
   "metadata": {},
   "outputs": [
    {
     "data": {
      "text/plain": [
       "Index(['Please describe your chief complaint for which you seek consultation:',\n",
       "       'What do you expect as the result of the examinations and treatments in our clinic?',\n",
       "       'Which factors aggravate your complaints?  (e.g. chewing hard / soft food, biting, drinking, mouth opening (e.g. yawning), talking, physical / emotional stress, playing a musicial instrument, ... )',\n",
       "       'What does your chief complaint stop you from doing?',\n",
       "       'Which factors alleviate your complaints? (e.g. distraction, rest, relaxation, keeping jaw in fixed position, ... )',\n",
       "       'What do the restrictions selected above mean in terms of your eating habits?',\n",
       "       'What was/were the diagnosis/diagnoses of your chief complaint(s)?',\n",
       "       'In your personal opinion, which diagnosis best explains your chief complaints?',\n",
       "       'Complaint attacks are triggered by the folllowing (please name all you can remember):',\n",
       "       'Please give a brief description of the life events that are bothering you.',\n",
       "       'After which dental / medical treatment, or operation did your chief complaint start?',\n",
       "       'Do you have any remarks regarding your pain in head or face? Please enter them below.',\n",
       "       'I have known allergies against the following substances / medications. Please describe your allergic reaction and report the time of the last incidence.',\n",
       "       'Do you have any remarks regarding your pain in the body? Please enter them below.',\n",
       "       'Please give a brief description of other problems bothering you.',\n",
       "       'Is there anything else you want to tell us before you complete this survey?',\n",
       "       'Please describe how your chief complaint started.',\n",
       "       'Please give a brief description of the other quality of your current chief complaint.',\n",
       "       'Um welche andere Behandlung ging es?',\n",
       "       'I suffer from the following disorders / complaints, for which I do not take any medication:',\n",
       "       'Which other mouth/jaw related habits did you observe?',\n",
       "       'After which accident did your chief complaint start?',\n",
       "       'Please give a brief description of the other quality of your pain at the onset of your illness.',\n",
       "       'After which illness did your chief complaint start?',\n",
       "       'After which emotional stress did your chief complaint start?',\n",
       "       'Do you have any remarks regarding your pain in the torso? Please enter them below.',\n",
       "       'Which other treatment was performed to you?',\n",
       "       'Nach welcher Operation traten Ihre Schmerzen auf?',\n",
       "       'After which physical stress did your chief complaint start?'],\n",
       "      dtype='object')"
      ]
     },
     "execution_count": 126,
     "metadata": {},
     "output_type": "execute_result"
    }
   ],
   "source": [
    "text_clean_data.columns"
   ]
  },
  {
   "cell_type": "markdown",
   "id": "1c9dac19",
   "metadata": {},
   "source": [
    "### Process dental data set for clustering SimCSE"
   ]
  },
  {
   "cell_type": "code",
   "execution_count": 112,
   "id": "4ffd2aed",
   "metadata": {},
   "outputs": [
    {
     "name": "stderr",
     "output_type": "stream",
     "text": [
      "100%|█████████████████████████████████████████████████████████████████████████████████████████████████████████████████████████████████| 2128/2128 [00:00<00:00, 5936.74it/s]\n"
     ]
    }
   ],
   "source": [
    "cluster_input = []\n",
    "\n",
    "# Loop all the rows in text_clean_data DataFrame\n",
    "for i in tqdm(range(text_clean_data.shape[0])):\n",
    "    # Select the current row\n",
    "    current_row = text_clean_data.iloc[i]\n",
    "    \n",
    "    # Loop all the entries in the current row\n",
    "    for j in range(text_clean_data.shape[1]):\n",
    "        cur_value = current_row[j]\n",
    "        \n",
    "        cluster_input.append([i,j,cur_value])\n",
    "        \n",
    "    "
   ]
  },
  {
   "cell_type": "code",
   "execution_count": 113,
   "id": "34dc33ce",
   "metadata": {},
   "outputs": [],
   "source": [
    "cluster_simcse_input = pd.DataFrame(cluster_input)\n",
    "cluster_simcse_input.columns = ['row','column','sentence']"
   ]
  },
  {
   "cell_type": "code",
   "execution_count": 114,
   "id": "67f339dc",
   "metadata": {},
   "outputs": [],
   "source": [
    "cluster_simcse_input.to_csv('data/output/cluster_simcse_input.csv')"
   ]
  },
  {
   "cell_type": "markdown",
   "id": "0cdd764e",
   "metadata": {},
   "source": [
    "#### Clustering word2vec"
   ]
  },
  {
   "cell_type": "code",
   "execution_count": 115,
   "id": "c11d21eb",
   "metadata": {},
   "outputs": [
    {
     "name": "stderr",
     "output_type": "stream",
     "text": [
      "100%|██████████████████████████████████████████████████████████████████████████████████████████████████████████████████████████████| 61712/61712 [00:01<00:00, 32058.62it/s]\n"
     ]
    }
   ],
   "source": [
    "cluster_input_text_word2vec_format = tokenize_list(list(np.array(cluster_input).T[2]))"
   ]
  },
  {
   "cell_type": "code",
   "execution_count": 116,
   "id": "fa7340c1",
   "metadata": {},
   "outputs": [
    {
     "name": "stderr",
     "output_type": "stream",
     "text": [
      "100%|███████████████████████████████████████████████████████████████████████████████████████████████████████████████████████████████| 61712/61712 [00:12<00:00, 4876.91it/s]\n"
     ]
    }
   ],
   "source": [
    "cluster_input_text_word2vec_format = filter_sentences(cluster_input_text_word2vec_format)"
   ]
  },
  {
   "cell_type": "code",
   "execution_count": 117,
   "id": "00d9baaf",
   "metadata": {},
   "outputs": [
    {
     "data": {
      "text/plain": [
       "61712"
      ]
     },
     "execution_count": 117,
     "metadata": {},
     "output_type": "execute_result"
    }
   ],
   "source": [
    "len(cluster_input_text_word2vec_format)"
   ]
  },
  {
   "cell_type": "code",
   "execution_count": 118,
   "id": "c8bce695",
   "metadata": {},
   "outputs": [
    {
     "name": "stderr",
     "output_type": "stream",
     "text": [
      "100%|████████████████████████████████████████████████████████████████████████████████████████████████████████████████████████████| 61712/61712 [00:00<00:00, 1803654.77it/s]\n"
     ]
    }
   ],
   "source": [
    "cluster_input_word2vec = []\n",
    "\n",
    "for i in tqdm(range(len(cluster_input))):\n",
    "    \n",
    "    cur_row = cluster_input[i]\n",
    "    \n",
    "    cur_row[2] = cluster_input_text_word2vec_format[i]\n",
    "    \n",
    "    cluster_input_word2vec.append(cur_row)"
   ]
  },
  {
   "cell_type": "code",
   "execution_count": 119,
   "id": "c353c0ea",
   "metadata": {},
   "outputs": [],
   "source": [
    "cluster_word2vec_input = pd.DataFrame(cluster_input_word2vec)\n",
    "cluster_word2vec_input.columns = ['row','column','sentence']"
   ]
  },
  {
   "cell_type": "code",
   "execution_count": 120,
   "id": "7a5e9fa8",
   "metadata": {},
   "outputs": [],
   "source": [
    "cluster_word2vec_input.to_csv('data/output/cluster_word2vec_input.csv')"
   ]
  },
  {
   "cell_type": "code",
   "execution_count": null,
   "id": "a8682613",
   "metadata": {},
   "outputs": [],
   "source": []
  },
  {
   "cell_type": "code",
   "execution_count": null,
   "id": "b32b0827",
   "metadata": {},
   "outputs": [],
   "source": []
  },
  {
   "cell_type": "code",
   "execution_count": null,
   "id": "de87acd5",
   "metadata": {},
   "outputs": [],
   "source": []
  },
  {
   "cell_type": "code",
   "execution_count": null,
   "id": "4106e87f",
   "metadata": {},
   "outputs": [],
   "source": []
  },
  {
   "cell_type": "code",
   "execution_count": null,
   "id": "a7d0951c",
   "metadata": {},
   "outputs": [],
   "source": []
  },
  {
   "cell_type": "code",
   "execution_count": null,
   "id": "c42d30b2",
   "metadata": {},
   "outputs": [],
   "source": []
  },
  {
   "cell_type": "code",
   "execution_count": null,
   "id": "7d34e6ea",
   "metadata": {},
   "outputs": [],
   "source": []
  },
  {
   "cell_type": "code",
   "execution_count": null,
   "id": "5a9aa022",
   "metadata": {},
   "outputs": [],
   "source": []
  },
  {
   "cell_type": "code",
   "execution_count": null,
   "id": "045d78be",
   "metadata": {},
   "outputs": [],
   "source": []
  },
  {
   "cell_type": "code",
   "execution_count": null,
   "id": "c75555bf",
   "metadata": {},
   "outputs": [],
   "source": []
  },
  {
   "cell_type": "code",
   "execution_count": null,
   "id": "ee7ec8de",
   "metadata": {},
   "outputs": [],
   "source": []
  }
 ],
 "metadata": {
  "kernelspec": {
   "display_name": "Python 3 (ipykernel)",
   "language": "python",
   "name": "python3"
  },
  "language_info": {
   "codemirror_mode": {
    "name": "ipython",
    "version": 3
   },
   "file_extension": ".py",
   "mimetype": "text/x-python",
   "name": "python",
   "nbconvert_exporter": "python",
   "pygments_lexer": "ipython3",
   "version": "3.9.13"
  }
 },
 "nbformat": 4,
 "nbformat_minor": 5
}
