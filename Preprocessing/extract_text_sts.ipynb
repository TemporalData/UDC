{
 "cells": [
  {
   "cell_type": "markdown",
   "id": "6a574cce",
   "metadata": {},
   "source": [
    "#### Imports"
   ]
  },
  {
   "cell_type": "code",
   "execution_count": 1,
   "id": "ccaf0763",
   "metadata": {},
   "outputs": [],
   "source": [
    "import pandas as pd\n",
    "import matplotlib.pyplot as plt"
   ]
  },
  {
   "cell_type": "markdown",
   "id": "31ea5ce8",
   "metadata": {},
   "source": [
    "### Reading in the STS data set"
   ]
  },
  {
   "cell_type": "code",
   "execution_count": 2,
   "id": "a29df062",
   "metadata": {},
   "outputs": [],
   "source": [
    "# Taken from readme.txt downloaded with the STS-b benchmark data set\n",
    "\n",
    "col_names = [\n",
    "    \"genre\",\n",
    "    \"filename\",\n",
    "    \"year\",\n",
    "    \"id_from_source\",\n",
    "    \"score\",\n",
    "    \"sentence1\",\n",
    "    \"sentence2\",\n",
    "    \"extra1\",\n",
    "    \"extra2\"\n",
    "]"
   ]
  },
  {
   "cell_type": "code",
   "execution_count": 4,
   "id": "d49429d2",
   "metadata": {},
   "outputs": [],
   "source": [
    "sts_dataset = pd.read_csv('data/sts-train.csv', sep=\"\\t\", names=col_names)"
   ]
  },
  {
   "cell_type": "markdown",
   "id": "16b76b32",
   "metadata": {},
   "source": [
    "## Exploratory analysis"
   ]
  },
  {
   "cell_type": "code",
   "execution_count": 6,
   "id": "896bccfa",
   "metadata": {},
   "outputs": [
    {
     "data": {
      "text/plain": [
       "(array([591., 298., 531., 347., 550., 425., 923., 649., 772., 625.]),\n",
       " array([0. , 0.5, 1. , 1.5, 2. , 2.5, 3. , 3.5, 4. , 4.5, 5. ]),\n",
       " <BarContainer object of 10 artists>)"
      ]
     },
     "execution_count": 6,
     "metadata": {},
     "output_type": "execute_result"
    },
    {
     "data": {
      "image/png": "[encoded data removed]",
      "text/plain": [
       "<Figure size 432x288 with 1 Axes>"
      ]
     },
     "metadata": {
      "needs_background": "light"
     },
     "output_type": "display_data"
    }
   ],
   "source": [
    "plt.hist(sts_dataset.iloc[:][\"score\"])"
   ]
  },
  {
   "cell_type": "code",
   "execution_count": 7,
   "id": "6ff860be",
   "metadata": {},
   "outputs": [
    {
     "data": {
      "text/html": [
       "<div>\n",
       "<style scoped>\n",
       "    .dataframe tbody tr th:only-of-type {\n",
       "        vertical-align: middle;\n",
       "    }\n",
       "\n",
       "    .dataframe tbody tr th {\n",
       "        vertical-align: top;\n",
       "    }\n",
       "\n",
       "    .dataframe thead th {\n",
       "        text-align: right;\n",
       "    }\n",
       "</style>\n",
       "<table border=\"1\" class=\"dataframe\">\n",
       "  <thead>\n",
       "    <tr style=\"text-align: right;\">\n",
       "      <th></th>\n",
       "      <th>genre</th>\n",
       "      <th>filename</th>\n",
       "      <th>year</th>\n",
       "      <th>id_from_source</th>\n",
       "      <th>score</th>\n",
       "      <th>sentence1</th>\n",
       "      <th>sentence2</th>\n",
       "      <th>extra1</th>\n",
       "      <th>extra2</th>\n",
       "    </tr>\n",
       "  </thead>\n",
       "  <tbody>\n",
       "    <tr>\n",
       "      <th>0</th>\n",
       "      <td>main-captions</td>\n",
       "      <td>MSRvid</td>\n",
       "      <td>2012test</td>\n",
       "      <td>1</td>\n",
       "      <td>5.00</td>\n",
       "      <td>A plane is taking off.</td>\n",
       "      <td>An air plane is taking off.</td>\n",
       "      <td>NaN</td>\n",
       "      <td>NaN</td>\n",
       "    </tr>\n",
       "    <tr>\n",
       "      <th>1</th>\n",
       "      <td>main-captions</td>\n",
       "      <td>MSRvid</td>\n",
       "      <td>2012test</td>\n",
       "      <td>4</td>\n",
       "      <td>3.80</td>\n",
       "      <td>A man is playing a large flute.</td>\n",
       "      <td>A man is playing a flute.</td>\n",
       "      <td>NaN</td>\n",
       "      <td>NaN</td>\n",
       "    </tr>\n",
       "    <tr>\n",
       "      <th>2</th>\n",
       "      <td>main-captions</td>\n",
       "      <td>MSRvid</td>\n",
       "      <td>2012test</td>\n",
       "      <td>5</td>\n",
       "      <td>3.80</td>\n",
       "      <td>A man is spreading shreded cheese on a pizza.</td>\n",
       "      <td>A man is spreading shredded cheese on an uncoo...</td>\n",
       "      <td>NaN</td>\n",
       "      <td>NaN</td>\n",
       "    </tr>\n",
       "    <tr>\n",
       "      <th>3</th>\n",
       "      <td>main-captions</td>\n",
       "      <td>MSRvid</td>\n",
       "      <td>2012test</td>\n",
       "      <td>6</td>\n",
       "      <td>2.60</td>\n",
       "      <td>Three men are playing chess.</td>\n",
       "      <td>Two men are playing chess.</td>\n",
       "      <td>NaN</td>\n",
       "      <td>NaN</td>\n",
       "    </tr>\n",
       "    <tr>\n",
       "      <th>4</th>\n",
       "      <td>main-captions</td>\n",
       "      <td>MSRvid</td>\n",
       "      <td>2012test</td>\n",
       "      <td>9</td>\n",
       "      <td>4.25</td>\n",
       "      <td>A man is playing the cello.</td>\n",
       "      <td>A man seated is playing the cello.</td>\n",
       "      <td>NaN</td>\n",
       "      <td>NaN</td>\n",
       "    </tr>\n",
       "    <tr>\n",
       "      <th>5</th>\n",
       "      <td>main-captions</td>\n",
       "      <td>MSRvid</td>\n",
       "      <td>2012test</td>\n",
       "      <td>11</td>\n",
       "      <td>4.25</td>\n",
       "      <td>Some men are fighting.</td>\n",
       "      <td>Two men are fighting.</td>\n",
       "      <td>NaN</td>\n",
       "      <td>NaN</td>\n",
       "    </tr>\n",
       "    <tr>\n",
       "      <th>6</th>\n",
       "      <td>main-captions</td>\n",
       "      <td>MSRvid</td>\n",
       "      <td>2012test</td>\n",
       "      <td>12</td>\n",
       "      <td>0.50</td>\n",
       "      <td>A man is smoking.</td>\n",
       "      <td>A man is skating.</td>\n",
       "      <td>NaN</td>\n",
       "      <td>NaN</td>\n",
       "    </tr>\n",
       "    <tr>\n",
       "      <th>7</th>\n",
       "      <td>main-captions</td>\n",
       "      <td>MSRvid</td>\n",
       "      <td>2012test</td>\n",
       "      <td>13</td>\n",
       "      <td>1.60</td>\n",
       "      <td>The man is playing the piano.</td>\n",
       "      <td>The man is playing the guitar.</td>\n",
       "      <td>NaN</td>\n",
       "      <td>NaN</td>\n",
       "    </tr>\n",
       "    <tr>\n",
       "      <th>8</th>\n",
       "      <td>main-captions</td>\n",
       "      <td>MSRvid</td>\n",
       "      <td>2012test</td>\n",
       "      <td>14</td>\n",
       "      <td>2.20</td>\n",
       "      <td>A man is playing on a guitar and singing.</td>\n",
       "      <td>A woman is playing an acoustic guitar and sing...</td>\n",
       "      <td>NaN</td>\n",
       "      <td>NaN</td>\n",
       "    </tr>\n",
       "    <tr>\n",
       "      <th>9</th>\n",
       "      <td>main-captions</td>\n",
       "      <td>MSRvid</td>\n",
       "      <td>2012test</td>\n",
       "      <td>16</td>\n",
       "      <td>5.00</td>\n",
       "      <td>A person is throwing a cat on to the ceiling.</td>\n",
       "      <td>A person throws a cat on the ceiling.</td>\n",
       "      <td>NaN</td>\n",
       "      <td>NaN</td>\n",
       "    </tr>\n",
       "  </tbody>\n",
       "</table>\n",
       "</div>"
      ],
      "text/plain": [
       "           genre filename      year  id_from_source  score  \\\n",
       "0  main-captions   MSRvid  2012test               1   5.00   \n",
       "1  main-captions   MSRvid  2012test               4   3.80   \n",
       "2  main-captions   MSRvid  2012test               5   3.80   \n",
       "3  main-captions   MSRvid  2012test               6   2.60   \n",
       "4  main-captions   MSRvid  2012test               9   4.25   \n",
       "5  main-captions   MSRvid  2012test              11   4.25   \n",
       "6  main-captions   MSRvid  2012test              12   0.50   \n",
       "7  main-captions   MSRvid  2012test              13   1.60   \n",
       "8  main-captions   MSRvid  2012test              14   2.20   \n",
       "9  main-captions   MSRvid  2012test              16   5.00   \n",
       "\n",
       "                                       sentence1  \\\n",
       "0                         A plane is taking off.   \n",
       "1                A man is playing a large flute.   \n",
       "2  A man is spreading shreded cheese on a pizza.   \n",
       "3                   Three men are playing chess.   \n",
       "4                    A man is playing the cello.   \n",
       "5                         Some men are fighting.   \n",
       "6                              A man is smoking.   \n",
       "7                  The man is playing the piano.   \n",
       "8      A man is playing on a guitar and singing.   \n",
       "9  A person is throwing a cat on to the ceiling.   \n",
       "\n",
       "                                           sentence2 extra1 extra2  \n",
       "0                        An air plane is taking off.    NaN    NaN  \n",
       "1                          A man is playing a flute.    NaN    NaN  \n",
       "2  A man is spreading shredded cheese on an uncoo...    NaN    NaN  \n",
       "3                         Two men are playing chess.    NaN    NaN  \n",
       "4                 A man seated is playing the cello.    NaN    NaN  \n",
       "5                              Two men are fighting.    NaN    NaN  \n",
       "6                                  A man is skating.    NaN    NaN  \n",
       "7                     The man is playing the guitar.    NaN    NaN  \n",
       "8  A woman is playing an acoustic guitar and sing...    NaN    NaN  \n",
       "9              A person throws a cat on the ceiling.    NaN    NaN  "
      ]
     },
     "execution_count": 7,
     "metadata": {},
     "output_type": "execute_result"
    }
   ],
   "source": [
    "sts_dataset.iloc[:10][:]"
   ]
  },
  {
   "cell_type": "markdown",
   "id": "55e00698",
   "metadata": {},
   "source": [
    "## Processing STS for word2vec model"
   ]
  },
  {
   "cell_type": "code",
   "execution_count": 8,
   "id": "01b9e703",
   "metadata": {},
   "outputs": [],
   "source": [
    "sts_text = sts_dataset[[\"sentence1\",\"sentence2\"]]"
   ]
  },
  {
   "cell_type": "code",
   "execution_count": 9,
   "id": "f3a5c331",
   "metadata": {},
   "outputs": [
    {
     "data": {
      "text/html": [
       "<div>\n",
       "<style scoped>\n",
       "    .dataframe tbody tr th:only-of-type {\n",
       "        vertical-align: middle;\n",
       "    }\n",
       "\n",
       "    .dataframe tbody tr th {\n",
       "        vertical-align: top;\n",
       "    }\n",
       "\n",
       "    .dataframe thead th {\n",
       "        text-align: right;\n",
       "    }\n",
       "</style>\n",
       "<table border=\"1\" class=\"dataframe\">\n",
       "  <thead>\n",
       "    <tr style=\"text-align: right;\">\n",
       "      <th></th>\n",
       "      <th>sentence1</th>\n",
       "      <th>sentence2</th>\n",
       "    </tr>\n",
       "  </thead>\n",
       "  <tbody>\n",
       "    <tr>\n",
       "      <th>0</th>\n",
       "      <td>A plane is taking off.</td>\n",
       "      <td>An air plane is taking off.</td>\n",
       "    </tr>\n",
       "    <tr>\n",
       "      <th>1</th>\n",
       "      <td>A man is playing a large flute.</td>\n",
       "      <td>A man is playing a flute.</td>\n",
       "    </tr>\n",
       "    <tr>\n",
       "      <th>2</th>\n",
       "      <td>A man is spreading shreded cheese on a pizza.</td>\n",
       "      <td>A man is spreading shredded cheese on an uncoo...</td>\n",
       "    </tr>\n",
       "    <tr>\n",
       "      <th>3</th>\n",
       "      <td>Three men are playing chess.</td>\n",
       "      <td>Two men are playing chess.</td>\n",
       "    </tr>\n",
       "    <tr>\n",
       "      <th>4</th>\n",
       "      <td>A man is playing the cello.</td>\n",
       "      <td>A man seated is playing the cello.</td>\n",
       "    </tr>\n",
       "    <tr>\n",
       "      <th>...</th>\n",
       "      <td>...</td>\n",
       "      <td>...</td>\n",
       "    </tr>\n",
       "    <tr>\n",
       "      <th>5706</th>\n",
       "      <td>Severe Gales As Storm Clodagh Hits Britain</td>\n",
       "      <td>Merkel pledges NATO solidarity with Latvia</td>\n",
       "    </tr>\n",
       "    <tr>\n",
       "      <th>5707</th>\n",
       "      <td>Dozens of Egyptians hostages taken by Libyan t...</td>\n",
       "      <td>Egyptian boat crash death toll rises as more b...</td>\n",
       "    </tr>\n",
       "    <tr>\n",
       "      <th>5708</th>\n",
       "      <td>President heading to Bahrain</td>\n",
       "      <td>President Xi: China to continue help to fight ...</td>\n",
       "    </tr>\n",
       "    <tr>\n",
       "      <th>5709</th>\n",
       "      <td>China, India vow to further bilateral ties</td>\n",
       "      <td>China Scrambles to Reassure Jittery Stock Traders</td>\n",
       "    </tr>\n",
       "    <tr>\n",
       "      <th>5710</th>\n",
       "      <td>Putin spokesman: Doping charges appear unfounded</td>\n",
       "      <td>The Latest on Severe Weather: 1 Dead in Texas ...</td>\n",
       "    </tr>\n",
       "  </tbody>\n",
       "</table>\n",
       "<p>5711 rows × 2 columns</p>\n",
       "</div>"
      ],
      "text/plain": [
       "                                              sentence1  \\\n",
       "0                                A plane is taking off.   \n",
       "1                       A man is playing a large flute.   \n",
       "2         A man is spreading shreded cheese on a pizza.   \n",
       "3                          Three men are playing chess.   \n",
       "4                           A man is playing the cello.   \n",
       "...                                                 ...   \n",
       "5706         Severe Gales As Storm Clodagh Hits Britain   \n",
       "5707  Dozens of Egyptians hostages taken by Libyan t...   \n",
       "5708                       President heading to Bahrain   \n",
       "5709         China, India vow to further bilateral ties   \n",
       "5710   Putin spokesman: Doping charges appear unfounded   \n",
       "\n",
       "                                              sentence2  \n",
       "0                           An air plane is taking off.  \n",
       "1                             A man is playing a flute.  \n",
       "2     A man is spreading shredded cheese on an uncoo...  \n",
       "3                            Two men are playing chess.  \n",
       "4                    A man seated is playing the cello.  \n",
       "...                                                 ...  \n",
       "5706         Merkel pledges NATO solidarity with Latvia  \n",
       "5707  Egyptian boat crash death toll rises as more b...  \n",
       "5708  President Xi: China to continue help to fight ...  \n",
       "5709  China Scrambles to Reassure Jittery Stock Traders  \n",
       "5710  The Latest on Severe Weather: 1 Dead in Texas ...  \n",
       "\n",
       "[5711 rows x 2 columns]"
      ]
     },
     "execution_count": 9,
     "metadata": {},
     "output_type": "execute_result"
    }
   ],
   "source": [
    "sts_text"
   ]
  },
  {
   "cell_type": "code",
   "execution_count": 70,
   "id": "f214162c",
   "metadata": {},
   "outputs": [],
   "source": [
    "text_list = sts_text.values.flatten()"
   ]
  },
  {
   "cell_type": "code",
   "execution_count": 71,
   "id": "cb33760f",
   "metadata": {},
   "outputs": [
    {
     "data": {
      "text/plain": [
       "array(['A plane is taking off.', 'An air plane is taking off.',\n",
       "       'A man is playing a large flute.', ...,\n",
       "       'China Scrambles to Reassure Jittery Stock Traders',\n",
       "       'Putin spokesman: Doping charges appear unfounded',\n",
       "       'The Latest on Severe Weather: 1 Dead in Texas After Tornado'],\n",
       "      dtype=object)"
      ]
     },
     "execution_count": 71,
     "metadata": {},
     "output_type": "execute_result"
    }
   ],
   "source": [
    "text_list"
   ]
  },
  {
   "cell_type": "code",
   "execution_count": 37,
   "id": "95c045d5",
   "metadata": {},
   "outputs": [],
   "source": [
    "import string\n",
    "import nltk\n",
    "from tqdm import tqdm"
   ]
  },
  {
   "cell_type": "code",
   "execution_count": 38,
   "id": "69ff2e4f",
   "metadata": {},
   "outputs": [
    {
     "name": "stderr",
     "output_type": "stream",
     "text": [
      "[nltk_data] Downloading package stopwords to /home/ubuntu-\n",
      "[nltk_data]     code/nltk_data...\n",
      "[nltk_data]   Package stopwords is already up-to-date!\n",
      "[nltk_data] Downloading package punkt to /home/ubuntu-\n",
      "[nltk_data]     code/nltk_data...\n",
      "[nltk_data]   Package punkt is already up-to-date!\n"
     ]
    },
    {
     "data": {
      "text/plain": [
       "True"
      ]
     },
     "execution_count": 38,
     "metadata": {},
     "output_type": "execute_result"
    }
   ],
   "source": [
    "from nltk.corpus import stopwords\n",
    "nltk.download('stopwords')\n",
    "nltk.download('punkt')"
   ]
  },
  {
   "cell_type": "code",
   "execution_count": 39,
   "id": "ea1d8005",
   "metadata": {},
   "outputs": [
    {
     "name": "stderr",
     "output_type": "stream",
     "text": [
      "100%|█████████████████████████████████████████████████████████████████████████████████████████████████████████████████████████████████████████████| 11422/11422 [00:00<00:00, 14164.78it/s]\n"
     ]
    }
   ],
   "source": [
    "from nltk.tokenize import word_tokenize\n",
    "\n",
    "for i in tqdm(range(len(text_list))):\n",
    "    current_sentence = str(text_list[i]).lower()\n",
    "    text_list[i] = word_tokenize(current_sentence)"
   ]
  },
  {
   "cell_type": "code",
   "execution_count": 68,
   "id": "a78d0a38",
   "metadata": {},
   "outputs": [],
   "source": [
    "# Function to tokenize a list of sentences\n",
    "# Input - list of strings\n",
    "# Output - list of array of words (tokens)\n",
    "def tokenize_list(sentence_list):\n",
    "    \n",
    "    # Loop all the sentences in the list\n",
    "    for i in tqdm(range(len(sentence_list))):\n",
    "        current_sentence = str(sentence_list[i]).lower()\n",
    "        sentence_list[i] = word_tokenize(current_sentence)\n",
    "        \n",
    "    return sentence_list"
   ]
  },
  {
   "cell_type": "code",
   "execution_count": 72,
   "id": "73763011",
   "metadata": {},
   "outputs": [
    {
     "name": "stderr",
     "output_type": "stream",
     "text": [
      "100%|█████████████████████████████████████████████████████████████████████████████████████████████████████████████████████████████████████████████| 11422/11422 [00:00<00:00, 14606.63it/s]\n"
     ]
    },
    {
     "data": {
      "text/plain": [
       "array([list(['a', 'plane', 'is', 'taking', 'off', '.']),\n",
       "       list(['an', 'air', 'plane', 'is', 'taking', 'off', '.']),\n",
       "       list(['a', 'man', 'is', 'playing', 'a', 'large', 'flute', '.']),\n",
       "       ...,\n",
       "       list(['china', 'scrambles', 'to', 'reassure', 'jittery', 'stock', 'traders']),\n",
       "       list(['putin', 'spokesman', ':', 'doping', 'charges', 'appear', 'unfounded']),\n",
       "       list(['the', 'latest', 'on', 'severe', 'weather', ':', '1', 'dead', 'in', 'texas', 'after', 'tornado'])],\n",
       "      dtype=object)"
      ]
     },
     "execution_count": 72,
     "metadata": {},
     "output_type": "execute_result"
    }
   ],
   "source": [
    "tokenize_list(text_list)"
   ]
  },
  {
   "cell_type": "code",
   "execution_count": 41,
   "id": "ff62eca5",
   "metadata": {},
   "outputs": [],
   "source": [
    "# Remove 'man' from the german stopwords\n",
    "german_stopwords = stopwords.words(\"german\")\n",
    "german_stopwords.remove('man')"
   ]
  },
  {
   "cell_type": "code",
   "execution_count": null,
   "id": "96d78337",
   "metadata": {},
   "outputs": [],
   "source": [
    "# Function to filter sentences to word2vec format\n",
    "def data_to_word2vec_format(list_of_sentences):\n",
    "    \n",
    "    #Tokenize the data\n",
    "    list_of_sentences = tokenize_list(list_of_sentences)\n",
    "    \n",
    "    #Filter the tokenized data\n",
    "    \n",
    "    "
   ]
  },
  {
   "cell_type": "code",
   "execution_count": 74,
   "id": "9a062b4a",
   "metadata": {},
   "outputs": [],
   "source": [
    "# Function for removing punctuation as well as german and english stopwords\n",
    "# Input - list of tokenized sentences\n",
    "# Output - list of tokenized sentences with desired words removed\n",
    "def filter_sentences(token_sentence_list):\n",
    "    \n",
    "    # Remove 'man' from the german stopwords\n",
    "    german_stopwords = stopwords.words(\"german\")\n",
    "    german_stopwords.remove('man')\n",
    "    \n",
    "    for i in tqdm(range(len(token_sentence_list))):\n",
    "        sentence = token_sentence_list[i]\n",
    "\n",
    "        filter_sentence = []\n",
    "\n",
    "        for word in sentence:\n",
    "            if not word in string.punctuation:\n",
    "                if not (word in stopwords.words(\"english\") or word in german_stopwords):\n",
    "                    filter_sentence.append(word)\n",
    "\n",
    "        token_sentence_list[i] = filter_sentence\n",
    "    \n",
    "    return token_sentence_list"
   ]
  },
  {
   "cell_type": "code",
   "execution_count": 42,
   "id": "7f951541",
   "metadata": {},
   "outputs": [
    {
     "name": "stderr",
     "output_type": "stream",
     "text": [
      "100%|██████████████████████████████████████████████████████████████████████████████████████████████████████████████████████████████████████████████| 11422/11422 [00:06<00:00, 1736.68it/s]\n"
     ]
    }
   ],
   "source": [
    "for i in tqdm(range(len(text_list))):\n",
    "    sentence = text_list[i]\n",
    "    \n",
    "    filter_sentence = []\n",
    "    \n",
    "    for word in sentence:\n",
    "        if not word in string.punctuation:\n",
    "            if not (word in stopwords.words(\"english\") or word in german_stopwords):\n",
    "                filter_sentence.append(word)\n",
    "\n",
    "    text_list[i] = filter_sentence"
   ]
  },
  {
   "cell_type": "code",
   "execution_count": 43,
   "id": "1f8cb428",
   "metadata": {},
   "outputs": [],
   "source": [
    "# Writing the responses to a txt file\n",
    "with open('data/sts_sentences_text_clean_data.txt', 'w') as f:\n",
    "    for sentence in text_list:\n",
    "        # Check for empty sentences\n",
    "        if not sentence == []:\n",
    "            f.write(\"%s\\n\" % sentence)"
   ]
  },
  {
   "cell_type": "markdown",
   "id": "2a61d6dd",
   "metadata": {},
   "source": [
    "## Processing STS for SimCSE model"
   ]
  },
  {
   "cell_type": "code",
   "execution_count": 52,
   "id": "87c15802",
   "metadata": {},
   "outputs": [],
   "source": [
    "simcse_output = sts_text.values.flatten()"
   ]
  },
  {
   "cell_type": "code",
   "execution_count": 53,
   "id": "96163aa8",
   "metadata": {},
   "outputs": [],
   "source": [
    "# Writing the responses to a txt file\n",
    "with open('data/sts_sentences_clean_data.txt', 'w') as f:\n",
    "    for sentence in simcse_output:\n",
    "        # Check for empty sentences\n",
    "        if not sentence == []:\n",
    "            f.write(\"%s\\n\" % sentence)"
   ]
  },
  {
   "cell_type": "code",
   "execution_count": 54,
   "id": "99ac8acf",
   "metadata": {},
   "outputs": [],
   "source": [
    "del simcse_output"
   ]
  },
  {
   "cell_type": "markdown",
   "id": "0e541d88",
   "metadata": {},
   "source": [
    "## Processing STS for Clustering stage"
   ]
  },
  {
   "cell_type": "markdown",
   "id": "9fd908da",
   "metadata": {},
   "source": [
    "### SimCSE"
   ]
  },
  {
   "cell_type": "code",
   "execution_count": 62,
   "id": "a38ada58",
   "metadata": {},
   "outputs": [],
   "source": [
    "sts_test_dataset = pd.read_csv('data/sts-test.csv', sep=\"\\t\", names=col_names)"
   ]
  },
  {
   "cell_type": "code",
   "execution_count": 66,
   "id": "082cd96b",
   "metadata": {},
   "outputs": [],
   "source": [
    "clustering_columns = ['score','sentence1','sentence2']\n",
    "cluster_data = sts_test_dataset[clustering_columns] "
   ]
  },
  {
   "cell_type": "code",
   "execution_count": null,
   "id": "9506bb92",
   "metadata": {},
   "outputs": [],
   "source": [
    "# TODO: Export to file .csv"
   ]
  },
  {
   "cell_type": "code",
   "execution_count": null,
   "id": "8ffaaa01",
   "metadata": {},
   "outputs": [],
   "source": []
  },
  {
   "cell_type": "markdown",
   "id": "57e94915",
   "metadata": {},
   "source": [
    "### Word2vec"
   ]
  },
  {
   "cell_type": "code",
   "execution_count": 67,
   "id": "59428d17",
   "metadata": {},
   "outputs": [
    {
     "data": {
      "text/html": [
       "<div>\n",
       "<style scoped>\n",
       "    .dataframe tbody tr th:only-of-type {\n",
       "        vertical-align: middle;\n",
       "    }\n",
       "\n",
       "    .dataframe tbody tr th {\n",
       "        vertical-align: top;\n",
       "    }\n",
       "\n",
       "    .dataframe thead th {\n",
       "        text-align: right;\n",
       "    }\n",
       "</style>\n",
       "<table border=\"1\" class=\"dataframe\">\n",
       "  <thead>\n",
       "    <tr style=\"text-align: right;\">\n",
       "      <th></th>\n",
       "      <th>score</th>\n",
       "      <th>sentence1</th>\n",
       "      <th>sentence2</th>\n",
       "    </tr>\n",
       "  </thead>\n",
       "  <tbody>\n",
       "    <tr>\n",
       "      <th>0</th>\n",
       "      <td>2.5</td>\n",
       "      <td>A girl is styling her hair.</td>\n",
       "      <td>A girl is brushing her hair.</td>\n",
       "    </tr>\n",
       "    <tr>\n",
       "      <th>1</th>\n",
       "      <td>3.6</td>\n",
       "      <td>A group of men play soccer on the beach.</td>\n",
       "      <td>A group of boys are playing soccer on the beach.</td>\n",
       "    </tr>\n",
       "    <tr>\n",
       "      <th>2</th>\n",
       "      <td>5.0</td>\n",
       "      <td>One woman is measuring another woman's ankle.</td>\n",
       "      <td>A woman measures another woman's ankle.</td>\n",
       "    </tr>\n",
       "    <tr>\n",
       "      <th>3</th>\n",
       "      <td>4.2</td>\n",
       "      <td>A man is cutting up a cucumber.</td>\n",
       "      <td>A man is slicing a cucumber.</td>\n",
       "    </tr>\n",
       "    <tr>\n",
       "      <th>4</th>\n",
       "      <td>1.5</td>\n",
       "      <td>A man is playing a harp.</td>\n",
       "      <td>A man is playing a keyboard.</td>\n",
       "    </tr>\n",
       "    <tr>\n",
       "      <th>...</th>\n",
       "      <td>...</td>\n",
       "      <td>...</td>\n",
       "      <td>...</td>\n",
       "    </tr>\n",
       "    <tr>\n",
       "      <th>1374</th>\n",
       "      <td>0.0</td>\n",
       "      <td>Philippines, Canada pledge to further boost re...</td>\n",
       "      <td>Philippines saves 100 after ferry sinks</td>\n",
       "    </tr>\n",
       "    <tr>\n",
       "      <th>1375</th>\n",
       "      <td>1.0</td>\n",
       "      <td>Israel bars Palestinians from Jerusalem's Old ...</td>\n",
       "      <td>Two-state solution between Palestinians, Israe...</td>\n",
       "    </tr>\n",
       "    <tr>\n",
       "      <th>1376</th>\n",
       "      <td>1.0</td>\n",
       "      <td>How much do you know about Secret Service?</td>\n",
       "      <td>Lawmakers from both sides express outrage at S...</td>\n",
       "    </tr>\n",
       "    <tr>\n",
       "      <th>1377</th>\n",
       "      <td>0.0</td>\n",
       "      <td>Obama Struggles to Soothe Saudi Fears As Iran ...</td>\n",
       "      <td>Myanmar Struggles to Finalize Voter Lists for ...</td>\n",
       "    </tr>\n",
       "    <tr>\n",
       "      <th>1378</th>\n",
       "      <td>0.0</td>\n",
       "      <td>South Korea declares end to MERS outbreak</td>\n",
       "      <td>North Korea Delegation Meets With South Korean...</td>\n",
       "    </tr>\n",
       "  </tbody>\n",
       "</table>\n",
       "<p>1379 rows × 3 columns</p>\n",
       "</div>"
      ],
      "text/plain": [
       "      score                                          sentence1  \\\n",
       "0       2.5                        A girl is styling her hair.   \n",
       "1       3.6           A group of men play soccer on the beach.   \n",
       "2       5.0      One woman is measuring another woman's ankle.   \n",
       "3       4.2                    A man is cutting up a cucumber.   \n",
       "4       1.5                           A man is playing a harp.   \n",
       "...     ...                                                ...   \n",
       "1374    0.0  Philippines, Canada pledge to further boost re...   \n",
       "1375    1.0  Israel bars Palestinians from Jerusalem's Old ...   \n",
       "1376    1.0         How much do you know about Secret Service?   \n",
       "1377    0.0  Obama Struggles to Soothe Saudi Fears As Iran ...   \n",
       "1378    0.0          South Korea declares end to MERS outbreak   \n",
       "\n",
       "                                              sentence2  \n",
       "0                          A girl is brushing her hair.  \n",
       "1      A group of boys are playing soccer on the beach.  \n",
       "2               A woman measures another woman's ankle.  \n",
       "3                          A man is slicing a cucumber.  \n",
       "4                          A man is playing a keyboard.  \n",
       "...                                                 ...  \n",
       "1374            Philippines saves 100 after ferry sinks  \n",
       "1375  Two-state solution between Palestinians, Israe...  \n",
       "1376  Lawmakers from both sides express outrage at S...  \n",
       "1377  Myanmar Struggles to Finalize Voter Lists for ...  \n",
       "1378  North Korea Delegation Meets With South Korean...  \n",
       "\n",
       "[1379 rows x 3 columns]"
      ]
     },
     "execution_count": 67,
     "metadata": {},
     "output_type": "execute_result"
    }
   ],
   "source": [
    "cluster_data"
   ]
  },
  {
   "cell_type": "code",
   "execution_count": null,
   "id": "2d4d469f",
   "metadata": {},
   "outputs": [],
   "source": []
  },
  {
   "cell_type": "code",
   "execution_count": null,
   "id": "308f3e01",
   "metadata": {},
   "outputs": [],
   "source": []
  }
 ],
 "metadata": {
  "kernelspec": {
   "display_name": "Python 3 (ipykernel)",
   "language": "python",
   "name": "python3"
  },
  "language_info": {
   "codemirror_mode": {
    "name": "ipython",
    "version": 3
   },
   "file_extension": ".py",
   "mimetype": "text/x-python",
   "name": "python",
   "nbconvert_exporter": "python",
   "pygments_lexer": "ipython3",
   "version": "3.9.13"
  }
 },
 "nbformat": 4,
 "nbformat_minor": 5
}
