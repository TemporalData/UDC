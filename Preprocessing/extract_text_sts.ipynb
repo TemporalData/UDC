{
 "cells": [
  {
   "cell_type": "markdown",
   "id": "6a574cce",
   "metadata": {},
   "source": [
    "#### Imports"
   ]
  },
  {
   "cell_type": "code",
   "execution_count": 1,
   "id": "ccaf0763",
   "metadata": {},
   "outputs": [],
   "source": [
    "# Imports for data analysis\n",
    "import pandas as pd\n",
    "import matplotlib.pyplot as plt"
   ]
  },
  {
   "cell_type": "code",
   "execution_count": 2,
   "id": "af092f62",
   "metadata": {},
   "outputs": [],
   "source": [
    "# Imports for text processing\n",
    "import string\n",
    "import nltk\n",
    "from tqdm import tqdm"
   ]
  },
  {
   "cell_type": "code",
   "execution_count": 3,
   "id": "d987fd10",
   "metadata": {},
   "outputs": [
    {
     "name": "stderr",
     "output_type": "stream",
     "text": [
      "[nltk_data] Downloading package stopwords to /home/thesis-\n",
      "[nltk_data]     server1/nltk_data...\n",
      "[nltk_data]   Package stopwords is already up-to-date!\n",
      "[nltk_data] Downloading package punkt to /home/thesis-\n",
      "[nltk_data]     server1/nltk_data...\n",
      "[nltk_data]   Package punkt is already up-to-date!\n"
     ]
    },
    {
     "data": {
      "text/plain": [
       "True"
      ]
     },
     "execution_count": 3,
     "metadata": {},
     "output_type": "execute_result"
    }
   ],
   "source": [
    "# Specific nltk imports\n",
    "from nltk.tokenize import word_tokenize\n",
    "from nltk.corpus import stopwords\n",
    "nltk.download('stopwords')\n",
    "nltk.download('punkt')"
   ]
  },
  {
   "cell_type": "code",
   "execution_count": 4,
   "id": "23a87616",
   "metadata": {},
   "outputs": [],
   "source": [
    "# Imports for system IO\n",
    "from pathlib import Path"
   ]
  },
  {
   "cell_type": "markdown",
   "id": "31ea5ce8",
   "metadata": {},
   "source": [
    "### Reading in the STS data set"
   ]
  },
  {
   "cell_type": "code",
   "execution_count": 5,
   "id": "a29df062",
   "metadata": {},
   "outputs": [],
   "source": [
    "# Taken from readme.txt downloaded with the STS-b benchmark data set\n",
    "\n",
    "col_names = [\n",
    "    \"genre\",\n",
    "    \"filename\",\n",
    "    \"year\",\n",
    "    \"id_from_source\",\n",
    "    \"score\",\n",
    "    \"sentence1\",\n",
    "    \"sentence2\",\n",
    "    \"extra1\",\n",
    "    \"extra2\"\n",
    "]"
   ]
  },
  {
   "cell_type": "code",
   "execution_count": 6,
   "id": "d49429d2",
   "metadata": {},
   "outputs": [],
   "source": [
    "sts_dataset = pd.read_csv('data/input/sts-train.csv', sep=\"\\t\", names=col_names)"
   ]
  },
  {
   "cell_type": "markdown",
   "id": "16b76b32",
   "metadata": {},
   "source": [
    "## Exploratory analysis"
   ]
  },
  {
   "cell_type": "code",
   "execution_count": 7,
   "id": "896bccfa",
   "metadata": {},
   "outputs": [
    {
     "data": {
      "image/png": "[encoded data removed]",
      "text/plain": [
       "<Figure size 432x288 with 1 Axes>"
      ]
     },
     "metadata": {
      "needs_background": "light"
     },
     "output_type": "display_data"
    }
   ],
   "source": [
    "plt.figure()\n",
    "\n",
    "plt.hist(sts_dataset.iloc[:][\"score\"], bins=10)\n",
    "\n",
    "plt.show()"
   ]
  },
  {
   "cell_type": "code",
   "execution_count": 8,
   "id": "6ff860be",
   "metadata": {},
   "outputs": [
    {
     "data": {
      "text/html": [
       "<div>\n",
       "<style scoped>\n",
       "    .dataframe tbody tr th:only-of-type {\n",
       "        vertical-align: middle;\n",
       "    }\n",
       "\n",
       "    .dataframe tbody tr th {\n",
       "        vertical-align: top;\n",
       "    }\n",
       "\n",
       "    .dataframe thead th {\n",
       "        text-align: right;\n",
       "    }\n",
       "</style>\n",
       "<table border=\"1\" class=\"dataframe\">\n",
       "  <thead>\n",
       "    <tr style=\"text-align: right;\">\n",
       "      <th></th>\n",
       "      <th>genre</th>\n",
       "      <th>filename</th>\n",
       "      <th>year</th>\n",
       "      <th>id_from_source</th>\n",
       "      <th>score</th>\n",
       "      <th>sentence1</th>\n",
       "      <th>sentence2</th>\n",
       "      <th>extra1</th>\n",
       "      <th>extra2</th>\n",
       "    </tr>\n",
       "  </thead>\n",
       "  <tbody>\n",
       "    <tr>\n",
       "      <th>0</th>\n",
       "      <td>main-captions</td>\n",
       "      <td>MSRvid</td>\n",
       "      <td>2012test</td>\n",
       "      <td>1</td>\n",
       "      <td>5.00</td>\n",
       "      <td>A plane is taking off.</td>\n",
       "      <td>An air plane is taking off.</td>\n",
       "      <td>NaN</td>\n",
       "      <td>NaN</td>\n",
       "    </tr>\n",
       "    <tr>\n",
       "      <th>1</th>\n",
       "      <td>main-captions</td>\n",
       "      <td>MSRvid</td>\n",
       "      <td>2012test</td>\n",
       "      <td>4</td>\n",
       "      <td>3.80</td>\n",
       "      <td>A man is playing a large flute.</td>\n",
       "      <td>A man is playing a flute.</td>\n",
       "      <td>NaN</td>\n",
       "      <td>NaN</td>\n",
       "    </tr>\n",
       "    <tr>\n",
       "      <th>2</th>\n",
       "      <td>main-captions</td>\n",
       "      <td>MSRvid</td>\n",
       "      <td>2012test</td>\n",
       "      <td>5</td>\n",
       "      <td>3.80</td>\n",
       "      <td>A man is spreading shreded cheese on a pizza.</td>\n",
       "      <td>A man is spreading shredded cheese on an uncoo...</td>\n",
       "      <td>NaN</td>\n",
       "      <td>NaN</td>\n",
       "    </tr>\n",
       "    <tr>\n",
       "      <th>3</th>\n",
       "      <td>main-captions</td>\n",
       "      <td>MSRvid</td>\n",
       "      <td>2012test</td>\n",
       "      <td>6</td>\n",
       "      <td>2.60</td>\n",
       "      <td>Three men are playing chess.</td>\n",
       "      <td>Two men are playing chess.</td>\n",
       "      <td>NaN</td>\n",
       "      <td>NaN</td>\n",
       "    </tr>\n",
       "    <tr>\n",
       "      <th>4</th>\n",
       "      <td>main-captions</td>\n",
       "      <td>MSRvid</td>\n",
       "      <td>2012test</td>\n",
       "      <td>9</td>\n",
       "      <td>4.25</td>\n",
       "      <td>A man is playing the cello.</td>\n",
       "      <td>A man seated is playing the cello.</td>\n",
       "      <td>NaN</td>\n",
       "      <td>NaN</td>\n",
       "    </tr>\n",
       "    <tr>\n",
       "      <th>5</th>\n",
       "      <td>main-captions</td>\n",
       "      <td>MSRvid</td>\n",
       "      <td>2012test</td>\n",
       "      <td>11</td>\n",
       "      <td>4.25</td>\n",
       "      <td>Some men are fighting.</td>\n",
       "      <td>Two men are fighting.</td>\n",
       "      <td>NaN</td>\n",
       "      <td>NaN</td>\n",
       "    </tr>\n",
       "    <tr>\n",
       "      <th>6</th>\n",
       "      <td>main-captions</td>\n",
       "      <td>MSRvid</td>\n",
       "      <td>2012test</td>\n",
       "      <td>12</td>\n",
       "      <td>0.50</td>\n",
       "      <td>A man is smoking.</td>\n",
       "      <td>A man is skating.</td>\n",
       "      <td>NaN</td>\n",
       "      <td>NaN</td>\n",
       "    </tr>\n",
       "    <tr>\n",
       "      <th>7</th>\n",
       "      <td>main-captions</td>\n",
       "      <td>MSRvid</td>\n",
       "      <td>2012test</td>\n",
       "      <td>13</td>\n",
       "      <td>1.60</td>\n",
       "      <td>The man is playing the piano.</td>\n",
       "      <td>The man is playing the guitar.</td>\n",
       "      <td>NaN</td>\n",
       "      <td>NaN</td>\n",
       "    </tr>\n",
       "    <tr>\n",
       "      <th>8</th>\n",
       "      <td>main-captions</td>\n",
       "      <td>MSRvid</td>\n",
       "      <td>2012test</td>\n",
       "      <td>14</td>\n",
       "      <td>2.20</td>\n",
       "      <td>A man is playing on a guitar and singing.</td>\n",
       "      <td>A woman is playing an acoustic guitar and sing...</td>\n",
       "      <td>NaN</td>\n",
       "      <td>NaN</td>\n",
       "    </tr>\n",
       "    <tr>\n",
       "      <th>9</th>\n",
       "      <td>main-captions</td>\n",
       "      <td>MSRvid</td>\n",
       "      <td>2012test</td>\n",
       "      <td>16</td>\n",
       "      <td>5.00</td>\n",
       "      <td>A person is throwing a cat on to the ceiling.</td>\n",
       "      <td>A person throws a cat on the ceiling.</td>\n",
       "      <td>NaN</td>\n",
       "      <td>NaN</td>\n",
       "    </tr>\n",
       "  </tbody>\n",
       "</table>\n",
       "</div>"
      ],
      "text/plain": [
       "           genre filename      year  id_from_source  score  \\\n",
       "0  main-captions   MSRvid  2012test               1   5.00   \n",
       "1  main-captions   MSRvid  2012test               4   3.80   \n",
       "2  main-captions   MSRvid  2012test               5   3.80   \n",
       "3  main-captions   MSRvid  2012test               6   2.60   \n",
       "4  main-captions   MSRvid  2012test               9   4.25   \n",
       "5  main-captions   MSRvid  2012test              11   4.25   \n",
       "6  main-captions   MSRvid  2012test              12   0.50   \n",
       "7  main-captions   MSRvid  2012test              13   1.60   \n",
       "8  main-captions   MSRvid  2012test              14   2.20   \n",
       "9  main-captions   MSRvid  2012test              16   5.00   \n",
       "\n",
       "                                       sentence1  \\\n",
       "0                         A plane is taking off.   \n",
       "1                A man is playing a large flute.   \n",
       "2  A man is spreading shreded cheese on a pizza.   \n",
       "3                   Three men are playing chess.   \n",
       "4                    A man is playing the cello.   \n",
       "5                         Some men are fighting.   \n",
       "6                              A man is smoking.   \n",
       "7                  The man is playing the piano.   \n",
       "8      A man is playing on a guitar and singing.   \n",
       "9  A person is throwing a cat on to the ceiling.   \n",
       "\n",
       "                                           sentence2 extra1 extra2  \n",
       "0                        An air plane is taking off.    NaN    NaN  \n",
       "1                          A man is playing a flute.    NaN    NaN  \n",
       "2  A man is spreading shredded cheese on an uncoo...    NaN    NaN  \n",
       "3                         Two men are playing chess.    NaN    NaN  \n",
       "4                 A man seated is playing the cello.    NaN    NaN  \n",
       "5                              Two men are fighting.    NaN    NaN  \n",
       "6                                  A man is skating.    NaN    NaN  \n",
       "7                     The man is playing the guitar.    NaN    NaN  \n",
       "8  A woman is playing an acoustic guitar and sing...    NaN    NaN  \n",
       "9              A person throws a cat on the ceiling.    NaN    NaN  "
      ]
     },
     "execution_count": 8,
     "metadata": {},
     "output_type": "execute_result"
    }
   ],
   "source": [
    "sts_dataset.iloc[:10][:]"
   ]
  },
  {
   "cell_type": "markdown",
   "id": "99a76f9d",
   "metadata": {},
   "source": [
    "## Functions"
   ]
  },
  {
   "cell_type": "code",
   "execution_count": 9,
   "id": "fa6b73e6",
   "metadata": {},
   "outputs": [],
   "source": [
    "# Function to tokenize a list of sentences\n",
    "# Input - list of strings\n",
    "# Output - list of array of words (tokens)\n",
    "def tokenize_list(sentence_list):\n",
    "    \n",
    "    # Loop all the sentences in the list\n",
    "    for i in tqdm(range(len(sentence_list))):\n",
    "        current_sentence = str(sentence_list[i]).lower()\n",
    "        sentence_list[i] = word_tokenize(current_sentence)\n",
    "        \n",
    "    return sentence_list"
   ]
  },
  {
   "cell_type": "code",
   "execution_count": 10,
   "id": "36074232",
   "metadata": {},
   "outputs": [],
   "source": [
    "# Function for removing punctuation as well as german and english stopwords\n",
    "# Input - list of tokenized sentences\n",
    "# Output - list of tokenized sentences with desired words removed\n",
    "def filter_sentences(token_sentence_list):\n",
    "    \n",
    "    # Remove 'man' from the german stopwords\n",
    "    german_stopwords = stopwords.words(\"german\")\n",
    "    german_stopwords.remove('man')\n",
    "    \n",
    "    for i in tqdm(range(len(token_sentence_list))):\n",
    "        sentence = token_sentence_list[i]\n",
    "\n",
    "        filter_sentence = []\n",
    "\n",
    "        for word in sentence:\n",
    "            if not word in string.punctuation:\n",
    "                if not (word in stopwords.words(\"english\") or word in german_stopwords):\n",
    "                    filter_sentence.append(word)\n",
    "\n",
    "        token_sentence_list[i] = filter_sentence\n",
    "    \n",
    "    return token_sentence_list"
   ]
  },
  {
   "cell_type": "code",
   "execution_count": 11,
   "id": "d4302f5e",
   "metadata": {},
   "outputs": [],
   "source": [
    "# Function for writing the responses to a txt file\n",
    "# Input - filename, list of the text to be saved\n",
    "# Output - txt file with filename to ./data folder\n",
    "def write_to_txt(filename, text_list):\n",
    "    \n",
    "    #Check whether output directory exists\n",
    "    Path('./data/output').mkdir(parents=True, exist_ok=True)\n",
    "    \n",
    "    with open(f'data/output/{filename}.txt', 'w') as f:\n",
    "        for sentence in text_list:\n",
    "            # Check for empty sentences\n",
    "            if not sentence == []:\n",
    "                f.write(\"%s\\n\" % sentence)"
   ]
  },
  {
   "cell_type": "code",
   "execution_count": 12,
   "id": "1201724c",
   "metadata": {},
   "outputs": [],
   "source": [
    "# Function to filter sentences to word2vec format\n",
    "def data_to_word2vec_format(list_of_sentences):\n",
    "    \n",
    "    #Tokenize the data\n",
    "    list_of_sentences = tokenize_list(list_of_sentences)\n",
    "    \n",
    "    #Filter the tokenized data\n",
    "    list_of_sentences = filter_sentences(list_of_sentences)\n",
    "    \n",
    "    return list_of_sentences\n",
    "    "
   ]
  },
  {
   "cell_type": "markdown",
   "id": "55e00698",
   "metadata": {},
   "source": [
    "## Processing STS for training stage"
   ]
  },
  {
   "cell_type": "markdown",
   "id": "598c9a1e",
   "metadata": {},
   "source": [
    "### Word2vec"
   ]
  },
  {
   "cell_type": "code",
   "execution_count": 13,
   "id": "01b9e703",
   "metadata": {},
   "outputs": [],
   "source": [
    "sts_text = sts_dataset[[\"sentence1\",\"sentence2\"]]"
   ]
  },
  {
   "cell_type": "code",
   "execution_count": 14,
   "id": "f3a5c331",
   "metadata": {},
   "outputs": [
    {
     "data": {
      "text/html": [
       "<div>\n",
       "<style scoped>\n",
       "    .dataframe tbody tr th:only-of-type {\n",
       "        vertical-align: middle;\n",
       "    }\n",
       "\n",
       "    .dataframe tbody tr th {\n",
       "        vertical-align: top;\n",
       "    }\n",
       "\n",
       "    .dataframe thead th {\n",
       "        text-align: right;\n",
       "    }\n",
       "</style>\n",
       "<table border=\"1\" class=\"dataframe\">\n",
       "  <thead>\n",
       "    <tr style=\"text-align: right;\">\n",
       "      <th></th>\n",
       "      <th>sentence1</th>\n",
       "      <th>sentence2</th>\n",
       "    </tr>\n",
       "  </thead>\n",
       "  <tbody>\n",
       "    <tr>\n",
       "      <th>0</th>\n",
       "      <td>A plane is taking off.</td>\n",
       "      <td>An air plane is taking off.</td>\n",
       "    </tr>\n",
       "    <tr>\n",
       "      <th>1</th>\n",
       "      <td>A man is playing a large flute.</td>\n",
       "      <td>A man is playing a flute.</td>\n",
       "    </tr>\n",
       "    <tr>\n",
       "      <th>2</th>\n",
       "      <td>A man is spreading shreded cheese on a pizza.</td>\n",
       "      <td>A man is spreading shredded cheese on an uncoo...</td>\n",
       "    </tr>\n",
       "    <tr>\n",
       "      <th>3</th>\n",
       "      <td>Three men are playing chess.</td>\n",
       "      <td>Two men are playing chess.</td>\n",
       "    </tr>\n",
       "    <tr>\n",
       "      <th>4</th>\n",
       "      <td>A man is playing the cello.</td>\n",
       "      <td>A man seated is playing the cello.</td>\n",
       "    </tr>\n",
       "    <tr>\n",
       "      <th>...</th>\n",
       "      <td>...</td>\n",
       "      <td>...</td>\n",
       "    </tr>\n",
       "    <tr>\n",
       "      <th>5706</th>\n",
       "      <td>Severe Gales As Storm Clodagh Hits Britain</td>\n",
       "      <td>Merkel pledges NATO solidarity with Latvia</td>\n",
       "    </tr>\n",
       "    <tr>\n",
       "      <th>5707</th>\n",
       "      <td>Dozens of Egyptians hostages taken by Libyan t...</td>\n",
       "      <td>Egyptian boat crash death toll rises as more b...</td>\n",
       "    </tr>\n",
       "    <tr>\n",
       "      <th>5708</th>\n",
       "      <td>President heading to Bahrain</td>\n",
       "      <td>President Xi: China to continue help to fight ...</td>\n",
       "    </tr>\n",
       "    <tr>\n",
       "      <th>5709</th>\n",
       "      <td>China, India vow to further bilateral ties</td>\n",
       "      <td>China Scrambles to Reassure Jittery Stock Traders</td>\n",
       "    </tr>\n",
       "    <tr>\n",
       "      <th>5710</th>\n",
       "      <td>Putin spokesman: Doping charges appear unfounded</td>\n",
       "      <td>The Latest on Severe Weather: 1 Dead in Texas ...</td>\n",
       "    </tr>\n",
       "  </tbody>\n",
       "</table>\n",
       "<p>5711 rows × 2 columns</p>\n",
       "</div>"
      ],
      "text/plain": [
       "                                              sentence1  \\\n",
       "0                                A plane is taking off.   \n",
       "1                       A man is playing a large flute.   \n",
       "2         A man is spreading shreded cheese on a pizza.   \n",
       "3                          Three men are playing chess.   \n",
       "4                           A man is playing the cello.   \n",
       "...                                                 ...   \n",
       "5706         Severe Gales As Storm Clodagh Hits Britain   \n",
       "5707  Dozens of Egyptians hostages taken by Libyan t...   \n",
       "5708                       President heading to Bahrain   \n",
       "5709         China, India vow to further bilateral ties   \n",
       "5710   Putin spokesman: Doping charges appear unfounded   \n",
       "\n",
       "                                              sentence2  \n",
       "0                           An air plane is taking off.  \n",
       "1                             A man is playing a flute.  \n",
       "2     A man is spreading shredded cheese on an uncoo...  \n",
       "3                            Two men are playing chess.  \n",
       "4                    A man seated is playing the cello.  \n",
       "...                                                 ...  \n",
       "5706         Merkel pledges NATO solidarity with Latvia  \n",
       "5707  Egyptian boat crash death toll rises as more b...  \n",
       "5708  President Xi: China to continue help to fight ...  \n",
       "5709  China Scrambles to Reassure Jittery Stock Traders  \n",
       "5710  The Latest on Severe Weather: 1 Dead in Texas ...  \n",
       "\n",
       "[5711 rows x 2 columns]"
      ]
     },
     "execution_count": 14,
     "metadata": {},
     "output_type": "execute_result"
    }
   ],
   "source": [
    "sts_text"
   ]
  },
  {
   "cell_type": "code",
   "execution_count": 15,
   "id": "f214162c",
   "metadata": {},
   "outputs": [],
   "source": [
    "# Create a list of all sentences, condensed to one column\n",
    "word2vec_input = sts_text.values.flatten()"
   ]
  },
  {
   "cell_type": "code",
   "execution_count": 16,
   "id": "cb33760f",
   "metadata": {},
   "outputs": [
    {
     "data": {
      "text/plain": [
       "array(['A plane is taking off.', 'An air plane is taking off.',\n",
       "       'A man is playing a large flute.', ...,\n",
       "       'China Scrambles to Reassure Jittery Stock Traders',\n",
       "       'Putin spokesman: Doping charges appear unfounded',\n",
       "       'The Latest on Severe Weather: 1 Dead in Texas After Tornado'],\n",
       "      dtype=object)"
      ]
     },
     "execution_count": 16,
     "metadata": {},
     "output_type": "execute_result"
    }
   ],
   "source": [
    "word2vec_input"
   ]
  },
  {
   "cell_type": "code",
   "execution_count": 17,
   "id": "73763011",
   "metadata": {},
   "outputs": [
    {
     "name": "stderr",
     "output_type": "stream",
     "text": [
      "100%|████████████████████████████████████████████████████████████████████████████████████████████████████████████████████████████████████████████████████████████████████████████████████████████████████████████████████████| 11422/11422 [00:00<00:00, 14874.72it/s]\n"
     ]
    },
    {
     "data": {
      "text/plain": [
       "array([list(['a', 'plane', 'is', 'taking', 'off', '.']),\n",
       "       list(['an', 'air', 'plane', 'is', 'taking', 'off', '.']),\n",
       "       list(['a', 'man', 'is', 'playing', 'a', 'large', 'flute', '.']),\n",
       "       ...,\n",
       "       list(['china', 'scrambles', 'to', 'reassure', 'jittery', 'stock', 'traders']),\n",
       "       list(['putin', 'spokesman', ':', 'doping', 'charges', 'appear', 'unfounded']),\n",
       "       list(['the', 'latest', 'on', 'severe', 'weather', ':', '1', 'dead', 'in', 'texas', 'after', 'tornado'])],\n",
       "      dtype=object)"
      ]
     },
     "execution_count": 17,
     "metadata": {},
     "output_type": "execute_result"
    }
   ],
   "source": [
    "tokenize_list(word2vec_input)"
   ]
  },
  {
   "cell_type": "code",
   "execution_count": 18,
   "id": "02750f40",
   "metadata": {},
   "outputs": [
    {
     "name": "stderr",
     "output_type": "stream",
     "text": [
      "100%|█████████████████████████████████████████████████████████████████████████████████████████████████████████████████████████████████████████████████████████████████████████████████████████████████████████████████████████| 11422/11422 [00:06<00:00, 1674.95it/s]\n"
     ]
    },
    {
     "data": {
      "text/plain": [
       "array([list(['plane', 'taking']), list(['air', 'plane', 'taking']),\n",
       "       list(['man', 'playing', 'large', 'flute']), ...,\n",
       "       list(['china', 'scrambles', 'reassure', 'jittery', 'stock', 'traders']),\n",
       "       list(['putin', 'spokesman', 'doping', 'charges', 'appear', 'unfounded']),\n",
       "       list(['latest', 'severe', 'weather', '1', 'dead', 'texas', 'tornado'])],\n",
       "      dtype=object)"
      ]
     },
     "execution_count": 18,
     "metadata": {},
     "output_type": "execute_result"
    }
   ],
   "source": [
    "filter_sentences(word2vec_input)"
   ]
  },
  {
   "cell_type": "code",
   "execution_count": 19,
   "id": "33307ff8",
   "metadata": {},
   "outputs": [],
   "source": [
    "write_to_txt('sts_word2vec_input', word2vec_input)"
   ]
  },
  {
   "cell_type": "code",
   "execution_count": 20,
   "id": "a22a4757",
   "metadata": {},
   "outputs": [],
   "source": [
    "# Remove from memory\n",
    "del word2vec_input"
   ]
  },
  {
   "cell_type": "markdown",
   "id": "2a61d6dd",
   "metadata": {},
   "source": [
    "### SimCSE"
   ]
  },
  {
   "cell_type": "code",
   "execution_count": 21,
   "id": "87c15802",
   "metadata": {},
   "outputs": [],
   "source": [
    "simcse_input = sts_text.values.flatten()"
   ]
  },
  {
   "cell_type": "code",
   "execution_count": 22,
   "id": "6eb044cc",
   "metadata": {},
   "outputs": [],
   "source": [
    "write_to_txt('sts_simcse_input', simcse_input)"
   ]
  },
  {
   "cell_type": "code",
   "execution_count": 23,
   "id": "99ac8acf",
   "metadata": {},
   "outputs": [],
   "source": [
    "# Remove from memory\n",
    "del simcse_input"
   ]
  },
  {
   "cell_type": "markdown",
   "id": "0e541d88",
   "metadata": {},
   "source": [
    "## Processing STS for clustering stage"
   ]
  },
  {
   "cell_type": "markdown",
   "id": "9fd908da",
   "metadata": {},
   "source": [
    "### SimCSE"
   ]
  },
  {
   "cell_type": "code",
   "execution_count": 24,
   "id": "a38ada58",
   "metadata": {},
   "outputs": [],
   "source": [
    "sts_test_dataset = pd.read_csv('data/input/sts-test.csv', sep=\"\\t\", names=col_names)"
   ]
  },
  {
   "cell_type": "code",
   "execution_count": 25,
   "id": "082cd96b",
   "metadata": {},
   "outputs": [],
   "source": [
    "clustering_columns = ['score','sentence1','sentence2']\n",
    "cluster_data = sts_test_dataset[clustering_columns] "
   ]
  },
  {
   "cell_type": "code",
   "execution_count": 26,
   "id": "8ffaaa01",
   "metadata": {},
   "outputs": [],
   "source": [
    "cluster_data.to_csv('data/output/sts_simcse_test_input.csv')"
   ]
  },
  {
   "cell_type": "markdown",
   "id": "57e94915",
   "metadata": {},
   "source": [
    "### Word2vec"
   ]
  },
  {
   "cell_type": "code",
   "execution_count": 27,
   "id": "59428d17",
   "metadata": {},
   "outputs": [
    {
     "name": "stderr",
     "output_type": "stream",
     "text": [
      "100%|██████████████████████████████████████████████████████████████████████████████████████████████████████████████████████████████████████████████████████████████████████████████████████████████████████████████████████████| 1379/1379 [00:00<00:00, 14208.24it/s]\n",
      "100%|███████████████████████████████████████████████████████████████████████████████████████████████████████████████████████████████████████████████████████████████████████████████████████████████████████████████████████████| 1379/1379 [00:00<00:00, 1697.74it/s]\n"
     ]
    },
    {
     "data": {
      "text/plain": [
       "array([list(['girl', 'styling', 'hair']),\n",
       "       list(['group', 'men', 'play', 'soccer', 'beach']),\n",
       "       list(['one', 'woman', 'measuring', 'another', 'woman', \"'s\", 'ankle']),\n",
       "       ..., list(['much', 'know', 'secret', 'service']),\n",
       "       list(['obama', 'struggles', 'soothe', 'saudi', 'fears', 'iran', 'talks', 'resume']),\n",
       "       list(['south', 'korea', 'declares', 'end', 'mers', 'outbreak'])],\n",
       "      dtype=object)"
      ]
     },
     "execution_count": 27,
     "metadata": {},
     "output_type": "execute_result"
    }
   ],
   "source": [
    "data_to_word2vec_format(cluster_data['sentence1'].values)"
   ]
  },
  {
   "cell_type": "code",
   "execution_count": 28,
   "id": "2d4d469f",
   "metadata": {},
   "outputs": [
    {
     "name": "stderr",
     "output_type": "stream",
     "text": [
      "100%|██████████████████████████████████████████████████████████████████████████████████████████████████████████████████████████████████████████████████████████████████████████████████████████████████████████████████████████| 1379/1379 [00:00<00:00, 15502.65it/s]\n",
      "100%|███████████████████████████████████████████████████████████████████████████████████████████████████████████████████████████████████████████████████████████████████████████████████████████████████████████████████████████| 1379/1379 [00:00<00:00, 1726.91it/s]\n"
     ]
    },
    {
     "data": {
      "text/plain": [
       "array([list(['girl', 'brushing', 'hair']),\n",
       "       list(['group', 'boys', 'playing', 'soccer', 'beach']),\n",
       "       list(['woman', 'measures', 'another', 'woman', \"'s\", 'ankle']),\n",
       "       ...,\n",
       "       list(['lawmakers', 'sides', 'express', 'outrage', 'secret', 'service']),\n",
       "       list(['myanmar', 'struggles', 'finalize', 'voter', 'lists', 'sunday', 'polls']),\n",
       "       list(['north', 'korea', 'delegation', 'meets', 'south', 'korean', 'officials'])],\n",
       "      dtype=object)"
      ]
     },
     "execution_count": 28,
     "metadata": {},
     "output_type": "execute_result"
    }
   ],
   "source": [
    "data_to_word2vec_format(cluster_data['sentence2'].values)"
   ]
  },
  {
   "cell_type": "code",
   "execution_count": 29,
   "id": "308f3e01",
   "metadata": {},
   "outputs": [],
   "source": [
    "cluster_data.to_csv('data/output/sts_word2vec_test_input.csv')"
   ]
  }
 ],
 "metadata": {
  "kernelspec": {
   "display_name": "Python 3 (ipykernel)",
   "language": "python",
   "name": "python3"
  },
  "language_info": {
   "codemirror_mode": {
    "name": "ipython",
    "version": 3
   },
   "file_extension": ".py",
   "mimetype": "text/x-python",
   "name": "python",
   "nbconvert_exporter": "python",
   "pygments_lexer": "ipython3",
   "version": "3.9.13"
  }
 },
 "nbformat": 4,
 "nbformat_minor": 5
}
