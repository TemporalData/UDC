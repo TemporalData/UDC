{
 "cells": [
  {
   "cell_type": "markdown",
   "id": "799d0091",
   "metadata": {},
   "source": [
    "### Imports"
   ]
  },
  {
   "cell_type": "code",
   "execution_count": 1,
   "id": "ebab4303",
   "metadata": {},
   "outputs": [],
   "source": [
    "from simcse import SimCSE\n",
    "import pandas as pd\n",
    "import numpy as np\n",
    "from pathlib import Path"
   ]
  },
  {
   "cell_type": "markdown",
   "id": "a528aeea",
   "metadata": {},
   "source": [
    "### Load model and dataset"
   ]
  },
  {
   "cell_type": "code",
   "execution_count": 2,
   "id": "98743a35",
   "metadata": {},
   "outputs": [
    {
     "name": "stderr",
     "output_type": "stream",
     "text": [
      "Some weights of BertModel were not initialized from the model checkpoint at ./data/dental_model/ and are newly initialized: ['bert.pooler.dense.weight', 'bert.pooler.dense.bias']\n",
      "You should probably TRAIN this model on a down-stream task to be able to use it for predictions and inference.\n"
     ]
    }
   ],
   "source": [
    "model = SimCSE('./data/sts_model/')"
   ]
  },
  {
   "cell_type": "code",
   "execution_count": 3,
   "id": "af3ba3f2",
   "metadata": {},
   "outputs": [],
   "source": [
    "dataset = pd.read_csv('data/input/sts_simcse_test_input.csv')"
   ]
  },
  {
   "cell_type": "markdown",
   "id": "746af3e7",
   "metadata": {},
   "source": [
    "### Process"
   ]
  },
  {
   "cell_type": "code",
   "execution_count": 4,
   "id": "b968e6c1",
   "metadata": {},
   "outputs": [],
   "source": [
    "sentence1_values = [str(i) for i in list(dataset['sentence1'].values)]\n",
    "sentence2_values = [str(i) for i in list(dataset['sentence2'].values)]"
   ]
  },
  {
   "cell_type": "code",
   "execution_count": 5,
   "id": "5d6a612e",
   "metadata": {},
   "outputs": [
    {
     "name": "stderr",
     "output_type": "stream",
     "text": [
      "100%|██████████████████████████████████████████████████████████████████████████████████████████████████████████████████████████████████████████████████████████████████████████████████████████████████████████████████████████████████████| 22/22 [00:01<00:00, 15.59it/s]\n"
     ]
    }
   ],
   "source": [
    "sentence1_embedding = model.encode(sentence1_values)"
   ]
  },
  {
   "cell_type": "code",
   "execution_count": 6,
   "id": "72cd8736",
   "metadata": {},
   "outputs": [
    {
     "name": "stderr",
     "output_type": "stream",
     "text": [
      "100%|██████████████████████████████████████████████████████████████████████████████████████████████████████████████████████████████████████████████████████████████████████████████████████████████████████████████████████████████████████| 22/22 [00:00<00:00, 38.38it/s]\n"
     ]
    }
   ],
   "source": [
    "sentence2_embedding = model.encode(sentence2_values)"
   ]
  },
  {
   "cell_type": "code",
   "execution_count": 7,
   "id": "07b2c737",
   "metadata": {},
   "outputs": [
    {
     "data": {
      "text/plain": [
       "768"
      ]
     },
     "execution_count": 7,
     "metadata": {},
     "output_type": "execute_result"
    }
   ],
   "source": [
    "len(sentence2_embedding[0])"
   ]
  },
  {
   "cell_type": "code",
   "execution_count": 9,
   "id": "180aa876",
   "metadata": {},
   "outputs": [
    {
     "data": {
      "text/plain": [
       "0       2.5\n",
       "1       3.6\n",
       "2       5.0\n",
       "3       4.2\n",
       "4       1.5\n",
       "       ... \n",
       "1374    0.0\n",
       "1375    1.0\n",
       "1376    1.0\n",
       "1377    0.0\n",
       "1378    0.0\n",
       "Name: score, Length: 1379, dtype: float64"
      ]
     },
     "execution_count": 9,
     "metadata": {},
     "output_type": "execute_result"
    }
   ],
   "source": [
    "dataset['score']"
   ]
  },
  {
   "cell_type": "code",
   "execution_count": 13,
   "id": "07e2fb37",
   "metadata": {},
   "outputs": [],
   "source": [
    "sts_clutser_embeddings = []\n",
    "\n",
    "# Loop both embeddings and enter them in the new array\n",
    "for i in range(dataset.shape[0]):\n",
    "    sts_clutser_embeddings.append([\n",
    "        i,\n",
    "        dataset['score'][i],\n",
    "        1,\n",
    "        np.array(sentence1_embedding[i])])\n",
    "    \n",
    "    sts_clutser_embeddings.append([\n",
    "        i,\n",
    "        dataset['score'][i],\n",
    "        2,\n",
    "        np.array(sentence2_embedding[i])])"
   ]
  },
  {
   "cell_type": "code",
   "execution_count": 14,
   "id": "169722a2",
   "metadata": {},
   "outputs": [],
   "source": [
    "sts_cluster_input = pd.DataFrame(sts_clutser_embeddings)\n",
    "sts_cluster_input.columns = ['row','score','sentence number','sentence embedding']"
   ]
  },
  {
   "cell_type": "code",
   "execution_count": 15,
   "id": "5a18b8bc",
   "metadata": {},
   "outputs": [
    {
     "data": {
      "text/html": [
       "<div>\n",
       "<style scoped>\n",
       "    .dataframe tbody tr th:only-of-type {\n",
       "        vertical-align: middle;\n",
       "    }\n",
       "\n",
       "    .dataframe tbody tr th {\n",
       "        vertical-align: top;\n",
       "    }\n",
       "\n",
       "    .dataframe thead th {\n",
       "        text-align: right;\n",
       "    }\n",
       "</style>\n",
       "<table border=\"1\" class=\"dataframe\">\n",
       "  <thead>\n",
       "    <tr style=\"text-align: right;\">\n",
       "      <th></th>\n",
       "      <th>row</th>\n",
       "      <th>score</th>\n",
       "      <th>sentence number</th>\n",
       "      <th>sentence embedding</th>\n",
       "    </tr>\n",
       "  </thead>\n",
       "  <tbody>\n",
       "    <tr>\n",
       "      <th>0</th>\n",
       "      <td>0</td>\n",
       "      <td>2.5</td>\n",
       "      <td>1</td>\n",
       "      <td>[0.028135695, 0.07861127, -0.004314823, -0.028...</td>\n",
       "    </tr>\n",
       "    <tr>\n",
       "      <th>1</th>\n",
       "      <td>0</td>\n",
       "      <td>2.5</td>\n",
       "      <td>2</td>\n",
       "      <td>[0.018967861, 0.06663294, -0.05224602, -0.0317...</td>\n",
       "    </tr>\n",
       "    <tr>\n",
       "      <th>2</th>\n",
       "      <td>1</td>\n",
       "      <td>3.6</td>\n",
       "      <td>1</td>\n",
       "      <td>[-0.008153794, 0.0068986965, -0.084251024, 0.0...</td>\n",
       "    </tr>\n",
       "    <tr>\n",
       "      <th>3</th>\n",
       "      <td>1</td>\n",
       "      <td>3.6</td>\n",
       "      <td>2</td>\n",
       "      <td>[-0.0041697943, 0.0023616785, -0.07975078, 0.0...</td>\n",
       "    </tr>\n",
       "    <tr>\n",
       "      <th>4</th>\n",
       "      <td>2</td>\n",
       "      <td>5.0</td>\n",
       "      <td>1</td>\n",
       "      <td>[-0.0062140888, 0.041082907, -0.021769198, -0....</td>\n",
       "    </tr>\n",
       "    <tr>\n",
       "      <th>...</th>\n",
       "      <td>...</td>\n",
       "      <td>...</td>\n",
       "      <td>...</td>\n",
       "      <td>...</td>\n",
       "    </tr>\n",
       "    <tr>\n",
       "      <th>2753</th>\n",
       "      <td>1376</td>\n",
       "      <td>1.0</td>\n",
       "      <td>2</td>\n",
       "      <td>[0.011161995, 0.01629606, -0.026892785, 0.0733...</td>\n",
       "    </tr>\n",
       "    <tr>\n",
       "      <th>2754</th>\n",
       "      <td>1377</td>\n",
       "      <td>0.0</td>\n",
       "      <td>1</td>\n",
       "      <td>[-0.04969108, -0.0004373235, 0.027179077, 0.08...</td>\n",
       "    </tr>\n",
       "    <tr>\n",
       "      <th>2755</th>\n",
       "      <td>1377</td>\n",
       "      <td>0.0</td>\n",
       "      <td>2</td>\n",
       "      <td>[0.00799096, -0.054691225, 0.02732386, 0.03177...</td>\n",
       "    </tr>\n",
       "    <tr>\n",
       "      <th>2756</th>\n",
       "      <td>1378</td>\n",
       "      <td>0.0</td>\n",
       "      <td>1</td>\n",
       "      <td>[-0.008215942, 0.001497228, -0.004740279, -0.0...</td>\n",
       "    </tr>\n",
       "    <tr>\n",
       "      <th>2757</th>\n",
       "      <td>1378</td>\n",
       "      <td>0.0</td>\n",
       "      <td>2</td>\n",
       "      <td>[-0.025773099, 0.044370968, 0.008842704, -0.01...</td>\n",
       "    </tr>\n",
       "  </tbody>\n",
       "</table>\n",
       "<p>2758 rows × 4 columns</p>\n",
       "</div>"
      ],
      "text/plain": [
       "       row  score  sentence number  \\\n",
       "0        0    2.5                1   \n",
       "1        0    2.5                2   \n",
       "2        1    3.6                1   \n",
       "3        1    3.6                2   \n",
       "4        2    5.0                1   \n",
       "...    ...    ...              ...   \n",
       "2753  1376    1.0                2   \n",
       "2754  1377    0.0                1   \n",
       "2755  1377    0.0                2   \n",
       "2756  1378    0.0                1   \n",
       "2757  1378    0.0                2   \n",
       "\n",
       "                                     sentence embedding  \n",
       "0     [0.028135695, 0.07861127, -0.004314823, -0.028...  \n",
       "1     [0.018967861, 0.06663294, -0.05224602, -0.0317...  \n",
       "2     [-0.008153794, 0.0068986965, -0.084251024, 0.0...  \n",
       "3     [-0.0041697943, 0.0023616785, -0.07975078, 0.0...  \n",
       "4     [-0.0062140888, 0.041082907, -0.021769198, -0....  \n",
       "...                                                 ...  \n",
       "2753  [0.011161995, 0.01629606, -0.026892785, 0.0733...  \n",
       "2754  [-0.04969108, -0.0004373235, 0.027179077, 0.08...  \n",
       "2755  [0.00799096, -0.054691225, 0.02732386, 0.03177...  \n",
       "2756  [-0.008215942, 0.001497228, -0.004740279, -0.0...  \n",
       "2757  [-0.025773099, 0.044370968, 0.008842704, -0.01...  \n",
       "\n",
       "[2758 rows x 4 columns]"
      ]
     },
     "execution_count": 15,
     "metadata": {},
     "output_type": "execute_result"
    }
   ],
   "source": [
    "sts_cluster_input"
   ]
  },
  {
   "cell_type": "code",
   "execution_count": 16,
   "id": "697d9cd5",
   "metadata": {},
   "outputs": [],
   "source": [
    "# Check folder exists\n",
    "Path('./data/output').mkdir(parents=True, exist_ok=True)\n",
    "\n",
    "# Export pandas dataframe to .csv\n",
    "sts_cluster_input.to_csv('data/output/sts_cluster_input.csv')"
   ]
  },
  {
   "cell_type": "code",
   "execution_count": null,
   "id": "dcc866fa",
   "metadata": {},
   "outputs": [],
   "source": []
  }
 ],
 "metadata": {
  "kernelspec": {
   "display_name": "Python 3 (ipykernel)",
   "language": "python",
   "name": "python3"
  },
  "language_info": {
   "codemirror_mode": {
    "name": "ipython",
    "version": 3
   },
   "file_extension": ".py",
   "mimetype": "text/x-python",
   "name": "python",
   "nbconvert_exporter": "python",
   "pygments_lexer": "ipython3",
   "version": "3.9.13"
  }
 },
 "nbformat": 4,
 "nbformat_minor": 5
}
