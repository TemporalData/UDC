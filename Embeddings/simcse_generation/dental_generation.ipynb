{
 "cells": [
  {
   "cell_type": "markdown",
   "id": "799d0091",
   "metadata": {},
   "source": [
    "### Imports"
   ]
  },
  {
   "cell_type": "code",
   "execution_count": 139,
   "id": "ebab4303",
   "metadata": {},
   "outputs": [],
   "source": [
    "from simcse import SimCSE\n",
    "import pandas as pd\n",
    "import numpy as np\n",
    "from pathlib import Path"
   ]
  },
  {
   "cell_type": "markdown",
   "id": "a528aeea",
   "metadata": {},
   "source": [
    "### Load model and dataset"
   ]
  },
  {
   "cell_type": "code",
   "execution_count": 6,
   "id": "98743a35",
   "metadata": {},
   "outputs": [
    {
     "name": "stderr",
     "output_type": "stream",
     "text": [
      "Some weights of BertModel were not initialized from the model checkpoint at ./data/dental_model/ and are newly initialized: ['bert.pooler.dense.weight', 'bert.pooler.dense.bias']\n",
      "You should probably TRAIN this model on a down-stream task to be able to use it for predictions and inference.\n"
     ]
    }
   ],
   "source": [
    "model = SimCSE('./data/dental_model/')"
   ]
  },
  {
   "cell_type": "code",
   "execution_count": 21,
   "id": "af3ba3f2",
   "metadata": {},
   "outputs": [],
   "source": [
    "dataset = pd.read_csv('data/input/sts_simcse_test_input.csv')"
   ]
  },
  {
   "cell_type": "markdown",
   "id": "746af3e7",
   "metadata": {},
   "source": [
    "### Process"
   ]
  },
  {
   "cell_type": "code",
   "execution_count": 74,
   "id": "b968e6c1",
   "metadata": {},
   "outputs": [],
   "source": [
    "sentence1_values = [str(i) for i in list(dataset['sentence1'].values)]\n",
    "sentence2_values = [str(i) for i in list(dataset['sentence2'].values)]"
   ]
  },
  {
   "cell_type": "code",
   "execution_count": 73,
   "id": "5d6a612e",
   "metadata": {},
   "outputs": [
    {
     "name": "stderr",
     "output_type": "stream",
     "text": [
      "100%|█████████████████████████████████████████████████████████████████████████████████████████████████████████████████████████████████████████████████████████████████████████████████████████████████████████████████████████████████| 22/22 [00:00<00:00, 31.26it/s]\n"
     ]
    }
   ],
   "source": [
    "sentence1_embedding = model.encode(sentence1_values)"
   ]
  },
  {
   "cell_type": "code",
   "execution_count": 80,
   "id": "72cd8736",
   "metadata": {},
   "outputs": [
    {
     "name": "stderr",
     "output_type": "stream",
     "text": [
      "100%|█████████████████████████████████████████████████████████████████████████████████████████████████████████████████████████████████████████████████████████████████████████████████████████████████████████████████████████████████| 22/22 [00:00<00:00, 30.79it/s]\n"
     ]
    }
   ],
   "source": [
    "sentence2_embedding = model.encode(sentence2_values)"
   ]
  },
  {
   "cell_type": "code",
   "execution_count": 106,
   "id": "07b2c737",
   "metadata": {},
   "outputs": [
    {
     "data": {
      "text/plain": [
       "768"
      ]
     },
     "execution_count": 106,
     "metadata": {},
     "output_type": "execute_result"
    }
   ],
   "source": [
    "len(sentence2_embedding[0])"
   ]
  },
  {
   "cell_type": "code",
   "execution_count": 131,
   "id": "07e2fb37",
   "metadata": {},
   "outputs": [],
   "source": [
    "sts_clutser_embeddings = []\n",
    "\n",
    "# Loop both embeddings and enter them in the new array\n",
    "for i in range(dataset.shape[0]):\n",
    "    sts_clutser_embeddings.append([i,1,np.array(sentence1_embedding[i])])\n",
    "    sts_clutser_embeddings.append([i,2,np.array(sentence2_embedding[i])])"
   ]
  },
  {
   "cell_type": "code",
   "execution_count": 135,
   "id": "169722a2",
   "metadata": {},
   "outputs": [],
   "source": [
    "sts_cluster_input = pd.DataFrame(sts_clutser_embeddings)\n",
    "sts_cluster_input.columns = ['row','sentence number','sentence embedding']"
   ]
  },
  {
   "cell_type": "code",
   "execution_count": 137,
   "id": "5a18b8bc",
   "metadata": {},
   "outputs": [
    {
     "data": {
      "text/html": [
       "<div>\n",
       "<style scoped>\n",
       "    .dataframe tbody tr th:only-of-type {\n",
       "        vertical-align: middle;\n",
       "    }\n",
       "\n",
       "    .dataframe tbody tr th {\n",
       "        vertical-align: top;\n",
       "    }\n",
       "\n",
       "    .dataframe thead th {\n",
       "        text-align: right;\n",
       "    }\n",
       "</style>\n",
       "<table border=\"1\" class=\"dataframe\">\n",
       "  <thead>\n",
       "    <tr style=\"text-align: right;\">\n",
       "      <th></th>\n",
       "      <th>row</th>\n",
       "      <th>sentence number</th>\n",
       "      <th>sentence embedding</th>\n",
       "    </tr>\n",
       "  </thead>\n",
       "  <tbody>\n",
       "    <tr>\n",
       "      <th>0</th>\n",
       "      <td>0</td>\n",
       "      <td>1</td>\n",
       "      <td>[0.018946992, -0.033017647, 0.0584192, 0.03188...</td>\n",
       "    </tr>\n",
       "    <tr>\n",
       "      <th>1</th>\n",
       "      <td>0</td>\n",
       "      <td>2</td>\n",
       "      <td>[0.022349114, -0.019896414, 0.068644755, 0.016...</td>\n",
       "    </tr>\n",
       "    <tr>\n",
       "      <th>2</th>\n",
       "      <td>1</td>\n",
       "      <td>1</td>\n",
       "      <td>[-0.0063565667, 0.038259946, 0.025764938, 0.00...</td>\n",
       "    </tr>\n",
       "    <tr>\n",
       "      <th>3</th>\n",
       "      <td>1</td>\n",
       "      <td>2</td>\n",
       "      <td>[0.00076834724, 0.009331502, 0.037513718, 0.02...</td>\n",
       "    </tr>\n",
       "    <tr>\n",
       "      <th>4</th>\n",
       "      <td>2</td>\n",
       "      <td>1</td>\n",
       "      <td>[0.01108482, -0.006460412, 0.05317341, 0.02150...</td>\n",
       "    </tr>\n",
       "    <tr>\n",
       "      <th>...</th>\n",
       "      <td>...</td>\n",
       "      <td>...</td>\n",
       "      <td>...</td>\n",
       "    </tr>\n",
       "    <tr>\n",
       "      <th>2753</th>\n",
       "      <td>1376</td>\n",
       "      <td>2</td>\n",
       "      <td>[0.030478576, 0.024279015, 0.060241528, -0.030...</td>\n",
       "    </tr>\n",
       "    <tr>\n",
       "      <th>2754</th>\n",
       "      <td>1377</td>\n",
       "      <td>1</td>\n",
       "      <td>[-0.080806784, 0.019064022, 0.029170275, -0.02...</td>\n",
       "    </tr>\n",
       "    <tr>\n",
       "      <th>2755</th>\n",
       "      <td>1377</td>\n",
       "      <td>2</td>\n",
       "      <td>[-0.014855488, 0.072309084, 0.027893208, -0.04...</td>\n",
       "    </tr>\n",
       "    <tr>\n",
       "      <th>2756</th>\n",
       "      <td>1378</td>\n",
       "      <td>1</td>\n",
       "      <td>[0.066184744, -0.042154677, -0.013624112, 0.04...</td>\n",
       "    </tr>\n",
       "    <tr>\n",
       "      <th>2757</th>\n",
       "      <td>1378</td>\n",
       "      <td>2</td>\n",
       "      <td>[0.0010377889, -0.0362131, 0.0050659985, 0.040...</td>\n",
       "    </tr>\n",
       "  </tbody>\n",
       "</table>\n",
       "<p>2758 rows × 3 columns</p>\n",
       "</div>"
      ],
      "text/plain": [
       "       row  sentence number                                 sentence embedding\n",
       "0        0                1  [0.018946992, -0.033017647, 0.0584192, 0.03188...\n",
       "1        0                2  [0.022349114, -0.019896414, 0.068644755, 0.016...\n",
       "2        1                1  [-0.0063565667, 0.038259946, 0.025764938, 0.00...\n",
       "3        1                2  [0.00076834724, 0.009331502, 0.037513718, 0.02...\n",
       "4        2                1  [0.01108482, -0.006460412, 0.05317341, 0.02150...\n",
       "...    ...              ...                                                ...\n",
       "2753  1376                2  [0.030478576, 0.024279015, 0.060241528, -0.030...\n",
       "2754  1377                1  [-0.080806784, 0.019064022, 0.029170275, -0.02...\n",
       "2755  1377                2  [-0.014855488, 0.072309084, 0.027893208, -0.04...\n",
       "2756  1378                1  [0.066184744, -0.042154677, -0.013624112, 0.04...\n",
       "2757  1378                2  [0.0010377889, -0.0362131, 0.0050659985, 0.040...\n",
       "\n",
       "[2758 rows x 3 columns]"
      ]
     },
     "execution_count": 137,
     "metadata": {},
     "output_type": "execute_result"
    }
   ],
   "source": [
    "sts_cluster_input"
   ]
  },
  {
   "cell_type": "code",
   "execution_count": 141,
   "id": "697d9cd5",
   "metadata": {},
   "outputs": [],
   "source": [
    "# Check folder exists\n",
    "Path('./data/output').mkdir(parents=True, exist_ok=True)\n",
    "\n",
    "# Export pandas dataframe to .csv\n",
    "sts_cluster_input.to_csv('data/output/sts_cluster_input.csv')"
   ]
  },
  {
   "cell_type": "code",
   "execution_count": null,
   "id": "dcc866fa",
   "metadata": {},
   "outputs": [],
   "source": []
  }
 ],
 "metadata": {
  "kernelspec": {
   "display_name": "Python 3 (ipykernel)",
   "language": "python",
   "name": "python3"
  },
  "language_info": {
   "codemirror_mode": {
    "name": "ipython",
    "version": 3
   },
   "file_extension": ".py",
   "mimetype": "text/x-python",
   "name": "python",
   "nbconvert_exporter": "python",
   "pygments_lexer": "ipython3",
   "version": "3.9.13"
  }
 },
 "nbformat": 4,
 "nbformat_minor": 5
}
