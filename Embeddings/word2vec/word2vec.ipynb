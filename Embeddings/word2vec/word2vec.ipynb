{
 "cells": [
  {
   "cell_type": "code",
   "execution_count": 118,
   "id": "6b5873b1",
   "metadata": {},
   "outputs": [],
   "source": [
    "import pandas as pd\n",
    "from gensim.models import Word2Vec\n",
    "import ast"
   ]
  },
  {
   "cell_type": "code",
   "execution_count": 119,
   "id": "d2cf4742",
   "metadata": {},
   "outputs": [],
   "source": [
    "corpus = []\n",
    "with open(\"data/sentences_text_clean_data.txt\") as input_file:\n",
    "    for line in input_file:\n",
    "        corpus.append(ast.literal_eval(line.split(\"\\n\")[0]))"
   ]
  },
  {
   "cell_type": "code",
   "execution_count": 133,
   "id": "9aa4dd8b",
   "metadata": {},
   "outputs": [],
   "source": [
    "epoch_count = 20"
   ]
  },
  {
   "cell_type": "code",
   "execution_count": 134,
   "id": "fe6d7a0e",
   "metadata": {},
   "outputs": [],
   "source": [
    "model = Word2Vec(\n",
    "    corpus,\n",
    "    min_count=1,\n",
    "    vector_size=256,\n",
    "    epochs=epoch_count\n",
    ")"
   ]
  },
  {
   "cell_type": "code",
   "execution_count": 135,
   "id": "ab35e949",
   "metadata": {},
   "outputs": [],
   "source": [
    "# Write the vectors for each word to a .tsv file for visualization\n",
    "pd.DataFrame(model.wv.vectors).to_csv(\n",
    "    f'data/model_word2vec{epoch_count}_data_dental_vectors.tsv',\n",
    "    sep=\"\\t\",header=False,index=False)"
   ]
  },
  {
   "cell_type": "code",
   "execution_count": 136,
   "id": "92534f06",
   "metadata": {},
   "outputs": [],
   "source": [
    "# Write the words to a .tsv file for visualization\n",
    "pd.DataFrame(model.wv.index_to_key).to_csv(\n",
    "    f'data/model_word2vec{epoch_count}_data_dental_words.tsv',\n",
    "    sep=\"\\t\",header=False,index=False)"
   ]
  },
  {
   "cell_type": "code",
   "execution_count": null,
   "id": "28208156",
   "metadata": {},
   "outputs": [],
   "source": []
  },
  {
   "cell_type": "code",
   "execution_count": null,
   "id": "ba66297f",
   "metadata": {},
   "outputs": [],
   "source": []
  }
 ],
 "metadata": {
  "kernelspec": {
   "display_name": "Python 3 (ipykernel)",
   "language": "python",
   "name": "python3"
  },
  "language_info": {
   "codemirror_mode": {
    "name": "ipython",
    "version": 3
   },
   "file_extension": ".py",
   "mimetype": "text/x-python",
   "name": "python",
   "nbconvert_exporter": "python",
   "pygments_lexer": "ipython3",
   "version": "3.9.13"
  }
 },
 "nbformat": 4,
 "nbformat_minor": 5
}
